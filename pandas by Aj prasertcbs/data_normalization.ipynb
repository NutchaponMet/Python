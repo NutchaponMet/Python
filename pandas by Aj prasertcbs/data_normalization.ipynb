{
 "cells": [
  {
   "cell_type": "markdown",
   "id": "59186d40",
   "metadata": {},
   "source": [
    "# Data normalization \n",
    "\n",
    "`1. Simplr Freture scaling`\n",
    "$$ x_{new} = \\frac{x_{old}}{x_{max}} $$\n",
    "\n",
    "`2. Min-Max`\n",
    "$$ x_{new} = \\frac{x_{old} - x_{min}}{x_{max} - x_{min}} $$\n",
    "\n",
    "`3. Z-score`\n",
    "$$ x_{new} = \\frac{x_{old}-\\mu}{\\sigma} $$"
   ]
  }
 ],
 "metadata": {
  "kernelspec": {
   "display_name": "Python 3 (ipykernel)",
   "language": "python",
   "name": "python3"
  },
  "language_info": {
   "codemirror_mode": {
    "name": "ipython",
    "version": 3
   },
   "file_extension": ".py",
   "mimetype": "text/x-python",
   "name": "python",
   "nbconvert_exporter": "python",
   "pygments_lexer": "ipython3",
   "version": "3.10.8"
  }
 },
 "nbformat": 4,
 "nbformat_minor": 5
}
