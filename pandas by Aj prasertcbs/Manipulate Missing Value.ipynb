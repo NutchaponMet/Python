{
 "cells": [
  {
   "cell_type": "markdown",
   "id": "f8519296",
   "metadata": {},
   "source": [
    "# Impute/Replace missing values"
   ]
  },
  {
   "cell_type": "code",
   "execution_count": 1,
   "id": "16e3c0ab",
   "metadata": {},
   "outputs": [],
   "source": [
    "import pandas as pd\n",
    "import numpy as np"
   ]
  },
  {
   "cell_type": "code",
   "execution_count": 2,
   "id": "98cf450e",
   "metadata": {},
   "outputs": [
    {
     "name": "stdout",
     "output_type": "stream",
     "text": [
      "pandas version: 1.5.0\n",
      "numpy version: 1.23.3\n"
     ]
    }
   ],
   "source": [
    "print(f'pandas version: {pd.__version__}')\n",
    "print(f'numpy version: {np.__version__}')"
   ]
  },
  {
   "cell_type": "code",
   "execution_count": 3,
   "id": "49154ca4",
   "metadata": {},
   "outputs": [],
   "source": [
    "df=pd.read_csv('https://github.com/prasertcbs/tutorial/raw/master/msleep.csv')\n",
    "df=df.sample(20, random_state=123)"
   ]
  },
  {
   "cell_type": "code",
   "execution_count": 4,
   "id": "e0b87827",
   "metadata": {},
   "outputs": [
    {
     "name": "stdout",
     "output_type": "stream",
     "text": [
      "<class 'pandas.core.frame.DataFrame'>\n",
      "Int64Index: 20 entries, 69 to 81\n",
      "Data columns (total 11 columns):\n",
      " #   Column        Non-Null Count  Dtype  \n",
      "---  ------        --------------  -----  \n",
      " 0   name          20 non-null     object \n",
      " 1   genus         20 non-null     object \n",
      " 2   vore          18 non-null     object \n",
      " 3   order         20 non-null     object \n",
      " 4   conservation  14 non-null     object \n",
      " 5   sleep_total   20 non-null     float64\n",
      " 6   sleep_rem     14 non-null     float64\n",
      " 7   sleep_cycle   9 non-null      float64\n",
      " 8   awake         20 non-null     float64\n",
      " 9   brainwt       16 non-null     float64\n",
      " 10  bodywt        20 non-null     float64\n",
      "dtypes: float64(6), object(5)\n",
      "memory usage: 1.9+ KB\n"
     ]
    }
   ],
   "source": [
    "df.info()"
   ]
  },
  {
   "cell_type": "markdown",
   "id": "55c81a41",
   "metadata": {},
   "source": [
    "### Check NA in 'vore' column"
   ]
  },
  {
   "cell_type": "code",
   "execution_count": 5,
   "id": "018db7e9",
   "metadata": {},
   "outputs": [
    {
     "data": {
      "text/html": [
       "<div>\n",
       "<style scoped>\n",
       "    .dataframe tbody tr th:only-of-type {\n",
       "        vertical-align: middle;\n",
       "    }\n",
       "\n",
       "    .dataframe tbody tr th {\n",
       "        vertical-align: top;\n",
       "    }\n",
       "\n",
       "    .dataframe thead th {\n",
       "        text-align: right;\n",
       "    }\n",
       "</style>\n",
       "<table border=\"1\" class=\"dataframe\">\n",
       "  <thead>\n",
       "    <tr style=\"text-align: right;\">\n",
       "      <th></th>\n",
       "      <th>name</th>\n",
       "      <th>genus</th>\n",
       "      <th>vore</th>\n",
       "      <th>order</th>\n",
       "      <th>conservation</th>\n",
       "      <th>sleep_total</th>\n",
       "      <th>sleep_rem</th>\n",
       "      <th>sleep_cycle</th>\n",
       "      <th>awake</th>\n",
       "      <th>brainwt</th>\n",
       "      <th>bodywt</th>\n",
       "    </tr>\n",
       "  </thead>\n",
       "  <tbody>\n",
       "    <tr>\n",
       "      <th>62</th>\n",
       "      <td>Rock hyrax</td>\n",
       "      <td>Procavia</td>\n",
       "      <td>NaN</td>\n",
       "      <td>Hyracoidea</td>\n",
       "      <td>lc</td>\n",
       "      <td>5.4</td>\n",
       "      <td>0.5</td>\n",
       "      <td>NaN</td>\n",
       "      <td>18.6</td>\n",
       "      <td>0.02100</td>\n",
       "      <td>3.600</td>\n",
       "    </tr>\n",
       "    <tr>\n",
       "      <th>72</th>\n",
       "      <td>Musk shrew</td>\n",
       "      <td>Suncus</td>\n",
       "      <td>NaN</td>\n",
       "      <td>Soricomorpha</td>\n",
       "      <td>NaN</td>\n",
       "      <td>12.8</td>\n",
       "      <td>2.0</td>\n",
       "      <td>0.183333</td>\n",
       "      <td>11.2</td>\n",
       "      <td>0.00033</td>\n",
       "      <td>0.048</td>\n",
       "    </tr>\n",
       "  </tbody>\n",
       "</table>\n",
       "</div>"
      ],
      "text/plain": [
       "          name     genus vore         order conservation  sleep_total  \\\n",
       "62  Rock hyrax  Procavia  NaN    Hyracoidea           lc          5.4   \n",
       "72  Musk shrew    Suncus  NaN  Soricomorpha          NaN         12.8   \n",
       "\n",
       "    sleep_rem  sleep_cycle  awake  brainwt  bodywt  \n",
       "62        0.5          NaN   18.6  0.02100   3.600  \n",
       "72        2.0     0.183333   11.2  0.00033   0.048  "
      ]
     },
     "execution_count": 5,
     "metadata": {},
     "output_type": "execute_result"
    }
   ],
   "source": [
    "df[df.vore.isna()]"
   ]
  },
  {
   "cell_type": "markdown",
   "id": "4f125093",
   "metadata": {},
   "source": [
    "### scikit-learn: SimpleImputer"
   ]
  },
  {
   "cell_type": "code",
   "execution_count": 7,
   "id": "8847636b",
   "metadata": {},
   "outputs": [],
   "source": [
    "from sklearn.impute import SimpleImputer"
   ]
  },
  {
   "cell_type": "code",
   "execution_count": 8,
   "id": "cf6f62ea",
   "metadata": {
    "scrolled": true
   },
   "outputs": [
    {
     "data": {
      "text/plain": [
       "array([['herbi'],\n",
       "       ['herbi'],\n",
       "       ['herbi'],\n",
       "       ['omni'],\n",
       "       ['herbi'],\n",
       "       ['herbi'],\n",
       "       ['omni'],\n",
       "       ['omni'],\n",
       "       ['herbi'],\n",
       "       ['carni'],\n",
       "       ['carni'],\n",
       "       ['carni'],\n",
       "       ['herbi'],\n",
       "       ['herbi'],\n",
       "       ['carni'],\n",
       "       ['herbi'],\n",
       "       ['herbi'],\n",
       "       ['omni'],\n",
       "       ['herbi'],\n",
       "       ['carni']], dtype=object)"
      ]
     },
     "execution_count": 8,
     "metadata": {},
     "output_type": "execute_result"
    }
   ],
   "source": [
    "imp = SimpleImputer(strategy='most_frequent')\n",
    "imp.fit_transform(df[['vore']])"
   ]
  },
  {
   "cell_type": "code",
   "execution_count": 9,
   "id": "ad7641ef",
   "metadata": {
    "scrolled": true
   },
   "outputs": [
    {
     "data": {
      "text/html": [
       "<div>\n",
       "<style scoped>\n",
       "    .dataframe tbody tr th:only-of-type {\n",
       "        vertical-align: middle;\n",
       "    }\n",
       "\n",
       "    .dataframe tbody tr th {\n",
       "        vertical-align: top;\n",
       "    }\n",
       "\n",
       "    .dataframe thead th {\n",
       "        text-align: right;\n",
       "    }\n",
       "</style>\n",
       "<table border=\"1\" class=\"dataframe\">\n",
       "  <thead>\n",
       "    <tr style=\"text-align: right;\">\n",
       "      <th></th>\n",
       "      <th>vore</th>\n",
       "    </tr>\n",
       "  </thead>\n",
       "  <tbody>\n",
       "    <tr>\n",
       "      <th>69</th>\n",
       "      <td>herbi</td>\n",
       "    </tr>\n",
       "    <tr>\n",
       "      <th>75</th>\n",
       "      <td>herbi</td>\n",
       "    </tr>\n",
       "    <tr>\n",
       "      <th>4</th>\n",
       "      <td>herbi</td>\n",
       "    </tr>\n",
       "    <tr>\n",
       "      <th>78</th>\n",
       "      <td>omni</td>\n",
       "    </tr>\n",
       "    <tr>\n",
       "      <th>29</th>\n",
       "      <td>herbi</td>\n",
       "    </tr>\n",
       "    <tr>\n",
       "      <th>62</th>\n",
       "      <td>NaN</td>\n",
       "    </tr>\n",
       "    <tr>\n",
       "      <th>24</th>\n",
       "      <td>omni</td>\n",
       "    </tr>\n",
       "    <tr>\n",
       "      <th>37</th>\n",
       "      <td>omni</td>\n",
       "    </tr>\n",
       "    <tr>\n",
       "      <th>76</th>\n",
       "      <td>herbi</td>\n",
       "    </tr>\n",
       "    <tr>\n",
       "      <th>31</th>\n",
       "      <td>carni</td>\n",
       "    </tr>\n",
       "    <tr>\n",
       "      <th>8</th>\n",
       "      <td>carni</td>\n",
       "    </tr>\n",
       "    <tr>\n",
       "      <th>44</th>\n",
       "      <td>carni</td>\n",
       "    </tr>\n",
       "    <tr>\n",
       "      <th>9</th>\n",
       "      <td>herbi</td>\n",
       "    </tr>\n",
       "    <tr>\n",
       "      <th>71</th>\n",
       "      <td>herbi</td>\n",
       "    </tr>\n",
       "    <tr>\n",
       "      <th>59</th>\n",
       "      <td>carni</td>\n",
       "    </tr>\n",
       "    <tr>\n",
       "      <th>70</th>\n",
       "      <td>herbi</td>\n",
       "    </tr>\n",
       "    <tr>\n",
       "      <th>23</th>\n",
       "      <td>herbi</td>\n",
       "    </tr>\n",
       "    <tr>\n",
       "      <th>19</th>\n",
       "      <td>omni</td>\n",
       "    </tr>\n",
       "    <tr>\n",
       "      <th>72</th>\n",
       "      <td>NaN</td>\n",
       "    </tr>\n",
       "    <tr>\n",
       "      <th>81</th>\n",
       "      <td>carni</td>\n",
       "    </tr>\n",
       "  </tbody>\n",
       "</table>\n",
       "</div>"
      ],
      "text/plain": [
       "     vore\n",
       "69  herbi\n",
       "75  herbi\n",
       "4   herbi\n",
       "78   omni\n",
       "29  herbi\n",
       "62    NaN\n",
       "24   omni\n",
       "37   omni\n",
       "76  herbi\n",
       "31  carni\n",
       "8   carni\n",
       "44  carni\n",
       "9   herbi\n",
       "71  herbi\n",
       "59  carni\n",
       "70  herbi\n",
       "23  herbi\n",
       "19   omni\n",
       "72    NaN\n",
       "81  carni"
      ]
     },
     "execution_count": 9,
     "metadata": {},
     "output_type": "execute_result"
    }
   ],
   "source": [
    "df[['vore']]"
   ]
  },
  {
   "cell_type": "code",
   "execution_count": 10,
   "id": "79e8484b",
   "metadata": {},
   "outputs": [
    {
     "data": {
      "text/html": [
       "<div>\n",
       "<style scoped>\n",
       "    .dataframe tbody tr th:only-of-type {\n",
       "        vertical-align: middle;\n",
       "    }\n",
       "\n",
       "    .dataframe tbody tr th {\n",
       "        vertical-align: top;\n",
       "    }\n",
       "\n",
       "    .dataframe thead th {\n",
       "        text-align: right;\n",
       "    }\n",
       "</style>\n",
       "<table border=\"1\" class=\"dataframe\">\n",
       "  <thead>\n",
       "    <tr style=\"text-align: right;\">\n",
       "      <th></th>\n",
       "      <th>name</th>\n",
       "      <th>vore</th>\n",
       "      <th>vore2</th>\n",
       "    </tr>\n",
       "  </thead>\n",
       "  <tbody>\n",
       "    <tr>\n",
       "      <th>62</th>\n",
       "      <td>Rock hyrax</td>\n",
       "      <td>NaN</td>\n",
       "      <td>herbi</td>\n",
       "    </tr>\n",
       "    <tr>\n",
       "      <th>72</th>\n",
       "      <td>Musk shrew</td>\n",
       "      <td>NaN</td>\n",
       "      <td>herbi</td>\n",
       "    </tr>\n",
       "  </tbody>\n",
       "</table>\n",
       "</div>"
      ],
      "text/plain": [
       "          name vore  vore2\n",
       "62  Rock hyrax  NaN  herbi\n",
       "72  Musk shrew  NaN  herbi"
      ]
     },
     "execution_count": 10,
     "metadata": {},
     "output_type": "execute_result"
    }
   ],
   "source": [
    "df['vore2']=imp.fit_transform(df[['vore']])\n",
    "df[df.vore.isna()][['name','vore','vore2']]"
   ]
  },
  {
   "cell_type": "code",
   "execution_count": null,
   "id": "8ca3c995",
   "metadata": {},
   "outputs": [],
   "source": []
  }
 ],
 "metadata": {
  "kernelspec": {
   "display_name": "Python 3 (ipykernel)",
   "language": "python",
   "name": "python3"
  },
  "language_info": {
   "codemirror_mode": {
    "name": "ipython",
    "version": 3
   },
   "file_extension": ".py",
   "mimetype": "text/x-python",
   "name": "python",
   "nbconvert_exporter": "python",
   "pygments_lexer": "ipython3",
   "version": "3.10.9"
  }
 },
 "nbformat": 4,
 "nbformat_minor": 5
}
