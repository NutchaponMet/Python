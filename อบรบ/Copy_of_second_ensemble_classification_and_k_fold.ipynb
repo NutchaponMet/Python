{
  "nbformat": 4,
  "nbformat_minor": 0,
  "metadata": {
    "colab": {
      "provenance": [],
      "collapsed_sections": []
    },
    "kernelspec": {
      "name": "python3",
      "display_name": "Python 3"
    },
    "language_info": {
      "name": "python"
    }
  },
  "cells": [
    {
      "cell_type": "markdown",
      "source": [
        "#Mlxtend (Machine Learning Extensions) \n",
        "\n",
        "is a Python library of useful tools for the day-to-day data science tasks\n",
        "\n",
        "Source: http://rasbt.github.io/mlxtend/user_guide/classifier/EnsembleVoteClassifier/"
      ],
      "metadata": {
        "id": "-1pKazUi42f2"
      }
    },
    {
      "cell_type": "markdown",
      "source": [
        "## Data Understanding"
      ],
      "metadata": {
        "id": "_JMLt_Og6NIA"
      }
    },
    {
      "cell_type": "code",
      "execution_count": null,
      "metadata": {
        "id": "riX0BJxF4z-K"
      },
      "outputs": [],
      "source": [
        "# load ข้อมูลดอก iris จาก sklearn.datasets\n",
        "from sklearn.datasets import load_iris\n",
        "\n",
        "iris = load_iris()                    \n",
        "\n",
        "iris"
      ]
    },
    {
      "cell_type": "code",
      "source": [
        "# ตรวจสอบชนิดของตัวแปร iris\n",
        "type(iris)"
      ],
      "metadata": {
        "id": "Cf4irDeE43OC",
        "colab": {
          "base_uri": "https://localhost:8080/"
        },
        "outputId": "3d5d8898-685d-4d35-b762-5a7db0aa0192"
      },
      "execution_count": 2,
      "outputs": [
        {
          "output_type": "execute_result",
          "data": {
            "text/plain": [
              "sklearn.utils.Bunch"
            ]
          },
          "metadata": {},
          "execution_count": 2
        }
      ]
    },
    {
      "cell_type": "code",
      "source": [
        "# ตรวจสอบดูว่ามี key ที่จัดเก็บข้อมูลอะไรบ้าง?\n",
        "iris.keys()"
      ],
      "metadata": {
        "id": "hujfYKSx5L3L",
        "colab": {
          "base_uri": "https://localhost:8080/"
        },
        "outputId": "d8eb648b-06bd-4045-c9b5-8209ce482a70"
      },
      "execution_count": 3,
      "outputs": [
        {
          "output_type": "execute_result",
          "data": {
            "text/plain": [
              "dict_keys(['data', 'target', 'frame', 'target_names', 'DESCR', 'feature_names', 'filename', 'data_module'])"
            ]
          },
          "metadata": {},
          "execution_count": 3
        }
      ]
    },
    {
      "cell_type": "code",
      "source": [
        "# แสดงผลคำอธิบาย ('DESCR') ของ iris\n",
        "print(iris.DESCR)"
      ],
      "metadata": {
        "id": "DODG67qu5PHU",
        "colab": {
          "base_uri": "https://localhost:8080/"
        },
        "outputId": "02912afb-27d3-47f3-a6e1-4c635522b5f3"
      },
      "execution_count": 6,
      "outputs": [
        {
          "output_type": "stream",
          "name": "stdout",
          "text": [
            ".. _iris_dataset:\n",
            "\n",
            "Iris plants dataset\n",
            "--------------------\n",
            "\n",
            "**Data Set Characteristics:**\n",
            "\n",
            "    :Number of Instances: 150 (50 in each of three classes)\n",
            "    :Number of Attributes: 4 numeric, predictive attributes and the class\n",
            "    :Attribute Information:\n",
            "        - sepal length in cm\n",
            "        - sepal width in cm\n",
            "        - petal length in cm\n",
            "        - petal width in cm\n",
            "        - class:\n",
            "                - Iris-Setosa\n",
            "                - Iris-Versicolour\n",
            "                - Iris-Virginica\n",
            "                \n",
            "    :Summary Statistics:\n",
            "\n",
            "    ============== ==== ==== ======= ===== ====================\n",
            "                    Min  Max   Mean    SD   Class Correlation\n",
            "    ============== ==== ==== ======= ===== ====================\n",
            "    sepal length:   4.3  7.9   5.84   0.83    0.7826\n",
            "    sepal width:    2.0  4.4   3.05   0.43   -0.4194\n",
            "    petal length:   1.0  6.9   3.76   1.76    0.9490  (high!)\n",
            "    petal width:    0.1  2.5   1.20   0.76    0.9565  (high!)\n",
            "    ============== ==== ==== ======= ===== ====================\n",
            "\n",
            "    :Missing Attribute Values: None\n",
            "    :Class Distribution: 33.3% for each of 3 classes.\n",
            "    :Creator: R.A. Fisher\n",
            "    :Donor: Michael Marshall (MARSHALL%PLU@io.arc.nasa.gov)\n",
            "    :Date: July, 1988\n",
            "\n",
            "The famous Iris database, first used by Sir R.A. Fisher. The dataset is taken\n",
            "from Fisher's paper. Note that it's the same as in R, but not as in the UCI\n",
            "Machine Learning Repository, which has two wrong data points.\n",
            "\n",
            "This is perhaps the best known database to be found in the\n",
            "pattern recognition literature.  Fisher's paper is a classic in the field and\n",
            "is referenced frequently to this day.  (See Duda & Hart, for example.)  The\n",
            "data set contains 3 classes of 50 instances each, where each class refers to a\n",
            "type of iris plant.  One class is linearly separable from the other 2; the\n",
            "latter are NOT linearly separable from each other.\n",
            "\n",
            ".. topic:: References\n",
            "\n",
            "   - Fisher, R.A. \"The use of multiple measurements in taxonomic problems\"\n",
            "     Annual Eugenics, 7, Part II, 179-188 (1936); also in \"Contributions to\n",
            "     Mathematical Statistics\" (John Wiley, NY, 1950).\n",
            "   - Duda, R.O., & Hart, P.E. (1973) Pattern Classification and Scene Analysis.\n",
            "     (Q327.D83) John Wiley & Sons.  ISBN 0-471-22361-1.  See page 218.\n",
            "   - Dasarathy, B.V. (1980) \"Nosing Around the Neighborhood: A New System\n",
            "     Structure and Classification Rule for Recognition in Partially Exposed\n",
            "     Environments\".  IEEE Transactions on Pattern Analysis and Machine\n",
            "     Intelligence, Vol. PAMI-2, No. 1, 67-71.\n",
            "   - Gates, G.W. (1972) \"The Reduced Nearest Neighbor Rule\".  IEEE Transactions\n",
            "     on Information Theory, May 1972, 431-433.\n",
            "   - See also: 1988 MLC Proceedings, 54-64.  Cheeseman et al\"s AUTOCLASS II\n",
            "     conceptual clustering system finds 3 classes in the data.\n",
            "   - Many, many more ...\n"
          ]
        }
      ]
    },
    {
      "cell_type": "code",
      "source": [
        "# แสดงชื่อของคุณลักษณะ iris\n",
        "iris['feature_names']"
      ],
      "metadata": {
        "id": "OTPi8BwS56CN",
        "colab": {
          "base_uri": "https://localhost:8080/"
        },
        "outputId": "e4cd9090-0dea-4aec-fd2f-26227b918254"
      },
      "execution_count": 7,
      "outputs": [
        {
          "output_type": "execute_result",
          "data": {
            "text/plain": [
              "['sepal length (cm)',\n",
              " 'sepal width (cm)',\n",
              " 'petal length (cm)',\n",
              " 'petal width (cm)']"
            ]
          },
          "metadata": {},
          "execution_count": 7
        }
      ]
    },
    {
      "cell_type": "code",
      "source": [
        "# แสดงค่าเป้าหมาย (target) ของดอกทั้ง 3 ชนิด\n",
        "iris['target']"
      ],
      "metadata": {
        "id": "ITok3sOK6BL1",
        "colab": {
          "base_uri": "https://localhost:8080/"
        },
        "outputId": "02c9b445-4314-4b3c-9389-4742e1da8275"
      },
      "execution_count": 8,
      "outputs": [
        {
          "output_type": "execute_result",
          "data": {
            "text/plain": [
              "array([0, 0, 0, 0, 0, 0, 0, 0, 0, 0, 0, 0, 0, 0, 0, 0, 0, 0, 0, 0, 0, 0,\n",
              "       0, 0, 0, 0, 0, 0, 0, 0, 0, 0, 0, 0, 0, 0, 0, 0, 0, 0, 0, 0, 0, 0,\n",
              "       0, 0, 0, 0, 0, 0, 1, 1, 1, 1, 1, 1, 1, 1, 1, 1, 1, 1, 1, 1, 1, 1,\n",
              "       1, 1, 1, 1, 1, 1, 1, 1, 1, 1, 1, 1, 1, 1, 1, 1, 1, 1, 1, 1, 1, 1,\n",
              "       1, 1, 1, 1, 1, 1, 1, 1, 1, 1, 1, 1, 2, 2, 2, 2, 2, 2, 2, 2, 2, 2,\n",
              "       2, 2, 2, 2, 2, 2, 2, 2, 2, 2, 2, 2, 2, 2, 2, 2, 2, 2, 2, 2, 2, 2,\n",
              "       2, 2, 2, 2, 2, 2, 2, 2, 2, 2, 2, 2, 2, 2, 2, 2, 2, 2])"
            ]
          },
          "metadata": {},
          "execution_count": 8
        }
      ]
    },
    {
      "cell_type": "code",
      "source": [
        "# เตรียมข้อมูลคุณลักษณะ 2 ตัว คือ sepal width (cm), petal length (cm)\n",
        "# จัดเก็บไว้ใน X กับ y\n",
        "# [sepal width (cm), petal length (cm)]\n",
        "\n",
        "X, y = iris.data[:, 1:3], iris['target']\n"
      ],
      "metadata": {
        "id": "o0rAT_Qi97Go"
      },
      "execution_count": 13,
      "outputs": []
    },
    {
      "cell_type": "markdown",
      "source": [
        "## Create Model"
      ],
      "metadata": {
        "id": "_jarPvRj6Jz_"
      }
    },
    {
      "cell_type": "code",
      "source": [
        "# นำเข้า Library sklearn.model_selection\n",
        "# นำเข้า LogisticRegression จาก sklearn.linear_model\n",
        "# นำเข้า GaussianNB จาก sklearn.naive_bayes\n",
        "# นำเข้า RandomForestClassifier จาก sklearn.ensemble\n",
        "\n",
        "# สร้างแบบจำลอง Logistic Regression\n",
        "# สร้างแบบจำลอง Gaussian Naive Bayes\n",
        "# สร้างแบบจำลอง Random Forest\n",
        "\n",
        "from sklearn import model_selection\n",
        "from sklearn.linear_model import LogisticRegression\n",
        "from sklearn.naive_bayes import GaussianNB\n",
        "from sklearn.ensemble import RandomForestClassifier\n",
        "\n",
        "clf1 = LogisticRegression(random_state=1)\n",
        "clf2 = GaussianNB()\n",
        "clf3 = RandomForestClassifier(random_state=1)\n",
        "\n"
      ],
      "metadata": {
        "id": "V83mAULo6CQS"
      },
      "execution_count": 15,
      "outputs": []
    },
    {
      "cell_type": "markdown",
      "source": [
        "### K-Fold Cross Validation"
      ],
      "metadata": {
        "id": "qB4kKUg1650k"
      }
    },
    {
      "cell_type": "code",
      "source": [
        "# วนรอบ เพื่อให้แต่ละ Classifier ได้ทำการเรียนรู้ ด้วยการแบ่งข้อมูลออกเป็น 5 ส่วน\n",
        "print('5-Fold cross validation')\n",
        "\n",
        "labels =['Logistic', 'Bayes', 'Random Forest']\n",
        "\n",
        "for clf, label in zip([clf1,clf2,clf3],labels):\n",
        "  scores = model_selection.cross_val_score(clf, X, y, cv=5, scoring='accuracy')\n",
        "  print('Accuracy: %0.2f (+/- %0.2f) [%s]' %(scores.mean(), scores.std(), label))"
      ],
      "metadata": {
        "id": "yL9CHqB_6_XF",
        "colab": {
          "base_uri": "https://localhost:8080/"
        },
        "outputId": "baf964de-7edc-48e6-84ef-d846f9edafb9"
      },
      "execution_count": 17,
      "outputs": [
        {
          "output_type": "stream",
          "name": "stdout",
          "text": [
            "5-Fold cross validation\n",
            "Accuracy: 0.95 (+/- 0.04) [Logistic]\n",
            "Accuracy: 0.91 (+/- 0.04) [Bayes]\n",
            "Accuracy: 0.94 (+/- 0.04) [Random Forest]\n"
          ]
        }
      ]
    },
    {
      "cell_type": "markdown",
      "source": [
        "### Ensemble Voting"
      ],
      "metadata": {
        "id": "qrrkNepnCv8n"
      }
    },
    {
      "cell_type": "code",
      "source": [
        "#------------------------------------------------------------------------------------------------------\n",
        "# แก้ปัญหา Dependency ที่มีการอ้างอิง from sklearn.externals import six is deprecated, use import six instead\n",
        "#------------------------------------------------------------------------------------------------------\n",
        "import six\n",
        "import sys\n",
        "sys.modules['sklearn.externals.six'] = six\n",
        "#------------------------------------------------------------------------------------------------------\n",
        "\n",
        "# นำเข้า Library สำหรับการ Vote ของ Classifier\n",
        "from mlxtend.classifier import EnsembleVoteClassifier\n",
        "\n",
        "# ทำการรวมเอาแต่ละ Classifier มา Vote โดยกำหนดค่าน้ำหนักเท่ากันอย่างละ 1\n",
        "eclf = EnsembleVoteClassifier(clfs=[clf1,clf2,clf3], weights=[1,1,1])\n",
        "\n",
        "labels = ['Logistic', 'Bayes', 'Random Forest', 'Ensemble']\n",
        "\n",
        "# วนรอบ เพื่อให้แต่ละ Classifier ได้ทำการเรียนรู้ ด้วยการแบ่งข้อมูลออกเป็น 5 ส่วน\n",
        "for clf, label in zip([clf1,clf2,clf3,eclf], labels):\n",
        "  scores = model_selection.cross_val_score(clf, X, y, cv=5, scoring='accuracy')\n",
        "  print('Accuracy: %0.2f (+/- %0.2f) [%s]' %(scores.mean(), scores.std(), label))"
      ],
      "metadata": {
        "id": "05QP8totC0qo",
        "colab": {
          "base_uri": "https://localhost:8080/"
        },
        "outputId": "ab3e5326-d6ae-45d0-b84e-dc55aacbdcbd"
      },
      "execution_count": 19,
      "outputs": [
        {
          "output_type": "stream",
          "name": "stdout",
          "text": [
            "Accuracy: 0.95 (+/- 0.04) [Logistic]\n",
            "Accuracy: 0.91 (+/- 0.04) [Bayes]\n",
            "Accuracy: 0.94 (+/- 0.04) [Random Forest]\n",
            "Accuracy: 0.95 (+/- 0.04) [Ensemble]\n"
          ]
        }
      ]
    },
    {
      "cell_type": "code",
      "source": [
        "import pickle\n",
        "\n",
        "file_name = 'eclf.save'\n",
        "pickle.dump(eclf, open(file_name, 'wb'))"
      ],
      "metadata": {
        "id": "KitAytk3OHUH"
      },
      "execution_count": 21,
      "outputs": []
    },
    {
      "cell_type": "markdown",
      "source": [
        "## Data Visualization"
      ],
      "metadata": {
        "id": "vbJPpp24Eev9"
      }
    },
    {
      "cell_type": "code",
      "source": [
        "# แสดงกราฟที่ได้จากแต่ละ Classifier\n",
        "\n",
        "# วนรอบ เพื่อให้แต่ละ Classifier ได้นำข้อมูลไปสร้างกราฟ\n"
      ],
      "metadata": {
        "id": "NF7ahNfmEhgl"
      },
      "execution_count": null,
      "outputs": []
    }
  ]
}