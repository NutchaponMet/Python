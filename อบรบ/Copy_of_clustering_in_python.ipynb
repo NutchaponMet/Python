{
  "nbformat": 4,
  "nbformat_minor": 0,
  "metadata": {
    "colab": {
      "provenance": [],
      "collapsed_sections": []
    },
    "kernelspec": {
      "name": "python3",
      "display_name": "Python 3"
    },
    "language_info": {
      "name": "python"
    }
  },
  "cells": [
    {
      "cell_type": "markdown",
      "source": [
        "# Clustering in Python"
      ],
      "metadata": {
        "id": "KuIQdsKLkSbg"
      }
    },
    {
      "cell_type": "code",
      "execution_count": 1,
      "metadata": {
        "id": "LwyU8dxZkOrW"
      },
      "outputs": [],
      "source": [
        "import numpy as np"
      ]
    },
    {
      "cell_type": "code",
      "source": [
        "# ข้อมูลเป็น numpy.array 2D\n",
        "data = np.array([[8, 1], [12, 1], [42, 1], [10, 2], [39, 2], [26, 5], [23, 6], [30, 6], [25, 8]])"
      ],
      "metadata": {
        "id": "w1xoIRTxocM2"
      },
      "execution_count": 2,
      "outputs": []
    },
    {
      "cell_type": "code",
      "source": [
        "data"
      ],
      "metadata": {
        "id": "IJRL6Dx7sLoL",
        "colab": {
          "base_uri": "https://localhost:8080/"
        },
        "outputId": "0ae05ef5-3f7f-409e-d4b4-914c00f41565"
      },
      "execution_count": 3,
      "outputs": [
        {
          "output_type": "execute_result",
          "data": {
            "text/plain": [
              "array([[ 8,  1],\n",
              "       [12,  1],\n",
              "       [42,  1],\n",
              "       [10,  2],\n",
              "       [39,  2],\n",
              "       [26,  5],\n",
              "       [23,  6],\n",
              "       [30,  6],\n",
              "       [25,  8]])"
            ]
          },
          "metadata": {},
          "execution_count": 3
        }
      ]
    },
    {
      "cell_type": "code",
      "source": [
        "# library สำหรับสร้างกราฟ\n",
        "%matplotlib inline\n",
        "import matplotlib.pyplot as plt     \n",
        "import seaborn as sns\n",
        "\n",
        "sns.set()\n",
        "\n",
        "# แสดงกราฟ scatter plot\n",
        "plt.scatter(data[:,0], data[:,1]);"
      ],
      "metadata": {
        "id": "dGCM81rXqml-",
        "colab": {
          "base_uri": "https://localhost:8080/",
          "height": 268
        },
        "outputId": "c0196df3-8d90-4ec9-979a-38b85730cb82"
      },
      "execution_count": 7,
      "outputs": [
        {
          "output_type": "display_data",
          "data": {
            "text/plain": [
              "<Figure size 432x288 with 1 Axes>"
            ],
            "image/png": "[encoded data removed]"
          },
          "metadata": {}
        }
      ]
    },
    {
      "cell_type": "markdown",
      "source": [
        "## สร้างแบบจำลอง"
      ],
      "metadata": {
        "id": "JunkHzVJwNoi"
      }
    },
    {
      "cell_type": "code",
      "source": [
        "# นำเข้า Library KMeans จาก sklearn.cluster\n",
        "from sklearn.cluster import KMeans\n",
        "\n",
        "# สร้างแบบจำลองที่ต้องการแบ่งเป็น 3 กลุ่ม\n",
        "model = KMeans(n_clusters=3)\n",
        "\n",
        "# ส่งข้อมูลเข้าไปเรียนรู้ในแบบจำลอง\n",
        "model.fit(data)"
      ],
      "metadata": {
        "id": "MlAgPWNDqt8H",
        "colab": {
          "base_uri": "https://localhost:8080/"
        },
        "outputId": "104a573b-e42f-4db2-94ab-89bf402e49d1"
      },
      "execution_count": 8,
      "outputs": [
        {
          "output_type": "execute_result",
          "data": {
            "text/plain": [
              "KMeans(n_clusters=3)"
            ]
          },
          "metadata": {},
          "execution_count": 8
        }
      ]
    },
    {
      "cell_type": "code",
      "source": [
        "# ทำนายผลลัพธ์ โดยส่ง data เข้าไปทดสอบ\n",
        "y_predict = model.predict(data)\n",
        "\n",
        "print(data)\n",
        "print(y_predict)"
      ],
      "metadata": {
        "id": "58vscZ-5q_29",
        "colab": {
          "base_uri": "https://localhost:8080/"
        },
        "outputId": "e8aa467f-f6ce-4bdc-a333-ce2c9df3367a"
      },
      "execution_count": 10,
      "outputs": [
        {
          "output_type": "stream",
          "name": "stdout",
          "text": [
            "[[ 8  1]\n",
            " [12  1]\n",
            " [42  1]\n",
            " [10  2]\n",
            " [39  2]\n",
            " [26  5]\n",
            " [23  6]\n",
            " [30  6]\n",
            " [25  8]]\n",
            "[2 2 0 2 0 1 1 1 1]\n"
          ]
        }
      ]
    },
    {
      "cell_type": "code",
      "source": [
        "# แสดงกราฟ scatter plot โดยใช้ค่า y_predict แทน label\n",
        "plt.scatter(data[:,0], data[:,1], c=y_predict, cmap='viridis');\n",
        "\n",
        "# ค่ากลางของคลัสเตอร์\n",
        "centers = model.cluster_centers_\n",
        "\n",
        "print(centers)\n",
        "# แสดงค่ากลางของคลัสเตอร์\n",
        "plt.scatter(centers[:,0],centers[:,1], marker='*', c='red', s=200)"
      ],
      "metadata": {
        "id": "1lgKfyiQrCHW",
        "colab": {
          "base_uri": "https://localhost:8080/",
          "height": 337
        },
        "outputId": "a0f461ae-f393-483c-f105-38e9fb1a2b5e"
      },
      "execution_count": 21,
      "outputs": [
        {
          "output_type": "stream",
          "name": "stdout",
          "text": [
            "[[40.5         1.5       ]\n",
            " [26.          6.25      ]\n",
            " [10.          1.33333333]]\n"
          ]
        },
        {
          "output_type": "execute_result",
          "data": {
            "text/plain": [
              "<matplotlib.collections.PathCollection at 0x7f2dc21a7e10>"
            ]
          },
          "metadata": {},
          "execution_count": 21
        },
        {
          "output_type": "display_data",
          "data": {
            "text/plain": [
              "<Figure size 432x288 with 1 Axes>"
            ],
            "image/png": "[encoded data removed]"
          },
          "metadata": {}
        }
      ]
    },
    {
      "cell_type": "markdown",
      "source": [
        "## Utilize the elbow method to visualize the intertia for different values of K:"
      ],
      "metadata": {
        "id": "H3eMsg0Ttoxu"
      }
    },
    {
      "cell_type": "code",
      "source": [
        "# นำเข้า Library KMeans จาก sklearn.cluster\n",
        "\n",
        "\n",
        "# ข้อมูลเป็น numpy.array 2D\n",
        "data = np.array([[8, 1], [12, 1], [42, 1], [10, 2], [39, 2], [26, 5], [23, 6], [30, 6], [25, 8]])\n",
        "\n",
        "data"
      ],
      "metadata": {
        "id": "OQ7yvnHSt0Up",
        "colab": {
          "base_uri": "https://localhost:8080/"
        },
        "outputId": "cfbac917-f200-4211-95db-cb3f1503d1dd"
      },
      "execution_count": 22,
      "outputs": [
        {
          "output_type": "execute_result",
          "data": {
            "text/plain": [
              "array([[ 8,  1],\n",
              "       [12,  1],\n",
              "       [42,  1],\n",
              "       [10,  2],\n",
              "       [39,  2],\n",
              "       [26,  5],\n",
              "       [23,  6],\n",
              "       [30,  6],\n",
              "       [25,  8]])"
            ]
          },
          "metadata": {},
          "execution_count": 22
        }
      ]
    },
    {
      "cell_type": "code",
      "source": [
        "# ใช้เก็บค่าผลลัพธ์ที่ได้จากคลัสเตอร์\n",
        "inertias = []\n",
        "\n",
        "\n",
        "# วนรอบเพื่อลองสร้างคลัสเตอร์ตั้งแต่ 1 - 8 กลุ่ม\n",
        "\n",
        "# สร้างแบบจำลอง\n",
        "# ทำการเรียนรู้จากข้อมูล\n",
        "# measures how well a data was clustered by K-Means\n",
        "\n",
        "for i in range(1,9):\n",
        "  model = KMeans(n_clusters=i)\n",
        "  model.fit(data)\n",
        "  inertias.append(model.inertia_)"
      ],
      "metadata": {
        "id": "cUDx9zTl-wmJ"
      },
      "execution_count": 23,
      "outputs": []
    },
    {
      "cell_type": "code",
      "source": [
        "# แสดงกราฟ Elbow method\n",
        "plt.plot(range(1,9), inertias, marker='^')"
      ],
      "metadata": {
        "id": "aC4L__JNutU9",
        "colab": {
          "base_uri": "https://localhost:8080/",
          "height": 285
        },
        "outputId": "2da76958-5b42-4ae4-8085-1296c9d51c05"
      },
      "execution_count": 25,
      "outputs": [
        {
          "output_type": "execute_result",
          "data": {
            "text/plain": [
              "[<matplotlib.lines.Line2D at 0x7f2dc200e050>]"
            ]
          },
          "metadata": {},
          "execution_count": 25
        },
        {
          "output_type": "display_data",
          "data": {
            "text/plain": [
              "<Figure size 432x288 with 1 Axes>"
            ],
            "image/png": "[encoded data removed]"
          },
          "metadata": {}
        }
      ]
    }
  ]
}