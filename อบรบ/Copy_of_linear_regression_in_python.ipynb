{
  "nbformat": 4,
  "nbformat_minor": 0,
  "metadata": {
    "colab": {
      "provenance": [],
      "collapsed_sections": []
    },
    "kernelspec": {
      "name": "python3",
      "display_name": "Python 3"
    },
    "language_info": {
      "name": "python"
    }
  },
  "cells": [
    {
      "cell_type": "markdown",
      "source": [
        "# Linear Regression in Python\n",
        "เนื้อหาแปล มาจาก\n",
        "https://realpython.com/linear-regression-in-python/"
      ],
      "metadata": {
        "id": "Vx3xlFQneWZe"
      }
    },
    {
      "cell_type": "markdown",
      "source": [
        "## Simple Linear Regression with scikit-learn"
      ],
      "metadata": {
        "id": "NQchjXQXehsT"
      }
    },
    {
      "cell_type": "markdown",
      "source": [
        "###Step 1: Provide data\n",
        "Now, you have two array, the input: x and the output:y. You should call .reshape() on x because this array must be two-dimensional, or more precisely, it must have one column and as many rows as necessary. That's exactly what the argument (-1, 1) of .reshape() specifies."
      ],
      "metadata": {
        "id": "FF34MWecfDVi"
      }
    },
    {
      "cell_type": "code",
      "source": [
        "import numpy as np\n",
        "\n",
        "x = np.array([5, 15, 25, 35, 45, 55]).reshape(-1, 1)    # แปลงรูปร่างของอาร์เรย์ให้เป็น 2 มิติ\n",
        "y = np.array([5, 20, 14, 32, 22, 38])"
      ],
      "metadata": {
        "id": "3TRjSqqEf7Mp"
      },
      "execution_count": 1,
      "outputs": []
    },
    {
      "cell_type": "markdown",
      "source": [
        "This is how x and y look now:"
      ],
      "metadata": {
        "id": "q0FIQ_YdhDFg"
      }
    },
    {
      "cell_type": "code",
      "source": [
        "x"
      ],
      "metadata": {
        "id": "NEwmsXFzgF6w",
        "colab": {
          "base_uri": "https://localhost:8080/"
        },
        "outputId": "37823d8a-0a59-4b34-9a23-038252325ba2"
      },
      "execution_count": 2,
      "outputs": [
        {
          "output_type": "execute_result",
          "data": {
            "text/plain": [
              "array([[ 5],\n",
              "       [15],\n",
              "       [25],\n",
              "       [35],\n",
              "       [45],\n",
              "       [55]])"
            ]
          },
          "metadata": {},
          "execution_count": 2
        }
      ]
    },
    {
      "cell_type": "code",
      "source": [
        "y"
      ],
      "metadata": {
        "id": "Sy8kbnXJhSvs",
        "colab": {
          "base_uri": "https://localhost:8080/"
        },
        "outputId": "0619026a-e4f0-4ecb-a610-2bc53aa5fb83"
      },
      "execution_count": 3,
      "outputs": [
        {
          "output_type": "execute_result",
          "data": {
            "text/plain": [
              "array([ 5, 20, 14, 32, 22, 38])"
            ]
          },
          "metadata": {},
          "execution_count": 3
        }
      ]
    },
    {
      "cell_type": "markdown",
      "source": [
        "###Step 2: Data Visualization"
      ],
      "metadata": {
        "id": "OUPlwJ0Zmxyn"
      }
    },
    {
      "cell_type": "code",
      "source": [
        "# แสดงกราฟ Scatter Plot ของ x และ y\n",
        "import matplotlib.pyplot as plt\n",
        "\n",
        "plt.scatter(x, y, color='black');"
      ],
      "metadata": {
        "id": "XNJOx5bHm2SS",
        "colab": {
          "base_uri": "https://localhost:8080/",
          "height": 265
        },
        "outputId": "0ce8d9e2-14dc-4b1f-e191-4cdfe8a73724"
      },
      "execution_count": 5,
      "outputs": [
        {
          "output_type": "display_data",
          "data": {
            "text/plain": [
              "<Figure size 432x288 with 1 Axes>"
            ],
            "image/png": "[encoded data removed]"
          },
          "metadata": {
            "needs_background": "light"
          }
        }
      ]
    },
    {
      "cell_type": "markdown",
      "source": [
        "###Step 3: Import packages and classes\n",
        "The first step is to import the package numpy and the class LinearRegression from sklearn.linear_model:"
      ],
      "metadata": {
        "id": "MygRYsH1etzl"
      }
    },
    {
      "cell_type": "code",
      "source": [
        "# นำเข้า Library สำหรับแบบจำลองสมการเชิงเส้น (Linear Regression)\n",
        "from sklearn.linear_model import LinearRegression\n",
        "\n"
      ],
      "metadata": {
        "id": "mZlyoCG8eVd_"
      },
      "execution_count": 6,
      "outputs": []
    },
    {
      "cell_type": "markdown",
      "source": [
        "###Step 4: Create a model and fit it\n",
        "This statement creates the variable model as an instance of LinearRegression. You can provide several optional parameters to LinearRegression:\n"
      ],
      "metadata": {
        "id": "Q_BfdPDShXmJ"
      }
    },
    {
      "cell_type": "code",
      "source": [
        "# สร้างแบบจำลองสมการเชิงเส้น\n",
        "model = LinearRegression()"
      ],
      "metadata": {
        "id": "hZXeV8xJhWhh"
      },
      "execution_count": 7,
      "outputs": []
    },
    {
      "cell_type": "markdown",
      "source": [
        "Your model as defined above uses the default values of all parameters\n",
        "\n",
        "It's time to start using the model. First, you need to call .fit() on model:"
      ],
      "metadata": {
        "id": "ud6ZVVaxiJf0"
      }
    },
    {
      "cell_type": "code",
      "source": [
        "# ส่งข้อมูล x และ y ไปให้แบบจำลองเพื่อเรียนรู้\n",
        "model.fit(x, y)"
      ],
      "metadata": {
        "id": "80H7YZUVhTpd",
        "colab": {
          "base_uri": "https://localhost:8080/"
        },
        "outputId": "9afa6242-9103-46e3-fea9-4ac9fc06238c"
      },
      "execution_count": 8,
      "outputs": [
        {
          "output_type": "execute_result",
          "data": {
            "text/plain": [
              "LinearRegression()"
            ]
          },
          "metadata": {},
          "execution_count": 8
        }
      ]
    },
    {
      "cell_type": "markdown",
      "source": [
        "### Step 5: Get Results\n",
        "Once you have your model fitted, you can get the results to check whether the model works satisfactorily and to interpret it.\n",
        "\n",
        "You can obtain the coefficient of determination, R<sup>2</sup>, with .score() called on model:"
      ],
      "metadata": {
        "id": "Ecyhks2jihrs"
      }
    },
    {
      "cell_type": "code",
      "source": [
        "# คำนวณคะแนน R2 เมื่อเราใช้ข้อมูลที่ใช้ในการ Train มาทดสอบ (Test)\n",
        "r_square = model.score(x, y)\n",
        "\n",
        "print(r_square)"
      ],
      "metadata": {
        "id": "iV2C_7wgidLg",
        "colab": {
          "base_uri": "https://localhost:8080/"
        },
        "outputId": "bc89db8a-3afb-436b-e42c-f51b6820fd02"
      },
      "execution_count": 10,
      "outputs": [
        {
          "output_type": "stream",
          "name": "stdout",
          "text": [
            "0.7158756137479542\n"
          ]
        }
      ]
    },
    {
      "cell_type": "markdown",
      "source": [
        "The attributes of model are .intercept_, which represents the coefficient b<sub>0</sub>, and .coef_, which represents b<sub>1</sub>:"
      ],
      "metadata": {
        "id": "qwqtagZRj5Ov"
      }
    },
    {
      "cell_type": "code",
      "source": [
        "# แสดงค่า intercept_ ของแบบจำลองที่ได้\n",
        "print(model.intercept_)"
      ],
      "metadata": {
        "id": "sSunveeGjeAA",
        "colab": {
          "base_uri": "https://localhost:8080/"
        },
        "outputId": "7d4ea217-62f3-49a4-c15c-31e6410371b0"
      },
      "execution_count": 11,
      "outputs": [
        {
          "output_type": "stream",
          "name": "stdout",
          "text": [
            "5.633333333333329\n"
          ]
        }
      ]
    },
    {
      "cell_type": "code",
      "source": [
        "# แสดงค่า สัมประสิทธิ์ (coef_) หรือ ค่าความชันของกราฟ (slope) ของแบบจำลองที่ได้\n",
        "# ถ้าเป็น Simple Linear Regression เราใช้ feature 1 ตัว ก็จะได้ coefficient ของ x0\n",
        "print(model.coef_)"
      ],
      "metadata": {
        "id": "PdU5UrHEkgPT",
        "colab": {
          "base_uri": "https://localhost:8080/"
        },
        "outputId": "a87119d9-e875-4ccf-e6dd-a122be1598ab"
      },
      "execution_count": 12,
      "outputs": [
        {
          "output_type": "stream",
          "name": "stdout",
          "text": [
            "[0.54]\n"
          ]
        }
      ]
    },
    {
      "cell_type": "markdown",
      "source": [
        "### Step 6: Predict Response\n",
        "Once you have a satisfactory model, then you can use it for predictions with either existing or new data. To obtain the predicted response, use .predict()"
      ],
      "metadata": {
        "id": "Nlwc0SndksPW"
      }
    },
    {
      "cell_type": "code",
      "source": [
        "# ทำนาย (Predict) เพื่อหาค่าเป้าหมาย (y_predict) เมื่อเราส่งชุดข้อมูล x เข้าไป\n",
        "y_predict = model.predict(x)\n",
        "\n",
        "print(y_predict)"
      ],
      "metadata": {
        "id": "nNa43dBSkke1",
        "colab": {
          "base_uri": "https://localhost:8080/"
        },
        "outputId": "5ff0cf3f-c443-4aca-f590-377ab0d45ee4"
      },
      "execution_count": 14,
      "outputs": [
        {
          "output_type": "stream",
          "name": "stdout",
          "text": [
            "[ 8.33333333 13.73333333 19.13333333 24.53333333 29.93333333 35.33333333]\n"
          ]
        }
      ]
    },
    {
      "cell_type": "code",
      "source": [
        "# แสดงกราฟ Scatter Plot ของ x และ y\n",
        "# วาดเส้นของสมการที่ได้จากการทำนาย (x, y_predict)\n",
        "\n",
        "import matplotlib.pyplot as plt\n",
        "\n",
        "plt.scatter(x, y, color='black')\n",
        "plt.plot(x, y_predict, color='red');"
      ],
      "metadata": {
        "id": "nxE-IF4ioacy",
        "colab": {
          "base_uri": "https://localhost:8080/",
          "height": 265
        },
        "outputId": "e8a017c4-0d20-484c-ff89-0bdc9c92fef3"
      },
      "execution_count": 20,
      "outputs": [
        {
          "output_type": "display_data",
          "data": {
            "text/plain": [
              "<Figure size 432x288 with 1 Axes>"
            ],
            "image/png": "[encoded data removed]"
          },
          "metadata": {
            "needs_background": "light"
          }
        }
      ]
    },
    {
      "cell_type": "code",
      "source": [
        "# แสดงกราฟ Scatter Plot ของ x และ y\n",
        "# แสดงกราฟ Scatter Plot ของ x และ y_predict\n",
        "# วาดเส้นของสมการที่ได้จากการทำนาย (x, y_predict)\n"
      ],
      "metadata": {
        "id": "vGDzHd4lp0fT"
      },
      "execution_count": null,
      "outputs": []
    },
    {
      "cell_type": "markdown",
      "source": [
        "When applying .predict(), you pass the regressor as the argument and get the corresponding predicted response. This is a nearly identical way to predict the response:\n",
        "\n",
        "เราสามารถนำเอาค่า model.intercept_ และ model.coef_ ไปใช้ในโปรแกรมอื่น ๆ ได้"
      ],
      "metadata": {
        "id": "JYWlPwsslg4u"
      }
    },
    {
      "cell_type": "code",
      "source": [
        "# เราสามารถนำค่าต่าง ๆ มาใช้ในการเขียนสูตร (formulae) สมการเส้นตรง = intercept_ + slope * x\n",
        "\n",
        "y_predict = model.intercept_ + model.coef_ * x\n",
        "\n",
        "y_predict"
      ],
      "metadata": {
        "id": "UsQZP5xblcfM",
        "colab": {
          "base_uri": "https://localhost:8080/"
        },
        "outputId": "dcd3308e-a577-43dc-e7b5-2ec35675ea34"
      },
      "execution_count": 22,
      "outputs": [
        {
          "output_type": "execute_result",
          "data": {
            "text/plain": [
              "array([[ 8.33333333],\n",
              "       [13.73333333],\n",
              "       [19.13333333],\n",
              "       [24.53333333],\n",
              "       [29.93333333],\n",
              "       [35.33333333]])"
            ]
          },
          "metadata": {},
          "execution_count": 22
        }
      ]
    },
    {
      "cell_type": "markdown",
      "source": [
        "ลองทำนายค่า y_predict เมื่อ x = 30"
      ],
      "metadata": {
        "id": "Nhh5FLFRrwAD"
      }
    },
    {
      "cell_type": "code",
      "source": [
        "# ทดลองทำนายค่า y_predict เมื่อเรากำหนดค่า x = 30\n",
        "# ค่าของ x ต้องเป็น 2D-array [[30]] \n"
      ],
      "metadata": {
        "id": "8BlrAgLRr9wT"
      },
      "execution_count": null,
      "outputs": []
    },
    {
      "cell_type": "code",
      "source": [
        "# เราสามารถนำค่าต่าง ๆ มาใช้ในการเขียนสูตร (formulae) สมการเส้นตรง = intercept_ + slope * x\n"
      ],
      "metadata": {
        "id": "0DSFpfDhs55I"
      },
      "execution_count": null,
      "outputs": []
    },
    {
      "cell_type": "markdown",
      "source": [
        "## Multiple Linear Regression with scikit-learn"
      ],
      "metadata": {
        "id": "d5JuvQ23u2q_"
      }
    },
    {
      "cell_type": "markdown",
      "source": [
        "### Step 1: Provide data"
      ],
      "metadata": {
        "id": "ZZ6vFpXhvEK_"
      }
    },
    {
      "cell_type": "code",
      "source": [
        "import numpy as np\n",
        "\n",
        "x = [[0, 1], [5, 1], [15, 2], [25, 5], [35, 11], [45, 15], [55, 34], [60, 35]]\n",
        "y = [4, 5, 20, 14, 32, 22, 38, 43]\n",
        "\n",
        "x = np.array(x).reshape(-1,1)\n",
        "y = np.array(y)"
      ],
      "metadata": {
        "id": "urmti3KgvSON"
      },
      "execution_count": 24,
      "outputs": []
    },
    {
      "cell_type": "markdown",
      "source": [
        "###Step 2: Data Visualization"
      ],
      "metadata": {
        "id": "tD_luKJWFwA0"
      }
    },
    {
      "cell_type": "code",
      "source": [
        "# แสดงกราฟ Scatter Plot ของ x[:, 0] และ y โดยใช้ feature ตัวที่ 1 ของ x (คอลัมน์)\n",
        "# แสดงกราฟ Scatter Plot ของ x[:, 1] และ y โดยใช้ feature ตัวที่ 2 ของ x (คอลัมน์)"
      ],
      "metadata": {
        "id": "rGCRb4M_F0zh"
      },
      "execution_count": null,
      "outputs": []
    },
    {
      "cell_type": "markdown",
      "source": [
        "###Step 3: Import packages and classes"
      ],
      "metadata": {
        "id": "SHRJ9bDOGjLc"
      }
    },
    {
      "cell_type": "code",
      "source": [
        "# นำเข้า Library สำหรับแบบจำลองสมการเชิงเส้น (Linear Regression)"
      ],
      "metadata": {
        "id": "wmeErvYjvBBR"
      },
      "execution_count": null,
      "outputs": []
    },
    {
      "cell_type": "code",
      "source": [
        "x"
      ],
      "metadata": {
        "id": "60d1Bfkbv0IY"
      },
      "execution_count": null,
      "outputs": []
    },
    {
      "cell_type": "code",
      "source": [
        "y"
      ],
      "metadata": {
        "id": "wC0TMMbav1SM"
      },
      "execution_count": null,
      "outputs": []
    },
    {
      "cell_type": "markdown",
      "source": [
        "###Step 4: Create a model and fit it"
      ],
      "metadata": {
        "id": "7TNO2kHav6EM"
      }
    },
    {
      "cell_type": "code",
      "source": [
        "# สร้างแบบจำลองสมการเชิงเส้น\n"
      ],
      "metadata": {
        "id": "MSBp3y_Xv2D-"
      },
      "execution_count": null,
      "outputs": []
    },
    {
      "cell_type": "code",
      "source": [
        "# ส่งข้อมูล x และ y ไปให้แบบจำลองเพื่อเรียนรู้\n"
      ],
      "metadata": {
        "id": "v_pAk63cwGrn"
      },
      "execution_count": null,
      "outputs": []
    },
    {
      "cell_type": "markdown",
      "source": [
        "###Step 5: Get Results"
      ],
      "metadata": {
        "id": "y_F8gDDXwK54"
      }
    },
    {
      "cell_type": "code",
      "source": [
        "# คำนวณคะแนน R2 เมื่อเราใช้ข้อมูลที่ใช้ในการ Train มาทดสอบ (Test)\n"
      ],
      "metadata": {
        "id": "bky4TPQGwIgA"
      },
      "execution_count": null,
      "outputs": []
    },
    {
      "cell_type": "code",
      "source": [
        "# แสดงค่า intercept_ ของแบบจำลองที่ได้\n"
      ],
      "metadata": {
        "id": "BIWSyyTWwQuZ"
      },
      "execution_count": null,
      "outputs": []
    },
    {
      "cell_type": "code",
      "source": [
        "# แสดงค่า สัมประสิทธิ์ (coef_) หรือ ค่าความชันของกราฟ (slope) ของแบบจำลองที่ได้\n",
        "# เราใช้ feature 2 ตัว ก็จะได้ coefficient ของ x0, x1"
      ],
      "metadata": {
        "id": "tykrqR-EweU-"
      },
      "execution_count": null,
      "outputs": []
    },
    {
      "cell_type": "markdown",
      "source": [
        "###Step 6: Predict Response"
      ],
      "metadata": {
        "id": "02Uik9PZwnMQ"
      }
    },
    {
      "cell_type": "code",
      "source": [
        "# ทำนาย (Predict) เพื่อหาค่าเป้าหมาย (y_predict) เมื่อเราส่งชุดข้อมูล x เข้าไป\n"
      ],
      "metadata": {
        "id": "jbpIh3r0wkS8"
      },
      "execution_count": null,
      "outputs": []
    },
    {
      "cell_type": "code",
      "source": [
        "# แสดงกราฟ Scatter Plot ของ x ในคอลัมน์ที่ 1 และ y\n",
        "# แสดงกราฟ Scatter Plot ของ x ในคอลัมน์ที่ 2 และ y\n",
        "\n",
        "# วาดเส้นของสมการที่ได้จากการทำนาย (x ในคอลัมน์ที่ 1, y_predict)\n",
        "# วาดเส้นของสมการที่ได้จากการทำนาย (x ในคอลัมน์ที่ 2, y_predict)\n"
      ],
      "metadata": {
        "id": "N_3FXBknIloo"
      },
      "execution_count": null,
      "outputs": []
    },
    {
      "cell_type": "markdown",
      "source": [
        "You can predict the output values by multiplying each column of the input with appropriate weight, summing the result, and adding the intercept to the sum"
      ],
      "metadata": {
        "id": "WwQbHnka5Y9F"
      }
    },
    {
      "cell_type": "code",
      "source": [
        "# เราสามารถนำค่าต่าง ๆ มาใช้ในการเขียนสูตร (formulae) สมการเส้นตรง = intercept_ + slope1 * x + slope2 * x\n"
      ],
      "metadata": {
        "id": "vgPA2Llh62LL"
      },
      "execution_count": null,
      "outputs": []
    },
    {
      "cell_type": "code",
      "source": [
        "# สร้างข้อมูล x_new มา 10 ตัว แล้วแปลงเป็นอาร์เรย์ 2 มิติ แถวละ 2 ตัว \n"
      ],
      "metadata": {
        "id": "6jFd2bfA5h_P"
      },
      "execution_count": null,
      "outputs": []
    },
    {
      "cell_type": "code",
      "source": [
        "# ทำนายข้อมูล x_new ที่สุ่มมาทดสอบ\n"
      ],
      "metadata": {
        "id": "ufBLIpAb5quP"
      },
      "execution_count": null,
      "outputs": []
    },
    {
      "cell_type": "markdown",
      "source": [
        "How to Visualize Multiple Linear Regression in python\n",
        "\n",
        "https://www.youtube.com/watch?v=fJOhLKvWOJI\n",
        "\n",
        "https://www.youtube.com/watch?v=zITIFTsivN8\n"
      ],
      "metadata": {
        "id": "Rh9n_TAX49Ef"
      }
    },
    {
      "cell_type": "markdown",
      "source": [
        "## Polynomial Regression with sciket-learn"
      ],
      "metadata": {
        "id": "lE0nNn_F7hh8"
      }
    },
    {
      "cell_type": "markdown",
      "source": [
        "###Step 1: Provide Data"
      ],
      "metadata": {
        "id": "OQ6MzH7YJu0e"
      }
    },
    {
      "cell_type": "code",
      "source": [
        "# Random Number Generator\n",
        "# สุ่มตัวเลข x มา 50 ตัว เป็นตัวเลขระหว่าง 0 - 10 \n",
        "# นำค่า x ที่ได้มาคำนวณเป็นค่าเป้าหมาย (y) ด้วยสมการของ SINE WAVE\n",
        "\n",
        "import numpy as np\n",
        "\n",
        "random_no = np.random.RandomState(1)\n",
        "x = 10 * random_no.rand(50)\n",
        "y = np.sin(x) + 0.1 * random_no.randn(50)"
      ],
      "metadata": {
        "id": "SUhyyRAWJt2F"
      },
      "execution_count": 28,
      "outputs": []
    },
    {
      "cell_type": "code",
      "source": [
        "x"
      ],
      "metadata": {
        "id": "MG1fdK-BKILb",
        "colab": {
          "base_uri": "https://localhost:8080/"
        },
        "outputId": "29ccbed6-bfab-4f02-d561-4e3940f844da"
      },
      "execution_count": 26,
      "outputs": [
        {
          "output_type": "execute_result",
          "data": {
            "text/plain": [
              "array([4.17022005e+00, 7.20324493e+00, 1.14374817e-03, 3.02332573e+00,\n",
              "       1.46755891e+00, 9.23385948e-01, 1.86260211e+00, 3.45560727e+00,\n",
              "       3.96767474e+00, 5.38816734e+00, 4.19194514e+00, 6.85219500e+00,\n",
              "       2.04452250e+00, 8.78117436e+00, 2.73875932e-01, 6.70467510e+00,\n",
              "       4.17304802e+00, 5.58689828e+00, 1.40386939e+00, 1.98101489e+00,\n",
              "       8.00744569e+00, 9.68261576e+00, 3.13424178e+00, 6.92322616e+00,\n",
              "       8.76389152e+00, 8.94606664e+00, 8.50442114e-01, 3.90547832e-01,\n",
              "       1.69830420e+00, 8.78142503e+00, 9.83468338e-01, 4.21107625e+00,\n",
              "       9.57889530e+00, 5.33165285e+00, 6.91877114e+00, 3.15515631e+00,\n",
              "       6.86500928e+00, 8.34625672e+00, 1.82882773e-01, 7.50144315e+00,\n",
              "       9.88861089e+00, 7.48165654e+00, 2.80443992e+00, 7.89279328e+00,\n",
              "       1.03226007e+00, 4.47893526e+00, 9.08595503e+00, 2.93614148e+00,\n",
              "       2.87775339e+00, 1.30028572e+00])"
            ]
          },
          "metadata": {},
          "execution_count": 26
        }
      ]
    },
    {
      "cell_type": "code",
      "source": [
        "y"
      ],
      "metadata": {
        "id": "Lh-vMze7KKHb",
        "colab": {
          "base_uri": "https://localhost:8080/"
        },
        "outputId": "0e5c73e1-a272-44df-b326-fc50720c52bf"
      },
      "execution_count": 29,
      "outputs": [
        {
          "output_type": "execute_result",
          "data": {
            "text/plain": [
              "array([-0.92530881,  0.71111718, -0.06598087,  0.11672496,  0.88294471,\n",
              "        0.8210899 ,  1.12370616, -0.23467501, -0.75446517, -0.86898322,\n",
              "       -0.94231439,  0.70804351,  0.89495535,  0.53638242,  0.28955648,\n",
              "        0.61914583, -0.84603144, -0.5796531 ,  1.01611705,  0.88180869,\n",
              "        0.87399567, -0.28992469, -0.01353862,  0.65589053,  0.69771523,\n",
              "        0.55374595,  0.78013085,  0.46920917,  0.91644209,  0.72516826,\n",
              "        0.8837173 , -0.90676173, -0.10465615, -0.82186313,  0.70681199,\n",
              "        0.13841844,  0.76810625,  0.74161023,  0.03745364,  0.88805266,\n",
              "       -0.43137564,  1.01910093,  0.36236496,  0.7970268 ,  0.82783992,\n",
              "       -0.89007576,  0.35538665,  0.28020998,  0.23855606,  0.94355877])"
            ]
          },
          "metadata": {},
          "execution_count": 29
        }
      ]
    },
    {
      "cell_type": "markdown",
      "source": [
        "###Step 2: Data Visualization"
      ],
      "metadata": {
        "id": "1I89PVG1KBuh"
      }
    },
    {
      "cell_type": "code",
      "source": [
        "# วาดกราฟ scatter plot\n",
        "plt.scatter(x, y, )\n"
      ],
      "metadata": {
        "id": "I1aOAB1nKFK-",
        "colab": {
          "base_uri": "https://localhost:8080/",
          "height": 282
        },
        "outputId": "0e1d4548-f021-41b9-8db7-a9ce85382abb"
      },
      "execution_count": 30,
      "outputs": [
        {
          "output_type": "execute_result",
          "data": {
            "text/plain": [
              "<matplotlib.collections.PathCollection at 0x7f147122ec10>"
            ]
          },
          "metadata": {},
          "execution_count": 30
        },
        {
          "output_type": "display_data",
          "data": {
            "text/plain": [
              "<Figure size 432x288 with 1 Axes>"
            ],
            "image/png": "[encoded data removed]"
          },
          "metadata": {
            "needs_background": "light"
          }
        }
      ]
    },
    {
      "cell_type": "markdown",
      "source": [
        "###Step 3: Import packages and classes"
      ],
      "metadata": {
        "id": "RzNkWR8cKUn3"
      }
    },
    {
      "cell_type": "code",
      "source": [
        "# นำเข้า Library สำหรับแบบจำลองสมการเชิงเส้น (Linear Regression)\n",
        "# นำเข้า Library สำหรับการสร้างคุณลักษณะแบบ Polynomial\n",
        "from sklearn.linear_model import LinearRegression\n",
        "from sklearn.preprocessing import PolynomialFeatures\n",
        "\n"
      ],
      "metadata": {
        "id": "Ny8eGeKM-nKn"
      },
      "execution_count": 31,
      "outputs": []
    },
    {
      "cell_type": "markdown",
      "source": [
        "###Step 4: Create a model and fit it"
      ],
      "metadata": {
        "id": "fpQM2iqIBtUc"
      }
    },
    {
      "cell_type": "code",
      "source": [
        "# สร้างแบบจำลองสมการเชิงเส้นบน pipeline โดยกำหนด degree=7\n",
        "from sklearn.pipeline import make_pipeline\n",
        "\n",
        "model = make_pipeline(PolynomialFeatures(degree=7), LinearRegression())"
      ],
      "metadata": {
        "id": "7aXSdxghQmty"
      },
      "execution_count": 51,
      "outputs": []
    },
    {
      "cell_type": "code",
      "source": [
        "# ส่งข้อมูล x (ต้องแปลงเป็น 2D-array) และ y ไปให้แบบจำลองเพื่อเรียนรู้\n",
        "model.fit(x[:, np.newaxis], y)"
      ],
      "metadata": {
        "id": "bUo6GoIaSIR1",
        "colab": {
          "base_uri": "https://localhost:8080/"
        },
        "outputId": "e8c1c2b5-28ea-4ef4-ab25-7ccee5382a73"
      },
      "execution_count": 52,
      "outputs": [
        {
          "output_type": "execute_result",
          "data": {
            "text/plain": [
              "Pipeline(steps=[('polynomialfeatures', PolynomialFeatures(degree=7)),\n",
              "                ('linearregression', LinearRegression())])"
            ]
          },
          "metadata": {},
          "execution_count": 52
        }
      ]
    },
    {
      "cell_type": "markdown",
      "source": [
        "###Step 5: Predict Response"
      ],
      "metadata": {
        "id": "xkFRZwLVBkQ-"
      }
    },
    {
      "cell_type": "code",
      "source": [
        "# ทำการสร้างข้อมูลทดสอบ xfit ที่มีค่าระหว่าง 0 - 10 จำนวน 1000 ตัว\n",
        "# ลองเปลี่ยนเลข 1000 เป็น 10\n",
        "xfit = np.linspace(0,10, 1000)"
      ],
      "metadata": {
        "id": "EVaS3g4_SZRD"
      },
      "execution_count": 53,
      "outputs": []
    },
    {
      "cell_type": "code",
      "source": [
        "# ทำนาย (Predict) เพื่อหาค่าเป้าหมาย (y_predict) เมื่อเราส่งชุดข้อมูล xfit (ต้องแปลงเป็น 2D-array) เข้าไป\n",
        "yfit = model.predict(xfit[:, np.newaxis])"
      ],
      "metadata": {
        "id": "HI5ck7A8ShrK"
      },
      "execution_count": 54,
      "outputs": []
    },
    {
      "cell_type": "code",
      "source": [
        "# วาด scatter plot\n",
        "# วาดเส้นของ xfit และ yfit\n",
        "\n",
        "plt.scatter(x, y)\n",
        "plt.scatter(xfit, yfit)"
      ],
      "metadata": {
        "id": "WGdo4yQ8Swbu",
        "colab": {
          "base_uri": "https://localhost:8080/",
          "height": 282
        },
        "outputId": "67440974-da3d-41ae-847d-c6ec8bbaeceb"
      },
      "execution_count": 55,
      "outputs": [
        {
          "output_type": "execute_result",
          "data": {
            "text/plain": [
              "<matplotlib.collections.PathCollection at 0x7f146919dcd0>"
            ]
          },
          "metadata": {},
          "execution_count": 55
        },
        {
          "output_type": "display_data",
          "data": {
            "text/plain": [
              "<Figure size 432x288 with 1 Axes>"
            ],
            "image/png": "[encoded data removed]"
          },
          "metadata": {
            "needs_background": "light"
          }
        }
      ]
    },
    {
      "cell_type": "code",
      "source": [
        "# คำนวณคะแนน R2 เมื่อเราใช้ข้อมูลที่ใช้ในการ Train มาทดสอบ (Test)\n",
        "# เมื่อเราส่งชุดข้อมูล x (ต้องแปลงเป็น 2D-array), y เข้าไป\n",
        "r2 = model.score(x[:, np.newaxis],y)\n",
        "\n",
        "print(r2)"
      ],
      "metadata": {
        "id": "uNRrvK7sVq49",
        "colab": {
          "base_uri": "https://localhost:8080/"
        },
        "outputId": "5e09a13c-bcef-4ded-9259-46ae26ecae8e"
      },
      "execution_count": 56,
      "outputs": [
        {
          "output_type": "stream",
          "name": "stdout",
          "text": [
            "0.9760274753833529\n"
          ]
        }
      ]
    }
  ]
}