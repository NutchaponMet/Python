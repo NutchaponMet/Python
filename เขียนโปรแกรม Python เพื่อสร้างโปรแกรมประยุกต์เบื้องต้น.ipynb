{
 "cells": [
  {
   "cell_type": "markdown",
   "id": "52ed2327",
   "metadata": {},
   "source": [
    "เรียน Python วันที่ 2/10/2022\n",
    "\n",
    "# เรื่อง if else elif"
   ]
  },
  {
   "cell_type": "code",
   "execution_count": null,
   "id": "43384ae3",
   "metadata": {},
   "outputs": [],
   "source": [
    "# to argument"
   ]
  },
  {
   "cell_type": "code",
   "execution_count": null,
   "id": "6ffd9885",
   "metadata": {},
   "outputs": [],
   "source": []
  },
  {
   "cell_type": "code",
   "execution_count": null,
   "id": "81bacd1c",
   "metadata": {},
   "outputs": [],
   "source": []
  },
  {
   "cell_type": "markdown",
   "id": "4b17eb9a",
   "metadata": {},
   "source": [
    "# เรื่อง Loop"
   ]
  },
  {
   "cell_type": "code",
   "execution_count": 14,
   "id": "105af066",
   "metadata": {
    "scrolled": true
   },
   "outputs": [
    {
     "name": "stdout",
     "output_type": "stream",
     "text": [
      "Hello While!\n",
      "Hello While!\n",
      "Hello While!\n",
      "Hello While!\n",
      "Hello While!\n",
      "Hello While!\n",
      "Hello While!\n",
      "Hello While!\n",
      "Hello While!\n",
      "Hello While!\n"
     ]
    }
   ],
   "source": [
    "k = 0\n",
    "while k < 20:\n",
    "    print(\"Hello While!\")\n",
    "    k += 2"
   ]
  },
  {
   "cell_type": "code",
   "execution_count": 19,
   "id": "08de5fa9",
   "metadata": {
    "scrolled": true
   },
   "outputs": [
    {
     "name": "stdout",
     "output_type": "stream",
     "text": [
      "1\n",
      "3\n",
      "5\n",
      "7\n",
      "9\n",
      "11\n",
      "13\n"
     ]
    }
   ],
   "source": [
    "for i in range(1, 15, 2):\n",
    "    print(i)"
   ]
  },
  {
   "cell_type": "code",
   "execution_count": 17,
   "id": "ebb07e21",
   "metadata": {},
   "outputs": [
    {
     "name": "stdout",
     "output_type": "stream",
     "text": [
      "892\n"
     ]
    }
   ],
   "source": [
    "n = 1\n",
    "for i in range(1,100):\n",
    "    n += 9\n",
    "print(n)"
   ]
  },
  {
   "cell_type": "code",
   "execution_count": 27,
   "id": "733d82b9",
   "metadata": {
    "scrolled": true
   },
   "outputs": [
    {
     "name": "stdout",
     "output_type": "stream",
     "text": [
      "เสี่ยงเซียมซีไหม? (yes/no): yes\n",
      "คุณได้รับเซียมซีหมายเลข  2\n",
      "คุณจะถูกหวย\n"
     ]
    }
   ],
   "source": [
    "from random import randint\n",
    "answer = input(\"เสี่ยงเซียมซีไหม? (yes/no): \")\n",
    "if answer == \"yes\" :\n",
    "    number = randint(1, 9)\n",
    "    print(\"คุณได้รับเซียมซีหมายเลข \", number)\n",
    "    if number == 1:\n",
    "        print(\"คุณจะได้รับโชค\")\n",
    "    elif number == 2:\n",
    "        print(\"คุณจะถูกหวย\")\n",
    "    elif number == 3:\n",
    "        print(\"คุณจะไม่ถูกหวย\")\n",
    "    elif number == 4:\n",
    "        print(\"คุณจะได้เลื่อนตำแหน่ง\")\n",
    "    elif number == 5:\n",
    "        print(\"มีคนแอบชอบคุณอยู่\")\n",
    "    elif number == 6:\n",
    "        print(\"คุณจะสมหวังในความรัก\")\n",
    "    elif number == 7:\n",
    "        print(\"คุณจะได้งานใหม่\")\n",
    "    elif number == 8:\n",
    "        print(\"คุณจะตกงาน\")\n",
    "    elif number == 9:\n",
    "        print(\"กูว่าแล้วมึงต้องเล่น\")\n",
    "elif answer == \"no\" :\n",
    "    print(\"คุณพลาดแล้ว\")\n",
    "    print(\"ไว้พบกันโอกาสหน้า\")\n",
    "else:\n",
    "    print(\"จบเกม\")"
   ]
  },
  {
   "cell_type": "code",
   "execution_count": 25,
   "id": "1f53b9ef",
   "metadata": {},
   "outputs": [
    {
     "name": "stdout",
     "output_type": "stream",
     "text": [
      "1\n",
      "2\n",
      "3\n",
      "4\n",
      "5\n",
      "6\n",
      "7\n",
      "8\n",
      "9\n",
      "10\n",
      "11\n",
      "12\n"
     ]
    }
   ],
   "source": [
    "\n",
    "\n",
    "for i in range(1,(12+1)):\n",
    "    print(i)"
   ]
  }
 ],
 "metadata": {
  "kernelspec": {
   "display_name": "Python 3.10.6 ('nut3.10')",
   "language": "python",
   "name": "python3"
  },
  "language_info": {
   "codemirror_mode": {
    "name": "ipython",
    "version": 3
   },
   "file_extension": ".py",
   "mimetype": "text/x-python",
   "name": "python",
   "nbconvert_exporter": "python",
   "pygments_lexer": "ipython3",
   "version": "3.10.8 | packaged by conda-forge | (main, Nov 24 2022, 14:07:00) [MSC v.1916 64 bit (AMD64)]"
  },
  "vscode": {
   "interpreter": {
    "hash": "685e03021fbac60f1cd5975c90c79fd02b78ea99482fd35fde8fd9b6aa423317"
   }
  }
 },
 "nbformat": 4,
 "nbformat_minor": 5
}
