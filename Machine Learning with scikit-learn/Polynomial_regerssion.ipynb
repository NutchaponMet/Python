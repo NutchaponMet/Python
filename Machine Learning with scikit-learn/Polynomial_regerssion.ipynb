{
 "cells": [
  {
   "cell_type": "markdown",
   "id": "655a31cc",
   "metadata": {},
   "source": [
    "# Polynomial Regression"
   ]
  },
  {
   "cell_type": "code",
   "execution_count": 1,
   "id": "6e220a80",
   "metadata": {},
   "outputs": [],
   "source": [
    "import pandas as pd\n",
    "import numpy as np\n",
    "import matplotlib.pyplot as plt\n",
    "import seaborn as sns\n",
    "%matplotlib inline\n",
    "%config InlineBackend.figure_formate = 'retina'"
   ]
  },
  {
   "cell_type": "code",
   "execution_count": 3,
   "id": "81563171",
   "metadata": {},
   "outputs": [
    {
     "data": {
      "text/html": [
       "<div>\n",
       "<style scoped>\n",
       "    .dataframe tbody tr th:only-of-type {\n",
       "        vertical-align: middle;\n",
       "    }\n",
       "\n",
       "    .dataframe tbody tr th {\n",
       "        vertical-align: top;\n",
       "    }\n",
       "\n",
       "    .dataframe thead th {\n",
       "        text-align: right;\n",
       "    }\n",
       "</style>\n",
       "<table border=\"1\" class=\"dataframe\">\n",
       "  <thead>\n",
       "    <tr style=\"text-align: right;\">\n",
       "      <th></th>\n",
       "      <th>country</th>\n",
       "      <th>year</th>\n",
       "      <th>GDP, PPP (current international $)</th>\n",
       "      <th>Gini index (World Bank estimate)</th>\n",
       "      <th>Birth rate, crude (per 1,000 people)</th>\n",
       "      <th>Death rate, crude (per 1,000 people)</th>\n",
       "      <th>Suicide mortality rate (per 100,000 population)</th>\n",
       "    </tr>\n",
       "  </thead>\n",
       "  <tbody>\n",
       "    <tr>\n",
       "      <th>5130</th>\n",
       "      <td>Germany</td>\n",
       "      <td>2016</td>\n",
       "      <td>4.164749e+12</td>\n",
       "      <td>31.9</td>\n",
       "      <td>9.600000</td>\n",
       "      <td>11.100000</td>\n",
       "      <td>13.600000</td>\n",
       "    </tr>\n",
       "    <tr>\n",
       "      <th>11022</th>\n",
       "      <td>Pakistan</td>\n",
       "      <td>2008</td>\n",
       "      <td>6.553682e+11</td>\n",
       "      <td>NaN</td>\n",
       "      <td>30.631000</td>\n",
       "      <td>7.804000</td>\n",
       "      <td>NaN</td>\n",
       "    </tr>\n",
       "    <tr>\n",
       "      <th>5205</th>\n",
       "      <td>Gibraltar</td>\n",
       "      <td>1973</td>\n",
       "      <td>NaN</td>\n",
       "      <td>NaN</td>\n",
       "      <td>NaN</td>\n",
       "      <td>NaN</td>\n",
       "      <td>NaN</td>\n",
       "    </tr>\n",
       "    <tr>\n",
       "      <th>14117</th>\n",
       "      <td>Togo</td>\n",
       "      <td>1976</td>\n",
       "      <td>NaN</td>\n",
       "      <td>NaN</td>\n",
       "      <td>47.992000</td>\n",
       "      <td>16.294000</td>\n",
       "      <td>NaN</td>\n",
       "    </tr>\n",
       "    <tr>\n",
       "      <th>13567</th>\n",
       "      <td>Sub-Saharan Africa (excluding high income)</td>\n",
       "      <td>2016</td>\n",
       "      <td>3.745424e+12</td>\n",
       "      <td>NaN</td>\n",
       "      <td>36.165125</td>\n",
       "      <td>9.003958</td>\n",
       "      <td>7.539265</td>\n",
       "    </tr>\n",
       "    <tr>\n",
       "      <th>14456</th>\n",
       "      <td>Turks and Caicos Islands</td>\n",
       "      <td>1961</td>\n",
       "      <td>NaN</td>\n",
       "      <td>NaN</td>\n",
       "      <td>NaN</td>\n",
       "      <td>NaN</td>\n",
       "      <td>NaN</td>\n",
       "    </tr>\n",
       "    <tr>\n",
       "      <th>5960</th>\n",
       "      <td>Hong Kong SAR, China</td>\n",
       "      <td>1961</td>\n",
       "      <td>NaN</td>\n",
       "      <td>NaN</td>\n",
       "      <td>35.000000</td>\n",
       "      <td>6.100000</td>\n",
       "      <td>NaN</td>\n",
       "    </tr>\n",
       "    <tr>\n",
       "      <th>1728</th>\n",
       "      <td>Brunei Darussalam</td>\n",
       "      <td>1977</td>\n",
       "      <td>NaN</td>\n",
       "      <td>NaN</td>\n",
       "      <td>33.852000</td>\n",
       "      <td>6.521000</td>\n",
       "      <td>NaN</td>\n",
       "    </tr>\n",
       "    <tr>\n",
       "      <th>2832</th>\n",
       "      <td>Congo, Rep.</td>\n",
       "      <td>1960</td>\n",
       "      <td>NaN</td>\n",
       "      <td>NaN</td>\n",
       "      <td>42.702000</td>\n",
       "      <td>18.924000</td>\n",
       "      <td>NaN</td>\n",
       "    </tr>\n",
       "    <tr>\n",
       "      <th>7063</th>\n",
       "      <td>Jordan</td>\n",
       "      <td>2002</td>\n",
       "      <td>3.515819e+10</td>\n",
       "      <td>37.0</td>\n",
       "      <td>31.248000</td>\n",
       "      <td>4.037000</td>\n",
       "      <td>NaN</td>\n",
       "    </tr>\n",
       "  </tbody>\n",
       "</table>\n",
       "</div>"
      ],
      "text/plain": [
       "                                          country  year  \\\n",
       "5130                                      Germany  2016   \n",
       "11022                                    Pakistan  2008   \n",
       "5205                                    Gibraltar  1973   \n",
       "14117                                        Togo  1976   \n",
       "13567  Sub-Saharan Africa (excluding high income)  2016   \n",
       "14456                    Turks and Caicos Islands  1961   \n",
       "5960                         Hong Kong SAR, China  1961   \n",
       "1728                            Brunei Darussalam  1977   \n",
       "2832                                  Congo, Rep.  1960   \n",
       "7063                                       Jordan  2002   \n",
       "\n",
       "       GDP, PPP (current international $)  Gini index (World Bank estimate)  \\\n",
       "5130                         4.164749e+12                              31.9   \n",
       "11022                        6.553682e+11                               NaN   \n",
       "5205                                  NaN                               NaN   \n",
       "14117                                 NaN                               NaN   \n",
       "13567                        3.745424e+12                               NaN   \n",
       "14456                                 NaN                               NaN   \n",
       "5960                                  NaN                               NaN   \n",
       "1728                                  NaN                               NaN   \n",
       "2832                                  NaN                               NaN   \n",
       "7063                         3.515819e+10                              37.0   \n",
       "\n",
       "       Birth rate, crude (per 1,000 people)  \\\n",
       "5130                               9.600000   \n",
       "11022                             30.631000   \n",
       "5205                                    NaN   \n",
       "14117                             47.992000   \n",
       "13567                             36.165125   \n",
       "14456                                   NaN   \n",
       "5960                              35.000000   \n",
       "1728                              33.852000   \n",
       "2832                              42.702000   \n",
       "7063                              31.248000   \n",
       "\n",
       "       Death rate, crude (per 1,000 people)  \\\n",
       "5130                              11.100000   \n",
       "11022                              7.804000   \n",
       "5205                                    NaN   \n",
       "14117                             16.294000   \n",
       "13567                              9.003958   \n",
       "14456                                   NaN   \n",
       "5960                               6.100000   \n",
       "1728                               6.521000   \n",
       "2832                              18.924000   \n",
       "7063                               4.037000   \n",
       "\n",
       "       Suicide mortality rate (per 100,000 population)  \n",
       "5130                                         13.600000  \n",
       "11022                                              NaN  \n",
       "5205                                               NaN  \n",
       "14117                                              NaN  \n",
       "13567                                         7.539265  \n",
       "14456                                              NaN  \n",
       "5960                                               NaN  \n",
       "1728                                               NaN  \n",
       "2832                                               NaN  \n",
       "7063                                               NaN  "
      ]
     },
     "execution_count": 3,
     "metadata": {},
     "output_type": "execute_result"
    }
   ],
   "source": [
    "url = 'https://github.com/prasertcbs/basic-dataset/raw/master/worldbank_gdp_gini_birth_death_suicide_rate.csv'\n",
    "df = pd.read_csv(url)\n",
    "df.sample(10)"
   ]
  },
  {
   "cell_type": "code",
   "execution_count": 4,
   "id": "d7df03a2",
   "metadata": {},
   "outputs": [
    {
     "name": "stdout",
     "output_type": "stream",
     "text": [
      "<class 'pandas.core.frame.DataFrame'>\n",
      "RangeIndex: 15576 entries, 0 to 15575\n",
      "Data columns (total 7 columns):\n",
      " #   Column                                           Non-Null Count  Dtype  \n",
      "---  ------                                           --------------  -----  \n",
      " 0   country                                          15576 non-null  object \n",
      " 1   year                                             15576 non-null  int64  \n",
      " 2   GDP, PPP (current international $)               6726 non-null   float64\n",
      " 3   Gini index (World Bank estimate)                 1649 non-null   float64\n",
      " 4   Birth rate, crude (per 1,000 people)             14515 non-null  float64\n",
      " 5   Death rate, crude (per 1,000 people)             14492 non-null  float64\n",
      " 6   Suicide mortality rate (per 100,000 population)  1145 non-null   float64\n",
      "dtypes: float64(5), int64(1), object(1)\n",
      "memory usage: 851.9+ KB\n"
     ]
    }
   ],
   "source": [
    "df.info()"
   ]
  },
  {
   "cell_type": "markdown",
   "id": "8c835730",
   "metadata": {},
   "source": [
    "### filter and visualize `country` data"
   ]
  },
  {
   "cell_type": "code",
   "execution_count": 6,
   "id": "61525a9a",
   "metadata": {},
   "outputs": [
    {
     "data": {
      "text/html": [
       "<div>\n",
       "<style scoped>\n",
       "    .dataframe tbody tr th:only-of-type {\n",
       "        vertical-align: middle;\n",
       "    }\n",
       "\n",
       "    .dataframe tbody tr th {\n",
       "        vertical-align: top;\n",
       "    }\n",
       "\n",
       "    .dataframe thead th {\n",
       "        text-align: right;\n",
       "    }\n",
       "</style>\n",
       "<table border=\"1\" class=\"dataframe\">\n",
       "  <thead>\n",
       "    <tr style=\"text-align: right;\">\n",
       "      <th></th>\n",
       "      <th>country</th>\n",
       "      <th>year</th>\n",
       "      <th>GDP, PPP (current international $)</th>\n",
       "      <th>Gini index (World Bank estimate)</th>\n",
       "      <th>Birth rate, crude (per 1,000 people)</th>\n",
       "      <th>Death rate, crude (per 1,000 people)</th>\n",
       "      <th>Suicide mortality rate (per 100,000 population)</th>\n",
       "    </tr>\n",
       "  </thead>\n",
       "  <tbody>\n",
       "    <tr>\n",
       "      <th>13983</th>\n",
       "      <td>Thailand</td>\n",
       "      <td>1960</td>\n",
       "      <td>NaN</td>\n",
       "      <td>NaN</td>\n",
       "      <td>42.735</td>\n",
       "      <td>13.180</td>\n",
       "      <td>NaN</td>\n",
       "    </tr>\n",
       "    <tr>\n",
       "      <th>13984</th>\n",
       "      <td>Thailand</td>\n",
       "      <td>1961</td>\n",
       "      <td>NaN</td>\n",
       "      <td>NaN</td>\n",
       "      <td>42.617</td>\n",
       "      <td>12.853</td>\n",
       "      <td>NaN</td>\n",
       "    </tr>\n",
       "    <tr>\n",
       "      <th>13985</th>\n",
       "      <td>Thailand</td>\n",
       "      <td>1962</td>\n",
       "      <td>NaN</td>\n",
       "      <td>NaN</td>\n",
       "      <td>42.469</td>\n",
       "      <td>12.534</td>\n",
       "      <td>NaN</td>\n",
       "    </tr>\n",
       "    <tr>\n",
       "      <th>13986</th>\n",
       "      <td>Thailand</td>\n",
       "      <td>1963</td>\n",
       "      <td>NaN</td>\n",
       "      <td>NaN</td>\n",
       "      <td>42.283</td>\n",
       "      <td>12.226</td>\n",
       "      <td>NaN</td>\n",
       "    </tr>\n",
       "    <tr>\n",
       "      <th>13987</th>\n",
       "      <td>Thailand</td>\n",
       "      <td>1964</td>\n",
       "      <td>NaN</td>\n",
       "      <td>NaN</td>\n",
       "      <td>42.041</td>\n",
       "      <td>11.929</td>\n",
       "      <td>NaN</td>\n",
       "    </tr>\n",
       "    <tr>\n",
       "      <th>13988</th>\n",
       "      <td>Thailand</td>\n",
       "      <td>1965</td>\n",
       "      <td>NaN</td>\n",
       "      <td>NaN</td>\n",
       "      <td>41.708</td>\n",
       "      <td>11.639</td>\n",
       "      <td>NaN</td>\n",
       "    </tr>\n",
       "    <tr>\n",
       "      <th>13989</th>\n",
       "      <td>Thailand</td>\n",
       "      <td>1966</td>\n",
       "      <td>NaN</td>\n",
       "      <td>NaN</td>\n",
       "      <td>41.244</td>\n",
       "      <td>11.346</td>\n",
       "      <td>NaN</td>\n",
       "    </tr>\n",
       "    <tr>\n",
       "      <th>13990</th>\n",
       "      <td>Thailand</td>\n",
       "      <td>1967</td>\n",
       "      <td>NaN</td>\n",
       "      <td>NaN</td>\n",
       "      <td>40.625</td>\n",
       "      <td>11.046</td>\n",
       "      <td>NaN</td>\n",
       "    </tr>\n",
       "    <tr>\n",
       "      <th>13991</th>\n",
       "      <td>Thailand</td>\n",
       "      <td>1968</td>\n",
       "      <td>NaN</td>\n",
       "      <td>NaN</td>\n",
       "      <td>39.845</td>\n",
       "      <td>10.733</td>\n",
       "      <td>NaN</td>\n",
       "    </tr>\n",
       "    <tr>\n",
       "      <th>13992</th>\n",
       "      <td>Thailand</td>\n",
       "      <td>1969</td>\n",
       "      <td>NaN</td>\n",
       "      <td>NaN</td>\n",
       "      <td>38.912</td>\n",
       "      <td>10.408</td>\n",
       "      <td>NaN</td>\n",
       "    </tr>\n",
       "  </tbody>\n",
       "</table>\n",
       "</div>"
      ],
      "text/plain": [
       "        country  year  GDP, PPP (current international $)  \\\n",
       "13983  Thailand  1960                                 NaN   \n",
       "13984  Thailand  1961                                 NaN   \n",
       "13985  Thailand  1962                                 NaN   \n",
       "13986  Thailand  1963                                 NaN   \n",
       "13987  Thailand  1964                                 NaN   \n",
       "13988  Thailand  1965                                 NaN   \n",
       "13989  Thailand  1966                                 NaN   \n",
       "13990  Thailand  1967                                 NaN   \n",
       "13991  Thailand  1968                                 NaN   \n",
       "13992  Thailand  1969                                 NaN   \n",
       "\n",
       "       Gini index (World Bank estimate)  Birth rate, crude (per 1,000 people)  \\\n",
       "13983                               NaN                                42.735   \n",
       "13984                               NaN                                42.617   \n",
       "13985                               NaN                                42.469   \n",
       "13986                               NaN                                42.283   \n",
       "13987                               NaN                                42.041   \n",
       "13988                               NaN                                41.708   \n",
       "13989                               NaN                                41.244   \n",
       "13990                               NaN                                40.625   \n",
       "13991                               NaN                                39.845   \n",
       "13992                               NaN                                38.912   \n",
       "\n",
       "       Death rate, crude (per 1,000 people)  \\\n",
       "13983                                13.180   \n",
       "13984                                12.853   \n",
       "13985                                12.534   \n",
       "13986                                12.226   \n",
       "13987                                11.929   \n",
       "13988                                11.639   \n",
       "13989                                11.346   \n",
       "13990                                11.046   \n",
       "13991                                10.733   \n",
       "13992                                10.408   \n",
       "\n",
       "       Suicide mortality rate (per 100,000 population)  \n",
       "13983                                              NaN  \n",
       "13984                                              NaN  \n",
       "13985                                              NaN  \n",
       "13986                                              NaN  \n",
       "13987                                              NaN  \n",
       "13988                                              NaN  \n",
       "13989                                              NaN  \n",
       "13990                                              NaN  \n",
       "13991                                              NaN  \n",
       "13992                                              NaN  "
      ]
     },
     "execution_count": 6,
     "metadata": {},
     "output_type": "execute_result"
    }
   ],
   "source": [
    "df[df['country'].str.contains('Thailand')].head(10)"
   ]
  },
  {
   "cell_type": "code",
   "execution_count": 7,
   "id": "403b12f5",
   "metadata": {},
   "outputs": [],
   "source": [
    "x_col='year'\n",
    "y_col='Death rate, crude (per 1,000 people)'\n",
    "country='Thailand'"
   ]
  },
  {
   "cell_type": "code",
   "execution_count": 8,
   "id": "8c940c73",
   "metadata": {},
   "outputs": [
    {
     "data": {
      "text/html": [
       "<div>\n",
       "<style scoped>\n",
       "    .dataframe tbody tr th:only-of-type {\n",
       "        vertical-align: middle;\n",
       "    }\n",
       "\n",
       "    .dataframe tbody tr th {\n",
       "        vertical-align: top;\n",
       "    }\n",
       "\n",
       "    .dataframe thead th {\n",
       "        text-align: right;\n",
       "    }\n",
       "</style>\n",
       "<table border=\"1\" class=\"dataframe\">\n",
       "  <thead>\n",
       "    <tr style=\"text-align: right;\">\n",
       "      <th></th>\n",
       "      <th>country</th>\n",
       "      <th>year</th>\n",
       "      <th>GDP, PPP (current international $)</th>\n",
       "      <th>Gini index (World Bank estimate)</th>\n",
       "      <th>Birth rate, crude (per 1,000 people)</th>\n",
       "      <th>Death rate, crude (per 1,000 people)</th>\n",
       "      <th>Suicide mortality rate (per 100,000 population)</th>\n",
       "    </tr>\n",
       "  </thead>\n",
       "  <tbody>\n",
       "    <tr>\n",
       "      <th>13983</th>\n",
       "      <td>Thailand</td>\n",
       "      <td>1960</td>\n",
       "      <td>NaN</td>\n",
       "      <td>NaN</td>\n",
       "      <td>42.735</td>\n",
       "      <td>13.180</td>\n",
       "      <td>NaN</td>\n",
       "    </tr>\n",
       "    <tr>\n",
       "      <th>13984</th>\n",
       "      <td>Thailand</td>\n",
       "      <td>1961</td>\n",
       "      <td>NaN</td>\n",
       "      <td>NaN</td>\n",
       "      <td>42.617</td>\n",
       "      <td>12.853</td>\n",
       "      <td>NaN</td>\n",
       "    </tr>\n",
       "    <tr>\n",
       "      <th>13985</th>\n",
       "      <td>Thailand</td>\n",
       "      <td>1962</td>\n",
       "      <td>NaN</td>\n",
       "      <td>NaN</td>\n",
       "      <td>42.469</td>\n",
       "      <td>12.534</td>\n",
       "      <td>NaN</td>\n",
       "    </tr>\n",
       "    <tr>\n",
       "      <th>13986</th>\n",
       "      <td>Thailand</td>\n",
       "      <td>1963</td>\n",
       "      <td>NaN</td>\n",
       "      <td>NaN</td>\n",
       "      <td>42.283</td>\n",
       "      <td>12.226</td>\n",
       "      <td>NaN</td>\n",
       "    </tr>\n",
       "    <tr>\n",
       "      <th>13987</th>\n",
       "      <td>Thailand</td>\n",
       "      <td>1964</td>\n",
       "      <td>NaN</td>\n",
       "      <td>NaN</td>\n",
       "      <td>42.041</td>\n",
       "      <td>11.929</td>\n",
       "      <td>NaN</td>\n",
       "    </tr>\n",
       "    <tr>\n",
       "      <th>13988</th>\n",
       "      <td>Thailand</td>\n",
       "      <td>1965</td>\n",
       "      <td>NaN</td>\n",
       "      <td>NaN</td>\n",
       "      <td>41.708</td>\n",
       "      <td>11.639</td>\n",
       "      <td>NaN</td>\n",
       "    </tr>\n",
       "    <tr>\n",
       "      <th>13989</th>\n",
       "      <td>Thailand</td>\n",
       "      <td>1966</td>\n",
       "      <td>NaN</td>\n",
       "      <td>NaN</td>\n",
       "      <td>41.244</td>\n",
       "      <td>11.346</td>\n",
       "      <td>NaN</td>\n",
       "    </tr>\n",
       "    <tr>\n",
       "      <th>13990</th>\n",
       "      <td>Thailand</td>\n",
       "      <td>1967</td>\n",
       "      <td>NaN</td>\n",
       "      <td>NaN</td>\n",
       "      <td>40.625</td>\n",
       "      <td>11.046</td>\n",
       "      <td>NaN</td>\n",
       "    </tr>\n",
       "    <tr>\n",
       "      <th>13991</th>\n",
       "      <td>Thailand</td>\n",
       "      <td>1968</td>\n",
       "      <td>NaN</td>\n",
       "      <td>NaN</td>\n",
       "      <td>39.845</td>\n",
       "      <td>10.733</td>\n",
       "      <td>NaN</td>\n",
       "    </tr>\n",
       "    <tr>\n",
       "      <th>13992</th>\n",
       "      <td>Thailand</td>\n",
       "      <td>1969</td>\n",
       "      <td>NaN</td>\n",
       "      <td>NaN</td>\n",
       "      <td>38.912</td>\n",
       "      <td>10.408</td>\n",
       "      <td>NaN</td>\n",
       "    </tr>\n",
       "    <tr>\n",
       "      <th>13993</th>\n",
       "      <td>Thailand</td>\n",
       "      <td>1970</td>\n",
       "      <td>NaN</td>\n",
       "      <td>NaN</td>\n",
       "      <td>37.846</td>\n",
       "      <td>10.072</td>\n",
       "      <td>NaN</td>\n",
       "    </tr>\n",
       "    <tr>\n",
       "      <th>13994</th>\n",
       "      <td>Thailand</td>\n",
       "      <td>1971</td>\n",
       "      <td>NaN</td>\n",
       "      <td>NaN</td>\n",
       "      <td>36.675</td>\n",
       "      <td>9.730</td>\n",
       "      <td>NaN</td>\n",
       "    </tr>\n",
       "    <tr>\n",
       "      <th>13995</th>\n",
       "      <td>Thailand</td>\n",
       "      <td>1972</td>\n",
       "      <td>NaN</td>\n",
       "      <td>NaN</td>\n",
       "      <td>35.448</td>\n",
       "      <td>9.390</td>\n",
       "      <td>NaN</td>\n",
       "    </tr>\n",
       "    <tr>\n",
       "      <th>13996</th>\n",
       "      <td>Thailand</td>\n",
       "      <td>1973</td>\n",
       "      <td>NaN</td>\n",
       "      <td>NaN</td>\n",
       "      <td>34.208</td>\n",
       "      <td>9.059</td>\n",
       "      <td>NaN</td>\n",
       "    </tr>\n",
       "    <tr>\n",
       "      <th>13997</th>\n",
       "      <td>Thailand</td>\n",
       "      <td>1974</td>\n",
       "      <td>NaN</td>\n",
       "      <td>NaN</td>\n",
       "      <td>32.985</td>\n",
       "      <td>8.741</td>\n",
       "      <td>NaN</td>\n",
       "    </tr>\n",
       "    <tr>\n",
       "      <th>13998</th>\n",
       "      <td>Thailand</td>\n",
       "      <td>1975</td>\n",
       "      <td>NaN</td>\n",
       "      <td>NaN</td>\n",
       "      <td>31.798</td>\n",
       "      <td>8.443</td>\n",
       "      <td>NaN</td>\n",
       "    </tr>\n",
       "    <tr>\n",
       "      <th>13999</th>\n",
       "      <td>Thailand</td>\n",
       "      <td>1976</td>\n",
       "      <td>NaN</td>\n",
       "      <td>NaN</td>\n",
       "      <td>30.657</td>\n",
       "      <td>8.171</td>\n",
       "      <td>NaN</td>\n",
       "    </tr>\n",
       "    <tr>\n",
       "      <th>14000</th>\n",
       "      <td>Thailand</td>\n",
       "      <td>1977</td>\n",
       "      <td>NaN</td>\n",
       "      <td>NaN</td>\n",
       "      <td>29.552</td>\n",
       "      <td>7.924</td>\n",
       "      <td>NaN</td>\n",
       "    </tr>\n",
       "    <tr>\n",
       "      <th>14001</th>\n",
       "      <td>Thailand</td>\n",
       "      <td>1978</td>\n",
       "      <td>NaN</td>\n",
       "      <td>NaN</td>\n",
       "      <td>28.479</td>\n",
       "      <td>7.698</td>\n",
       "      <td>NaN</td>\n",
       "    </tr>\n",
       "    <tr>\n",
       "      <th>14002</th>\n",
       "      <td>Thailand</td>\n",
       "      <td>1979</td>\n",
       "      <td>NaN</td>\n",
       "      <td>NaN</td>\n",
       "      <td>27.444</td>\n",
       "      <td>7.490</td>\n",
       "      <td>NaN</td>\n",
       "    </tr>\n",
       "    <tr>\n",
       "      <th>14003</th>\n",
       "      <td>Thailand</td>\n",
       "      <td>1980</td>\n",
       "      <td>NaN</td>\n",
       "      <td>NaN</td>\n",
       "      <td>26.450</td>\n",
       "      <td>7.289</td>\n",
       "      <td>NaN</td>\n",
       "    </tr>\n",
       "    <tr>\n",
       "      <th>14004</th>\n",
       "      <td>Thailand</td>\n",
       "      <td>1981</td>\n",
       "      <td>NaN</td>\n",
       "      <td>45.2</td>\n",
       "      <td>25.500</td>\n",
       "      <td>7.080</td>\n",
       "      <td>NaN</td>\n",
       "    </tr>\n",
       "    <tr>\n",
       "      <th>14005</th>\n",
       "      <td>Thailand</td>\n",
       "      <td>1982</td>\n",
       "      <td>NaN</td>\n",
       "      <td>NaN</td>\n",
       "      <td>24.591</td>\n",
       "      <td>6.855</td>\n",
       "      <td>NaN</td>\n",
       "    </tr>\n",
       "    <tr>\n",
       "      <th>14006</th>\n",
       "      <td>Thailand</td>\n",
       "      <td>1983</td>\n",
       "      <td>NaN</td>\n",
       "      <td>NaN</td>\n",
       "      <td>23.723</td>\n",
       "      <td>6.615</td>\n",
       "      <td>NaN</td>\n",
       "    </tr>\n",
       "    <tr>\n",
       "      <th>14007</th>\n",
       "      <td>Thailand</td>\n",
       "      <td>1984</td>\n",
       "      <td>NaN</td>\n",
       "      <td>NaN</td>\n",
       "      <td>22.901</td>\n",
       "      <td>6.367</td>\n",
       "      <td>NaN</td>\n",
       "    </tr>\n",
       "    <tr>\n",
       "      <th>14008</th>\n",
       "      <td>Thailand</td>\n",
       "      <td>1985</td>\n",
       "      <td>NaN</td>\n",
       "      <td>NaN</td>\n",
       "      <td>22.133</td>\n",
       "      <td>6.129</td>\n",
       "      <td>NaN</td>\n",
       "    </tr>\n",
       "    <tr>\n",
       "      <th>14009</th>\n",
       "      <td>Thailand</td>\n",
       "      <td>1986</td>\n",
       "      <td>NaN</td>\n",
       "      <td>NaN</td>\n",
       "      <td>21.431</td>\n",
       "      <td>5.923</td>\n",
       "      <td>NaN</td>\n",
       "    </tr>\n",
       "    <tr>\n",
       "      <th>14010</th>\n",
       "      <td>Thailand</td>\n",
       "      <td>1987</td>\n",
       "      <td>NaN</td>\n",
       "      <td>NaN</td>\n",
       "      <td>20.794</td>\n",
       "      <td>5.770</td>\n",
       "      <td>NaN</td>\n",
       "    </tr>\n",
       "    <tr>\n",
       "      <th>14011</th>\n",
       "      <td>Thailand</td>\n",
       "      <td>1988</td>\n",
       "      <td>NaN</td>\n",
       "      <td>43.8</td>\n",
       "      <td>20.220</td>\n",
       "      <td>5.682</td>\n",
       "      <td>NaN</td>\n",
       "    </tr>\n",
       "    <tr>\n",
       "      <th>14012</th>\n",
       "      <td>Thailand</td>\n",
       "      <td>1989</td>\n",
       "      <td>NaN</td>\n",
       "      <td>NaN</td>\n",
       "      <td>19.701</td>\n",
       "      <td>5.663</td>\n",
       "      <td>NaN</td>\n",
       "    </tr>\n",
       "    <tr>\n",
       "      <th>14013</th>\n",
       "      <td>Thailand</td>\n",
       "      <td>1990</td>\n",
       "      <td>2.438602e+11</td>\n",
       "      <td>45.3</td>\n",
       "      <td>19.222</td>\n",
       "      <td>5.707</td>\n",
       "      <td>NaN</td>\n",
       "    </tr>\n",
       "    <tr>\n",
       "      <th>14014</th>\n",
       "      <td>Thailand</td>\n",
       "      <td>1991</td>\n",
       "      <td>2.736830e+11</td>\n",
       "      <td>NaN</td>\n",
       "      <td>18.766</td>\n",
       "      <td>5.804</td>\n",
       "      <td>NaN</td>\n",
       "    </tr>\n",
       "    <tr>\n",
       "      <th>14015</th>\n",
       "      <td>Thailand</td>\n",
       "      <td>1992</td>\n",
       "      <td>3.025470e+11</td>\n",
       "      <td>47.9</td>\n",
       "      <td>18.318</td>\n",
       "      <td>5.932</td>\n",
       "      <td>NaN</td>\n",
       "    </tr>\n",
       "    <tr>\n",
       "      <th>14016</th>\n",
       "      <td>Thailand</td>\n",
       "      <td>1993</td>\n",
       "      <td>3.352726e+11</td>\n",
       "      <td>NaN</td>\n",
       "      <td>17.863</td>\n",
       "      <td>6.071</td>\n",
       "      <td>NaN</td>\n",
       "    </tr>\n",
       "    <tr>\n",
       "      <th>14017</th>\n",
       "      <td>Thailand</td>\n",
       "      <td>1994</td>\n",
       "      <td>3.698163e+11</td>\n",
       "      <td>43.5</td>\n",
       "      <td>17.396</td>\n",
       "      <td>6.211</td>\n",
       "      <td>NaN</td>\n",
       "    </tr>\n",
       "    <tr>\n",
       "      <th>14018</th>\n",
       "      <td>Thailand</td>\n",
       "      <td>1995</td>\n",
       "      <td>4.082306e+11</td>\n",
       "      <td>NaN</td>\n",
       "      <td>16.913</td>\n",
       "      <td>6.344</td>\n",
       "      <td>NaN</td>\n",
       "    </tr>\n",
       "    <tr>\n",
       "      <th>14019</th>\n",
       "      <td>Thailand</td>\n",
       "      <td>1996</td>\n",
       "      <td>4.392009e+11</td>\n",
       "      <td>42.9</td>\n",
       "      <td>16.417</td>\n",
       "      <td>6.465</td>\n",
       "      <td>NaN</td>\n",
       "    </tr>\n",
       "    <tr>\n",
       "      <th>14020</th>\n",
       "      <td>Thailand</td>\n",
       "      <td>1997</td>\n",
       "      <td>4.344722e+11</td>\n",
       "      <td>NaN</td>\n",
       "      <td>15.920</td>\n",
       "      <td>6.580</td>\n",
       "      <td>NaN</td>\n",
       "    </tr>\n",
       "    <tr>\n",
       "      <th>14021</th>\n",
       "      <td>Thailand</td>\n",
       "      <td>1998</td>\n",
       "      <td>4.058212e+11</td>\n",
       "      <td>41.5</td>\n",
       "      <td>15.433</td>\n",
       "      <td>6.688</td>\n",
       "      <td>NaN</td>\n",
       "    </tr>\n",
       "    <tr>\n",
       "      <th>14022</th>\n",
       "      <td>Thailand</td>\n",
       "      <td>1999</td>\n",
       "      <td>4.305037e+11</td>\n",
       "      <td>43.1</td>\n",
       "      <td>14.965</td>\n",
       "      <td>6.788</td>\n",
       "      <td>NaN</td>\n",
       "    </tr>\n",
       "    <tr>\n",
       "      <th>14023</th>\n",
       "      <td>Thailand</td>\n",
       "      <td>2000</td>\n",
       "      <td>4.597363e+11</td>\n",
       "      <td>42.8</td>\n",
       "      <td>14.524</td>\n",
       "      <td>6.877</td>\n",
       "      <td>16.2</td>\n",
       "    </tr>\n",
       "    <tr>\n",
       "      <th>14024</th>\n",
       "      <td>Thailand</td>\n",
       "      <td>2001</td>\n",
       "      <td>4.860021e+11</td>\n",
       "      <td>NaN</td>\n",
       "      <td>14.118</td>\n",
       "      <td>6.951</td>\n",
       "      <td>NaN</td>\n",
       "    </tr>\n",
       "    <tr>\n",
       "      <th>14025</th>\n",
       "      <td>Thailand</td>\n",
       "      <td>2002</td>\n",
       "      <td>5.240466e+11</td>\n",
       "      <td>41.9</td>\n",
       "      <td>13.751</td>\n",
       "      <td>7.012</td>\n",
       "      <td>NaN</td>\n",
       "    </tr>\n",
       "    <tr>\n",
       "      <th>14026</th>\n",
       "      <td>Thailand</td>\n",
       "      <td>2003</td>\n",
       "      <td>5.721533e+11</td>\n",
       "      <td>NaN</td>\n",
       "      <td>13.423</td>\n",
       "      <td>7.060</td>\n",
       "      <td>NaN</td>\n",
       "    </tr>\n",
       "    <tr>\n",
       "      <th>14027</th>\n",
       "      <td>Thailand</td>\n",
       "      <td>2004</td>\n",
       "      <td>6.245103e+11</td>\n",
       "      <td>42.5</td>\n",
       "      <td>13.131</td>\n",
       "      <td>7.097</td>\n",
       "      <td>NaN</td>\n",
       "    </tr>\n",
       "    <tr>\n",
       "      <th>14028</th>\n",
       "      <td>Thailand</td>\n",
       "      <td>2005</td>\n",
       "      <td>6.709303e+11</td>\n",
       "      <td>NaN</td>\n",
       "      <td>12.870</td>\n",
       "      <td>7.123</td>\n",
       "      <td>12.7</td>\n",
       "    </tr>\n",
       "    <tr>\n",
       "      <th>14029</th>\n",
       "      <td>Thailand</td>\n",
       "      <td>2006</td>\n",
       "      <td>7.255733e+11</td>\n",
       "      <td>41.8</td>\n",
       "      <td>12.632</td>\n",
       "      <td>7.141</td>\n",
       "      <td>NaN</td>\n",
       "    </tr>\n",
       "    <tr>\n",
       "      <th>14030</th>\n",
       "      <td>Thailand</td>\n",
       "      <td>2007</td>\n",
       "      <td>7.855596e+11</td>\n",
       "      <td>39.8</td>\n",
       "      <td>12.407</td>\n",
       "      <td>7.154</td>\n",
       "      <td>NaN</td>\n",
       "    </tr>\n",
       "    <tr>\n",
       "      <th>14031</th>\n",
       "      <td>Thailand</td>\n",
       "      <td>2008</td>\n",
       "      <td>8.146598e+11</td>\n",
       "      <td>40.3</td>\n",
       "      <td>12.188</td>\n",
       "      <td>7.164</td>\n",
       "      <td>NaN</td>\n",
       "    </tr>\n",
       "    <tr>\n",
       "      <th>14032</th>\n",
       "      <td>Thailand</td>\n",
       "      <td>2009</td>\n",
       "      <td>8.152013e+11</td>\n",
       "      <td>39.6</td>\n",
       "      <td>11.971</td>\n",
       "      <td>7.175</td>\n",
       "      <td>NaN</td>\n",
       "    </tr>\n",
       "    <tr>\n",
       "      <th>14033</th>\n",
       "      <td>Thailand</td>\n",
       "      <td>2010</td>\n",
       "      <td>8.866634e+11</td>\n",
       "      <td>39.4</td>\n",
       "      <td>11.757</td>\n",
       "      <td>7.191</td>\n",
       "      <td>14.3</td>\n",
       "    </tr>\n",
       "    <tr>\n",
       "      <th>14034</th>\n",
       "      <td>Thailand</td>\n",
       "      <td>2011</td>\n",
       "      <td>9.127897e+11</td>\n",
       "      <td>37.5</td>\n",
       "      <td>11.548</td>\n",
       "      <td>7.213</td>\n",
       "      <td>NaN</td>\n",
       "    </tr>\n",
       "    <tr>\n",
       "      <th>14035</th>\n",
       "      <td>Thailand</td>\n",
       "      <td>2012</td>\n",
       "      <td>1.008787e+12</td>\n",
       "      <td>39.3</td>\n",
       "      <td>11.351</td>\n",
       "      <td>7.241</td>\n",
       "      <td>NaN</td>\n",
       "    </tr>\n",
       "    <tr>\n",
       "      <th>14036</th>\n",
       "      <td>Thailand</td>\n",
       "      <td>2013</td>\n",
       "      <td>1.049948e+12</td>\n",
       "      <td>37.8</td>\n",
       "      <td>11.169</td>\n",
       "      <td>7.279</td>\n",
       "      <td>NaN</td>\n",
       "    </tr>\n",
       "    <tr>\n",
       "      <th>14037</th>\n",
       "      <td>Thailand</td>\n",
       "      <td>2014</td>\n",
       "      <td>1.059446e+12</td>\n",
       "      <td>37.0</td>\n",
       "      <td>10.999</td>\n",
       "      <td>7.327</td>\n",
       "      <td>NaN</td>\n",
       "    </tr>\n",
       "    <tr>\n",
       "      <th>14038</th>\n",
       "      <td>Thailand</td>\n",
       "      <td>2015</td>\n",
       "      <td>1.087225e+12</td>\n",
       "      <td>36.0</td>\n",
       "      <td>10.836</td>\n",
       "      <td>7.389</td>\n",
       "      <td>14.6</td>\n",
       "    </tr>\n",
       "    <tr>\n",
       "      <th>14039</th>\n",
       "      <td>Thailand</td>\n",
       "      <td>2016</td>\n",
       "      <td>1.146218e+12</td>\n",
       "      <td>36.9</td>\n",
       "      <td>10.676</td>\n",
       "      <td>7.467</td>\n",
       "      <td>14.4</td>\n",
       "    </tr>\n",
       "    <tr>\n",
       "      <th>14040</th>\n",
       "      <td>Thailand</td>\n",
       "      <td>2017</td>\n",
       "      <td>1.205675e+12</td>\n",
       "      <td>36.5</td>\n",
       "      <td>10.513</td>\n",
       "      <td>7.559</td>\n",
       "      <td>NaN</td>\n",
       "    </tr>\n",
       "    <tr>\n",
       "      <th>14041</th>\n",
       "      <td>Thailand</td>\n",
       "      <td>2018</td>\n",
       "      <td>1.286309e+12</td>\n",
       "      <td>36.4</td>\n",
       "      <td>10.344</td>\n",
       "      <td>7.666</td>\n",
       "      <td>NaN</td>\n",
       "    </tr>\n",
       "  </tbody>\n",
       "</table>\n",
       "</div>"
      ],
      "text/plain": [
       "        country  year  GDP, PPP (current international $)  \\\n",
       "13983  Thailand  1960                                 NaN   \n",
       "13984  Thailand  1961                                 NaN   \n",
       "13985  Thailand  1962                                 NaN   \n",
       "13986  Thailand  1963                                 NaN   \n",
       "13987  Thailand  1964                                 NaN   \n",
       "13988  Thailand  1965                                 NaN   \n",
       "13989  Thailand  1966                                 NaN   \n",
       "13990  Thailand  1967                                 NaN   \n",
       "13991  Thailand  1968                                 NaN   \n",
       "13992  Thailand  1969                                 NaN   \n",
       "13993  Thailand  1970                                 NaN   \n",
       "13994  Thailand  1971                                 NaN   \n",
       "13995  Thailand  1972                                 NaN   \n",
       "13996  Thailand  1973                                 NaN   \n",
       "13997  Thailand  1974                                 NaN   \n",
       "13998  Thailand  1975                                 NaN   \n",
       "13999  Thailand  1976                                 NaN   \n",
       "14000  Thailand  1977                                 NaN   \n",
       "14001  Thailand  1978                                 NaN   \n",
       "14002  Thailand  1979                                 NaN   \n",
       "14003  Thailand  1980                                 NaN   \n",
       "14004  Thailand  1981                                 NaN   \n",
       "14005  Thailand  1982                                 NaN   \n",
       "14006  Thailand  1983                                 NaN   \n",
       "14007  Thailand  1984                                 NaN   \n",
       "14008  Thailand  1985                                 NaN   \n",
       "14009  Thailand  1986                                 NaN   \n",
       "14010  Thailand  1987                                 NaN   \n",
       "14011  Thailand  1988                                 NaN   \n",
       "14012  Thailand  1989                                 NaN   \n",
       "14013  Thailand  1990                        2.438602e+11   \n",
       "14014  Thailand  1991                        2.736830e+11   \n",
       "14015  Thailand  1992                        3.025470e+11   \n",
       "14016  Thailand  1993                        3.352726e+11   \n",
       "14017  Thailand  1994                        3.698163e+11   \n",
       "14018  Thailand  1995                        4.082306e+11   \n",
       "14019  Thailand  1996                        4.392009e+11   \n",
       "14020  Thailand  1997                        4.344722e+11   \n",
       "14021  Thailand  1998                        4.058212e+11   \n",
       "14022  Thailand  1999                        4.305037e+11   \n",
       "14023  Thailand  2000                        4.597363e+11   \n",
       "14024  Thailand  2001                        4.860021e+11   \n",
       "14025  Thailand  2002                        5.240466e+11   \n",
       "14026  Thailand  2003                        5.721533e+11   \n",
       "14027  Thailand  2004                        6.245103e+11   \n",
       "14028  Thailand  2005                        6.709303e+11   \n",
       "14029  Thailand  2006                        7.255733e+11   \n",
       "14030  Thailand  2007                        7.855596e+11   \n",
       "14031  Thailand  2008                        8.146598e+11   \n",
       "14032  Thailand  2009                        8.152013e+11   \n",
       "14033  Thailand  2010                        8.866634e+11   \n",
       "14034  Thailand  2011                        9.127897e+11   \n",
       "14035  Thailand  2012                        1.008787e+12   \n",
       "14036  Thailand  2013                        1.049948e+12   \n",
       "14037  Thailand  2014                        1.059446e+12   \n",
       "14038  Thailand  2015                        1.087225e+12   \n",
       "14039  Thailand  2016                        1.146218e+12   \n",
       "14040  Thailand  2017                        1.205675e+12   \n",
       "14041  Thailand  2018                        1.286309e+12   \n",
       "\n",
       "       Gini index (World Bank estimate)  Birth rate, crude (per 1,000 people)  \\\n",
       "13983                               NaN                                42.735   \n",
       "13984                               NaN                                42.617   \n",
       "13985                               NaN                                42.469   \n",
       "13986                               NaN                                42.283   \n",
       "13987                               NaN                                42.041   \n",
       "13988                               NaN                                41.708   \n",
       "13989                               NaN                                41.244   \n",
       "13990                               NaN                                40.625   \n",
       "13991                               NaN                                39.845   \n",
       "13992                               NaN                                38.912   \n",
       "13993                               NaN                                37.846   \n",
       "13994                               NaN                                36.675   \n",
       "13995                               NaN                                35.448   \n",
       "13996                               NaN                                34.208   \n",
       "13997                               NaN                                32.985   \n",
       "13998                               NaN                                31.798   \n",
       "13999                               NaN                                30.657   \n",
       "14000                               NaN                                29.552   \n",
       "14001                               NaN                                28.479   \n",
       "14002                               NaN                                27.444   \n",
       "14003                               NaN                                26.450   \n",
       "14004                              45.2                                25.500   \n",
       "14005                               NaN                                24.591   \n",
       "14006                               NaN                                23.723   \n",
       "14007                               NaN                                22.901   \n",
       "14008                               NaN                                22.133   \n",
       "14009                               NaN                                21.431   \n",
       "14010                               NaN                                20.794   \n",
       "14011                              43.8                                20.220   \n",
       "14012                               NaN                                19.701   \n",
       "14013                              45.3                                19.222   \n",
       "14014                               NaN                                18.766   \n",
       "14015                              47.9                                18.318   \n",
       "14016                               NaN                                17.863   \n",
       "14017                              43.5                                17.396   \n",
       "14018                               NaN                                16.913   \n",
       "14019                              42.9                                16.417   \n",
       "14020                               NaN                                15.920   \n",
       "14021                              41.5                                15.433   \n",
       "14022                              43.1                                14.965   \n",
       "14023                              42.8                                14.524   \n",
       "14024                               NaN                                14.118   \n",
       "14025                              41.9                                13.751   \n",
       "14026                               NaN                                13.423   \n",
       "14027                              42.5                                13.131   \n",
       "14028                               NaN                                12.870   \n",
       "14029                              41.8                                12.632   \n",
       "14030                              39.8                                12.407   \n",
       "14031                              40.3                                12.188   \n",
       "14032                              39.6                                11.971   \n",
       "14033                              39.4                                11.757   \n",
       "14034                              37.5                                11.548   \n",
       "14035                              39.3                                11.351   \n",
       "14036                              37.8                                11.169   \n",
       "14037                              37.0                                10.999   \n",
       "14038                              36.0                                10.836   \n",
       "14039                              36.9                                10.676   \n",
       "14040                              36.5                                10.513   \n",
       "14041                              36.4                                10.344   \n",
       "\n",
       "       Death rate, crude (per 1,000 people)  \\\n",
       "13983                                13.180   \n",
       "13984                                12.853   \n",
       "13985                                12.534   \n",
       "13986                                12.226   \n",
       "13987                                11.929   \n",
       "13988                                11.639   \n",
       "13989                                11.346   \n",
       "13990                                11.046   \n",
       "13991                                10.733   \n",
       "13992                                10.408   \n",
       "13993                                10.072   \n",
       "13994                                 9.730   \n",
       "13995                                 9.390   \n",
       "13996                                 9.059   \n",
       "13997                                 8.741   \n",
       "13998                                 8.443   \n",
       "13999                                 8.171   \n",
       "14000                                 7.924   \n",
       "14001                                 7.698   \n",
       "14002                                 7.490   \n",
       "14003                                 7.289   \n",
       "14004                                 7.080   \n",
       "14005                                 6.855   \n",
       "14006                                 6.615   \n",
       "14007                                 6.367   \n",
       "14008                                 6.129   \n",
       "14009                                 5.923   \n",
       "14010                                 5.770   \n",
       "14011                                 5.682   \n",
       "14012                                 5.663   \n",
       "14013                                 5.707   \n",
       "14014                                 5.804   \n",
       "14015                                 5.932   \n",
       "14016                                 6.071   \n",
       "14017                                 6.211   \n",
       "14018                                 6.344   \n",
       "14019                                 6.465   \n",
       "14020                                 6.580   \n",
       "14021                                 6.688   \n",
       "14022                                 6.788   \n",
       "14023                                 6.877   \n",
       "14024                                 6.951   \n",
       "14025                                 7.012   \n",
       "14026                                 7.060   \n",
       "14027                                 7.097   \n",
       "14028                                 7.123   \n",
       "14029                                 7.141   \n",
       "14030                                 7.154   \n",
       "14031                                 7.164   \n",
       "14032                                 7.175   \n",
       "14033                                 7.191   \n",
       "14034                                 7.213   \n",
       "14035                                 7.241   \n",
       "14036                                 7.279   \n",
       "14037                                 7.327   \n",
       "14038                                 7.389   \n",
       "14039                                 7.467   \n",
       "14040                                 7.559   \n",
       "14041                                 7.666   \n",
       "\n",
       "       Suicide mortality rate (per 100,000 population)  \n",
       "13983                                              NaN  \n",
       "13984                                              NaN  \n",
       "13985                                              NaN  \n",
       "13986                                              NaN  \n",
       "13987                                              NaN  \n",
       "13988                                              NaN  \n",
       "13989                                              NaN  \n",
       "13990                                              NaN  \n",
       "13991                                              NaN  \n",
       "13992                                              NaN  \n",
       "13993                                              NaN  \n",
       "13994                                              NaN  \n",
       "13995                                              NaN  \n",
       "13996                                              NaN  \n",
       "13997                                              NaN  \n",
       "13998                                              NaN  \n",
       "13999                                              NaN  \n",
       "14000                                              NaN  \n",
       "14001                                              NaN  \n",
       "14002                                              NaN  \n",
       "14003                                              NaN  \n",
       "14004                                              NaN  \n",
       "14005                                              NaN  \n",
       "14006                                              NaN  \n",
       "14007                                              NaN  \n",
       "14008                                              NaN  \n",
       "14009                                              NaN  \n",
       "14010                                              NaN  \n",
       "14011                                              NaN  \n",
       "14012                                              NaN  \n",
       "14013                                              NaN  \n",
       "14014                                              NaN  \n",
       "14015                                              NaN  \n",
       "14016                                              NaN  \n",
       "14017                                              NaN  \n",
       "14018                                              NaN  \n",
       "14019                                              NaN  \n",
       "14020                                              NaN  \n",
       "14021                                              NaN  \n",
       "14022                                              NaN  \n",
       "14023                                             16.2  \n",
       "14024                                              NaN  \n",
       "14025                                              NaN  \n",
       "14026                                              NaN  \n",
       "14027                                              NaN  \n",
       "14028                                             12.7  \n",
       "14029                                              NaN  \n",
       "14030                                              NaN  \n",
       "14031                                              NaN  \n",
       "14032                                              NaN  \n",
       "14033                                             14.3  \n",
       "14034                                              NaN  \n",
       "14035                                              NaN  \n",
       "14036                                              NaN  \n",
       "14037                                              NaN  \n",
       "14038                                             14.6  \n",
       "14039                                             14.4  \n",
       "14040                                              NaN  \n",
       "14041                                              NaN  "
      ]
     },
     "execution_count": 8,
     "metadata": {},
     "output_type": "execute_result"
    }
   ],
   "source": [
    "df1=df[df['country']==country].copy()\n",
    "df1"
   ]
  },
  {
   "cell_type": "code",
   "execution_count": 10,
   "id": "758af8b4",
   "metadata": {},
   "outputs": [
    {
     "data": {
      "image/png": "[encoded data removed]",
      "text/plain": [
       "<Figure size 500x500 with 1 Axes>"
      ]
     },
     "metadata": {},
     "output_type": "display_data"
    }
   ],
   "source": [
    "sns.lmplot(x=x_col, y=y_col, data=df1, fit_reg=True,\n",
    "          scatter_kws={'alpha': .2,'color':'green'},\n",
    "          line_kws={'color':'salmon'});"
   ]
  },
  {
   "cell_type": "code",
   "execution_count": 11,
   "id": "effb199e",
   "metadata": {},
   "outputs": [],
   "source": [
    "import sklearn as sk\n",
    "from sklearn.model_selection import train_test_split\n",
    "from sklearn.preprocessing import PolynomialFeatures\n",
    "from sklearn.linear_model import LinearRegression"
   ]
  },
  {
   "cell_type": "code",
   "execution_count": 12,
   "id": "166f6af8",
   "metadata": {},
   "outputs": [],
   "source": [
    "X=df1[[x_col]]\n",
    "y=df1[y_col]"
   ]
  },
  {
   "cell_type": "code",
   "execution_count": 14,
   "id": "915d361c",
   "metadata": {},
   "outputs": [
    {
     "data": {
      "text/html": [
       "<div>\n",
       "<style scoped>\n",
       "    .dataframe tbody tr th:only-of-type {\n",
       "        vertical-align: middle;\n",
       "    }\n",
       "\n",
       "    .dataframe tbody tr th {\n",
       "        vertical-align: top;\n",
       "    }\n",
       "\n",
       "    .dataframe thead th {\n",
       "        text-align: right;\n",
       "    }\n",
       "</style>\n",
       "<table border=\"1\" class=\"dataframe\">\n",
       "  <thead>\n",
       "    <tr style=\"text-align: right;\">\n",
       "      <th></th>\n",
       "      <th>year</th>\n",
       "    </tr>\n",
       "  </thead>\n",
       "  <tbody>\n",
       "    <tr>\n",
       "      <th>13983</th>\n",
       "      <td>1960</td>\n",
       "    </tr>\n",
       "    <tr>\n",
       "      <th>13984</th>\n",
       "      <td>1961</td>\n",
       "    </tr>\n",
       "    <tr>\n",
       "      <th>13985</th>\n",
       "      <td>1962</td>\n",
       "    </tr>\n",
       "  </tbody>\n",
       "</table>\n",
       "</div>"
      ],
      "text/plain": [
       "       year\n",
       "13983  1960\n",
       "13984  1961\n",
       "13985  1962"
      ]
     },
     "execution_count": 14,
     "metadata": {},
     "output_type": "execute_result"
    }
   ],
   "source": [
    "X[:3]"
   ]
  },
  {
   "cell_type": "code",
   "execution_count": 17,
   "id": "e9a1874b",
   "metadata": {},
   "outputs": [
    {
     "name": "stderr",
     "output_type": "stream",
     "text": [
      "C:\\Users\\ASUS\\AppData\\Local\\Temp\\ipykernel_21908\\721213638.py:1: FutureWarning: The behavior of `series[i:j]` with an integer-dtype index is deprecated. In a future version, this will be treated as *label-based* indexing, consistent with e.g. `series[i]` lookups. To retain the old behavior, use `series.iloc[i:j]`. To get the future behavior, use `series.loc[i:j]`.\n",
      "  y[:3]\n"
     ]
    },
    {
     "data": {
      "text/plain": [
       "13983    13.180\n",
       "13984    12.853\n",
       "13985    12.534\n",
       "Name: Death rate, crude (per 1,000 people), dtype: float64"
      ]
     },
     "execution_count": 17,
     "metadata": {},
     "output_type": "execute_result"
    }
   ],
   "source": [
    "y[:3]"
   ]
  },
  {
   "cell_type": "code",
   "execution_count": 18,
   "id": "fb5097e5",
   "metadata": {},
   "outputs": [],
   "source": [
    "test_size=.2\n",
    "X_train, X_test, y_train, y_test = train_test_split(X, y,\n",
    "                                                   test_size=test_size,\n",
    "                                                   random_state=1)"
   ]
  },
  {
   "cell_type": "markdown",
   "id": "2be1c16c",
   "metadata": {},
   "source": [
    "### linear regression\n",
    "`simple regression model`\n",
    "$$\n",
    "\\hat{y}=\\beta_{0}+\\beta_{1}x+\\varepsilon\n",
    "$$"
   ]
  },
  {
   "cell_type": "code",
   "execution_count": 19,
   "id": "9d5ccffd",
   "metadata": {},
   "outputs": [
    {
     "data": {
      "text/html": [
       "<style>#sk-container-id-1 {color: black;background-color: white;}#sk-container-id-1 pre{padding: 0;}#sk-container-id-1 div.sk-toggleable {background-color: white;}#sk-container-id-1 label.sk-toggleable__label {cursor: pointer;display: block;width: 100%;margin-bottom: 0;padding: 0.3em;box-sizing: border-box;text-align: center;}#sk-container-id-1 label.sk-toggleable__label-arrow:before {content: \"▸\";float: left;margin-right: 0.25em;color: #696969;}#sk-container-id-1 label.sk-toggleable__label-arrow:hover:before {color: black;}#sk-container-id-1 div.sk-estimator:hover label.sk-toggleable__label-arrow:before {color: black;}#sk-container-id-1 div.sk-toggleable__content {max-height: 0;max-width: 0;overflow: hidden;text-align: left;background-color: #f0f8ff;}#sk-container-id-1 div.sk-toggleable__content pre {margin: 0.2em;color: black;border-radius: 0.25em;background-color: #f0f8ff;}#sk-container-id-1 input.sk-toggleable__control:checked~div.sk-toggleable__content {max-height: 200px;max-width: 100%;overflow: auto;}#sk-container-id-1 input.sk-toggleable__control:checked~label.sk-toggleable__label-arrow:before {content: \"▾\";}#sk-container-id-1 div.sk-estimator input.sk-toggleable__control:checked~label.sk-toggleable__label {background-color: #d4ebff;}#sk-container-id-1 div.sk-label input.sk-toggleable__control:checked~label.sk-toggleable__label {background-color: #d4ebff;}#sk-container-id-1 input.sk-hidden--visually {border: 0;clip: rect(1px 1px 1px 1px);clip: rect(1px, 1px, 1px, 1px);height: 1px;margin: -1px;overflow: hidden;padding: 0;position: absolute;width: 1px;}#sk-container-id-1 div.sk-estimator {font-family: monospace;background-color: #f0f8ff;border: 1px dotted black;border-radius: 0.25em;box-sizing: border-box;margin-bottom: 0.5em;}#sk-container-id-1 div.sk-estimator:hover {background-color: #d4ebff;}#sk-container-id-1 div.sk-parallel-item::after {content: \"\";width: 100%;border-bottom: 1px solid gray;flex-grow: 1;}#sk-container-id-1 div.sk-label:hover label.sk-toggleable__label {background-color: #d4ebff;}#sk-container-id-1 div.sk-serial::before {content: \"\";position: absolute;border-left: 1px solid gray;box-sizing: border-box;top: 0;bottom: 0;left: 50%;z-index: 0;}#sk-container-id-1 div.sk-serial {display: flex;flex-direction: column;align-items: center;background-color: white;padding-right: 0.2em;padding-left: 0.2em;position: relative;}#sk-container-id-1 div.sk-item {position: relative;z-index: 1;}#sk-container-id-1 div.sk-parallel {display: flex;align-items: stretch;justify-content: center;background-color: white;position: relative;}#sk-container-id-1 div.sk-item::before, #sk-container-id-1 div.sk-parallel-item::before {content: \"\";position: absolute;border-left: 1px solid gray;box-sizing: border-box;top: 0;bottom: 0;left: 50%;z-index: -1;}#sk-container-id-1 div.sk-parallel-item {display: flex;flex-direction: column;z-index: 1;position: relative;background-color: white;}#sk-container-id-1 div.sk-parallel-item:first-child::after {align-self: flex-end;width: 50%;}#sk-container-id-1 div.sk-parallel-item:last-child::after {align-self: flex-start;width: 50%;}#sk-container-id-1 div.sk-parallel-item:only-child::after {width: 0;}#sk-container-id-1 div.sk-dashed-wrapped {border: 1px dashed gray;margin: 0 0.4em 0.5em 0.4em;box-sizing: border-box;padding-bottom: 0.4em;background-color: white;}#sk-container-id-1 div.sk-label label {font-family: monospace;font-weight: bold;display: inline-block;line-height: 1.2em;}#sk-container-id-1 div.sk-label-container {text-align: center;}#sk-container-id-1 div.sk-container {/* jupyter's `normalize.less` sets `[hidden] { display: none; }` but bootstrap.min.css set `[hidden] { display: none !important; }` so we also need the `!important` here to be able to override the default hidden behavior on the sphinx rendered scikit-learn.org. See: https://github.com/scikit-learn/scikit-learn/issues/21755 */display: inline-block !important;position: relative;}#sk-container-id-1 div.sk-text-repr-fallback {display: none;}</style><div id=\"sk-container-id-1\" class=\"sk-top-container\"><div class=\"sk-text-repr-fallback\"><pre>LinearRegression()</pre><b>In a Jupyter environment, please rerun this cell to show the HTML representation or trust the notebook. <br />On GitHub, the HTML representation is unable to render, please try loading this page with nbviewer.org.</b></div><div class=\"sk-container\" hidden><div class=\"sk-item\"><div class=\"sk-estimator sk-toggleable\"><input class=\"sk-toggleable__control sk-hidden--visually\" id=\"sk-estimator-id-1\" type=\"checkbox\" checked><label for=\"sk-estimator-id-1\" class=\"sk-toggleable__label sk-toggleable__label-arrow\">LinearRegression</label><div class=\"sk-toggleable__content\"><pre>LinearRegression()</pre></div></div></div></div></div>"
      ],
      "text/plain": [
       "LinearRegression()"
      ]
     },
     "execution_count": 19,
     "metadata": {},
     "output_type": "execute_result"
    }
   ],
   "source": [
    "lm = LinearRegression()\n",
    "lm"
   ]
  },
  {
   "cell_type": "code",
   "execution_count": 23,
   "id": "89a25f75",
   "metadata": {},
   "outputs": [
    {
     "data": {
      "text/html": [
       "<style>#sk-container-id-1 {color: black;background-color: white;}#sk-container-id-1 pre{padding: 0;}#sk-container-id-1 div.sk-toggleable {background-color: white;}#sk-container-id-1 label.sk-toggleable__label {cursor: pointer;display: block;width: 100%;margin-bottom: 0;padding: 0.3em;box-sizing: border-box;text-align: center;}#sk-container-id-1 label.sk-toggleable__label-arrow:before {content: \"▸\";float: left;margin-right: 0.25em;color: #696969;}#sk-container-id-1 label.sk-toggleable__label-arrow:hover:before {color: black;}#sk-container-id-1 div.sk-estimator:hover label.sk-toggleable__label-arrow:before {color: black;}#sk-container-id-1 div.sk-toggleable__content {max-height: 0;max-width: 0;overflow: hidden;text-align: left;background-color: #f0f8ff;}#sk-container-id-1 div.sk-toggleable__content pre {margin: 0.2em;color: black;border-radius: 0.25em;background-color: #f0f8ff;}#sk-container-id-1 input.sk-toggleable__control:checked~div.sk-toggleable__content {max-height: 200px;max-width: 100%;overflow: auto;}#sk-container-id-1 input.sk-toggleable__control:checked~label.sk-toggleable__label-arrow:before {content: \"▾\";}#sk-container-id-1 div.sk-estimator input.sk-toggleable__control:checked~label.sk-toggleable__label {background-color: #d4ebff;}#sk-container-id-1 div.sk-label input.sk-toggleable__control:checked~label.sk-toggleable__label {background-color: #d4ebff;}#sk-container-id-1 input.sk-hidden--visually {border: 0;clip: rect(1px 1px 1px 1px);clip: rect(1px, 1px, 1px, 1px);height: 1px;margin: -1px;overflow: hidden;padding: 0;position: absolute;width: 1px;}#sk-container-id-1 div.sk-estimator {font-family: monospace;background-color: #f0f8ff;border: 1px dotted black;border-radius: 0.25em;box-sizing: border-box;margin-bottom: 0.5em;}#sk-container-id-1 div.sk-estimator:hover {background-color: #d4ebff;}#sk-container-id-1 div.sk-parallel-item::after {content: \"\";width: 100%;border-bottom: 1px solid gray;flex-grow: 1;}#sk-container-id-1 div.sk-label:hover label.sk-toggleable__label {background-color: #d4ebff;}#sk-container-id-1 div.sk-serial::before {content: \"\";position: absolute;border-left: 1px solid gray;box-sizing: border-box;top: 0;bottom: 0;left: 50%;z-index: 0;}#sk-container-id-1 div.sk-serial {display: flex;flex-direction: column;align-items: center;background-color: white;padding-right: 0.2em;padding-left: 0.2em;position: relative;}#sk-container-id-1 div.sk-item {position: relative;z-index: 1;}#sk-container-id-1 div.sk-parallel {display: flex;align-items: stretch;justify-content: center;background-color: white;position: relative;}#sk-container-id-1 div.sk-item::before, #sk-container-id-1 div.sk-parallel-item::before {content: \"\";position: absolute;border-left: 1px solid gray;box-sizing: border-box;top: 0;bottom: 0;left: 50%;z-index: -1;}#sk-container-id-1 div.sk-parallel-item {display: flex;flex-direction: column;z-index: 1;position: relative;background-color: white;}#sk-container-id-1 div.sk-parallel-item:first-child::after {align-self: flex-end;width: 50%;}#sk-container-id-1 div.sk-parallel-item:last-child::after {align-self: flex-start;width: 50%;}#sk-container-id-1 div.sk-parallel-item:only-child::after {width: 0;}#sk-container-id-1 div.sk-dashed-wrapped {border: 1px dashed gray;margin: 0 0.4em 0.5em 0.4em;box-sizing: border-box;padding-bottom: 0.4em;background-color: white;}#sk-container-id-1 div.sk-label label {font-family: monospace;font-weight: bold;display: inline-block;line-height: 1.2em;}#sk-container-id-1 div.sk-label-container {text-align: center;}#sk-container-id-1 div.sk-container {/* jupyter's `normalize.less` sets `[hidden] { display: none; }` but bootstrap.min.css set `[hidden] { display: none !important; }` so we also need the `!important` here to be able to override the default hidden behavior on the sphinx rendered scikit-learn.org. See: https://github.com/scikit-learn/scikit-learn/issues/21755 */display: inline-block !important;position: relative;}#sk-container-id-1 div.sk-text-repr-fallback {display: none;}</style><div id=\"sk-container-id-1\" class=\"sk-top-container\"><div class=\"sk-text-repr-fallback\"><pre>LinearRegression()</pre><b>In a Jupyter environment, please rerun this cell to show the HTML representation or trust the notebook. <br />On GitHub, the HTML representation is unable to render, please try loading this page with nbviewer.org.</b></div><div class=\"sk-container\" hidden><div class=\"sk-item\"><div class=\"sk-estimator sk-toggleable\"><input class=\"sk-toggleable__control sk-hidden--visually\" id=\"sk-estimator-id-1\" type=\"checkbox\" checked><label for=\"sk-estimator-id-1\" class=\"sk-toggleable__label sk-toggleable__label-arrow\">LinearRegression</label><div class=\"sk-toggleable__content\"><pre>LinearRegression()</pre></div></div></div></div></div>"
      ],
      "text/plain": [
       "LinearRegression()"
      ]
     },
     "execution_count": 23,
     "metadata": {},
     "output_type": "execute_result"
    }
   ],
   "source": [
    "lm.fit(X_train,y_train)"
   ]
  },
  {
   "cell_type": "code",
   "execution_count": 21,
   "id": "4f3a84e4",
   "metadata": {},
   "outputs": [
    {
     "data": {
      "text/plain": [
       "0.4353052622557835"
      ]
     },
     "execution_count": 21,
     "metadata": {},
     "output_type": "execute_result"
    }
   ],
   "source": [
    "lm.score(X_train,y_train) # R-squared"
   ]
  },
  {
   "cell_type": "code",
   "execution_count": 22,
   "id": "57acac4d",
   "metadata": {},
   "outputs": [
    {
     "data": {
      "text/plain": [
       "array([-0.07661316])"
      ]
     },
     "execution_count": 22,
     "metadata": {},
     "output_type": "execute_result"
    }
   ],
   "source": [
    "lm.coef_"
   ]
  },
  {
   "cell_type": "code",
   "execution_count": 23,
   "id": "d510cb18",
   "metadata": {},
   "outputs": [
    {
     "data": {
      "text/plain": [
       "160.27616227662946"
      ]
     },
     "execution_count": 23,
     "metadata": {},
     "output_type": "execute_result"
    }
   ],
   "source": [
    "lm.intercept_"
   ]
  },
  {
   "cell_type": "code",
   "execution_count": 24,
   "id": "fe40bfed",
   "metadata": {},
   "outputs": [
    {
     "data": {
      "text/plain": [
       "0.5856015176097809"
      ]
     },
     "execution_count": 24,
     "metadata": {},
     "output_type": "execute_result"
    }
   ],
   "source": [
    "lm.score(X_test,y_test) # R-squared"
   ]
  },
  {
   "cell_type": "code",
   "execution_count": 25,
   "id": "a776e918",
   "metadata": {},
   "outputs": [
    {
     "data": {
      "text/plain": [
       "Text(0, 0.5, 'Death rate, crude (per 1,000 people)')"
      ]
     },
     "execution_count": 25,
     "metadata": {},
     "output_type": "execute_result"
    },
    {
     "data": {
      "image/png": "[encoded data removed]",
      "text/plain": [
       "<Figure size 1000x600 with 1 Axes>"
      ]
     },
     "metadata": {},
     "output_type": "display_data"
    }
   ],
   "source": [
    "fig = plt.figure(figsize=(10,6))\n",
    "plt.scatter(X,y,color='green',alpha=.2)\n",
    "plt.plot(X, lm.predict(X), color='red',alpha=.5)\n",
    "plt.xlabel(x_col)\n",
    "plt.ylabel(y_col)"
   ]
  },
  {
   "cell_type": "code",
   "execution_count": 28,
   "id": "ba113df8",
   "metadata": {},
   "outputs": [
    {
     "name": "stderr",
     "output_type": "stream",
     "text": [
      "C:\\Users\\ASUS\\AppData\\Local\\Programs\\Python\\Python310\\lib\\site-packages\\sklearn\\base.py:450: UserWarning: X does not have valid feature names, but LinearRegression was fitted with feature names\n",
      "  warnings.warn(\n"
     ]
    },
    {
     "data": {
      "text/plain": [
       "array([7.81597278, 5.44096481])"
      ]
     },
     "execution_count": 28,
     "metadata": {},
     "output_type": "execute_result"
    }
   ],
   "source": [
    "lm.predict([[1990],\n",
    "            [2021]])"
   ]
  },
  {
   "cell_type": "markdown",
   "id": "4fbd99a8",
   "metadata": {},
   "source": [
    "### Polynomial regression\n",
    "`Simple Linear Regression`\n",
    "$$\n",
    "y=\\beta_{0}+\\beta_{1}x+\\varepsilon\n",
    "$$\n",
    "\n",
    "`General polynomial regression model`\n",
    "$$\n",
    "y=\\beta_{0}+\\beta_{1}x^1+\\beta_{2}x^2+\\beta_{3}x^3+{...}+\\beta_{n}x^n+\\varepsilon\n",
    "$$\n"
   ]
  },
  {
   "cell_type": "markdown",
   "id": "38d1d9a2",
   "metadata": {},
   "source": [
    "#### Understand fundamental Polynomial regresion"
   ]
  },
  {
   "cell_type": "code",
   "execution_count": 29,
   "id": "56ad96bd",
   "metadata": {},
   "outputs": [
    {
     "data": {
      "text/plain": [
       "array([[1.0000e+00, 1.9900e+03, 3.9601e+06]])"
      ]
     },
     "execution_count": 29,
     "metadata": {},
     "output_type": "execute_result"
    }
   ],
   "source": [
    "poly_reg = PolynomialFeatures(degree=2)\n",
    "poly_reg.fit_transform([[1990]])"
   ]
  },
  {
   "cell_type": "code",
   "execution_count": 30,
   "id": "8d8e0125",
   "metadata": {},
   "outputs": [
    {
     "data": {
      "text/plain": [
       "(1, 1990, 3960100)"
      ]
     },
     "execution_count": 30,
     "metadata": {},
     "output_type": "execute_result"
    }
   ],
   "source": [
    "v = 1990\n",
    "v**0, v**1, v**2"
   ]
  },
  {
   "cell_type": "markdown",
   "id": "8c80ebf5",
   "metadata": {},
   "source": [
    "### Take action Polynomial Regression"
   ]
  },
  {
   "cell_type": "code",
   "execution_count": 32,
   "id": "44483f0a",
   "metadata": {},
   "outputs": [],
   "source": [
    "X_train_poly = poly_reg.fit_transform(X_train)\n",
    "X_test_poly = poly_reg.fit_transform(X_test)"
   ]
  },
  {
   "cell_type": "code",
   "execution_count": 33,
   "id": "567c3cdf",
   "metadata": {},
   "outputs": [
    {
     "data": {
      "text/plain": [
       "array([[1.000000e+00, 1.996000e+03, 3.984016e+06],\n",
       "       [1.000000e+00, 2.000000e+03, 4.000000e+06],\n",
       "       [1.000000e+00, 1.984000e+03, 3.936256e+06]])"
      ]
     },
     "execution_count": 33,
     "metadata": {},
     "output_type": "execute_result"
    }
   ],
   "source": [
    "X_train_poly[:3]"
   ]
  },
  {
   "cell_type": "code",
   "execution_count": 24,
   "id": "da2e4a6b",
   "metadata": {},
   "outputs": [
    {
     "ename": "NameError",
     "evalue": "name 'X_train_poly' is not defined",
     "output_type": "error",
     "traceback": [
      "\u001b[1;31m---------------------------------------------------------------------------\u001b[0m",
      "\u001b[1;31mNameError\u001b[0m                                 Traceback (most recent call last)",
      "Cell \u001b[1;32mIn[24], line 2\u001b[0m\n\u001b[0;32m      1\u001b[0m pm \u001b[38;5;241m=\u001b[39m LinearRegression()\n\u001b[1;32m----> 2\u001b[0m pm\u001b[38;5;241m.\u001b[39mfit(\u001b[43mX_train_poly\u001b[49m, y_train)\n",
      "\u001b[1;31mNameError\u001b[0m: name 'X_train_poly' is not defined"
     ]
    }
   ],
   "source": [
    "pm = LinearRegression()\n",
    "pm.fit(X_train_poly, y_train)"
   ]
  },
  {
   "cell_type": "code",
   "execution_count": 36,
   "id": "d9c86346",
   "metadata": {},
   "outputs": [
    {
     "data": {
      "text/plain": [
       "0.9448282949367037"
      ]
     },
     "execution_count": 36,
     "metadata": {},
     "output_type": "execute_result"
    }
   ],
   "source": [
    "pm.score(X_train_poly, y_train)"
   ]
  },
  {
   "cell_type": "code",
   "execution_count": 37,
   "id": "d1e7a433",
   "metadata": {},
   "outputs": [
    {
     "data": {
      "text/plain": [
       "21619.43539756367"
      ]
     },
     "execution_count": 37,
     "metadata": {},
     "output_type": "execute_result"
    }
   ],
   "source": [
    "pm.intercept_"
   ]
  },
  {
   "cell_type": "code",
   "execution_count": 38,
   "id": "6d91655c",
   "metadata": {},
   "outputs": [
    {
     "data": {
      "text/plain": [
       "array([ 0.00000000e+00, -2.16491346e+01,  5.42121601e-03])"
      ]
     },
     "execution_count": 38,
     "metadata": {},
     "output_type": "execute_result"
    }
   ],
   "source": [
    "pm.coef_"
   ]
  },
  {
   "cell_type": "code",
   "execution_count": 39,
   "id": "0da3b11b",
   "metadata": {},
   "outputs": [
    {
     "data": {
      "text/plain": [
       "0.9491064757890537"
      ]
     },
     "execution_count": 39,
     "metadata": {},
     "output_type": "execute_result"
    }
   ],
   "source": [
    "pm.score(X_test_poly, y_test)"
   ]
  },
  {
   "cell_type": "code",
   "execution_count": 40,
   "id": "55ebcff8",
   "metadata": {},
   "outputs": [
    {
     "data": {
      "text/html": [
       "<div>\n",
       "<style scoped>\n",
       "    .dataframe tbody tr th:only-of-type {\n",
       "        vertical-align: middle;\n",
       "    }\n",
       "\n",
       "    .dataframe tbody tr th {\n",
       "        vertical-align: top;\n",
       "    }\n",
       "\n",
       "    .dataframe thead th {\n",
       "        text-align: right;\n",
       "    }\n",
       "</style>\n",
       "<table border=\"1\" class=\"dataframe\">\n",
       "  <thead>\n",
       "    <tr style=\"text-align: right;\">\n",
       "      <th></th>\n",
       "      <th>year</th>\n",
       "    </tr>\n",
       "  </thead>\n",
       "  <tbody>\n",
       "    <tr>\n",
       "      <th>14019</th>\n",
       "      <td>1996</td>\n",
       "    </tr>\n",
       "    <tr>\n",
       "      <th>14023</th>\n",
       "      <td>2000</td>\n",
       "    </tr>\n",
       "    <tr>\n",
       "      <th>14007</th>\n",
       "      <td>1984</td>\n",
       "    </tr>\n",
       "  </tbody>\n",
       "</table>\n",
       "</div>"
      ],
      "text/plain": [
       "       year\n",
       "14019  1996\n",
       "14023  2000\n",
       "14007  1984"
      ]
     },
     "execution_count": 40,
     "metadata": {},
     "output_type": "execute_result"
    }
   ],
   "source": [
    "X_train[:3]"
   ]
  },
  {
   "cell_type": "code",
   "execution_count": 41,
   "id": "a2ac64a4",
   "metadata": {},
   "outputs": [
    {
     "data": {
      "text/plain": [
       "array([[1.000000e+00, 1.996000e+03, 3.984016e+06],\n",
       "       [1.000000e+00, 2.000000e+03, 4.000000e+06],\n",
       "       [1.000000e+00, 1.984000e+03, 3.936256e+06]])"
      ]
     },
     "execution_count": 41,
     "metadata": {},
     "output_type": "execute_result"
    }
   ],
   "source": [
    "X_train_poly[:3]"
   ]
  },
  {
   "cell_type": "code",
   "execution_count": 42,
   "id": "65ddaa9a",
   "metadata": {},
   "outputs": [
    {
     "data": {
      "text/plain": [
       "5.974124829725042"
      ]
     },
     "execution_count": 42,
     "metadata": {},
     "output_type": "execute_result"
    }
   ],
   "source": [
    "pm.intercept_ + sum((pm.coef_ * X_train_poly[0]))"
   ]
  },
  {
   "cell_type": "code",
   "execution_count": 43,
   "id": "befab1a7",
   "metadata": {},
   "outputs": [
    {
     "data": {
      "text/plain": [
       "array([5.97412483, 6.0303033 , 6.84646291])"
      ]
     },
     "execution_count": 43,
     "metadata": {},
     "output_type": "execute_result"
    }
   ],
   "source": [
    "pm.predict(X_train_poly[:3])"
   ]
  },
  {
   "cell_type": "code",
   "execution_count": 46,
   "id": "ff969bb3",
   "metadata": {},
   "outputs": [
    {
     "name": "stdout",
     "output_type": "stream",
     "text": [
      "[5.97412483]\n",
      "[5.97412483 6.0303033  6.84646291]\n"
     ]
    }
   ],
   "source": [
    "print(pm.predict(poly_reg.fit_transform([[1996]])))\n",
    "print(pm.predict(poly_reg.fit_transform([[1996],[2000],[1984]])))"
   ]
  },
  {
   "cell_type": "code",
   "execution_count": 53,
   "id": "9c9e1b01",
   "metadata": {},
   "outputs": [
    {
     "data": {
      "text/plain": [
       "6.0303"
      ]
     },
     "execution_count": 53,
     "metadata": {},
     "output_type": "execute_result"
    }
   ],
   "source": [
    "# Create function for predict\n",
    "def predict(intercept, coef, x):\n",
    "    v=intercept\n",
    "    for p in range(len(coef)):\n",
    "        v += x ** p * coef[p]\n",
    "    return v.round(4)\n",
    "\n",
    "# Use function for predict\n",
    "predict(pm.intercept_, pm.coef_, 2000)"
   ]
  },
  {
   "cell_type": "code",
   "execution_count": 56,
   "id": "3d359c53",
   "metadata": {},
   "outputs": [
    {
     "data": {
      "text/plain": [
       "Text(0, 0.5, 'Death rate, crude (per 1,000 people)')"
      ]
     },
     "execution_count": 56,
     "metadata": {},
     "output_type": "execute_result"
    },
    {
     "data": {
      "image/png": "[encoded data removed]",
      "text/plain": [
       "<Figure size 1000x600 with 1 Axes>"
      ]
     },
     "metadata": {},
     "output_type": "display_data"
    }
   ],
   "source": [
    "fig = plt.figure(figsize=(10,6))\n",
    "plt.scatter(X,y, color='green', alpha=.2)\n",
    "plt.plot(X, pm.predict(poly_reg.fit_transform(X)), color='red', alpha=.5)\n",
    "plt.title('Polynomial Regression')\n",
    "plt.xlabel(x_col)\n",
    "plt.ylabel(y_col)"
   ]
  },
  {
   "cell_type": "markdown",
   "id": "a6a61671",
   "metadata": {},
   "source": [
    "# Multiple Polynomial Regression (Automoblie dataset)"
   ]
  },
  {
   "cell_type": "code",
   "execution_count": 1,
   "id": "ae691975",
   "metadata": {},
   "outputs": [],
   "source": [
    "import pandas as pd\n",
    "import numpy as np\n",
    "import matplotlib.pyplot as plt\n",
    "import seaborn as sns\n",
    "%matplotlib inline\n",
    "%config InlineBackend.figure_formate = 'retina'"
   ]
  },
  {
   "cell_type": "code",
   "execution_count": 2,
   "id": "05d882b1",
   "metadata": {},
   "outputs": [
    {
     "name": "stdout",
     "output_type": "stream",
     "text": [
      "seaborn version: 0.12.1\n",
      "pandas version: 1.5.2\n",
      "numpy version: 1.23.4\n"
     ]
    }
   ],
   "source": [
    "print(f'seaborn version: {sns.__version__}')\n",
    "print(f'pandas version: {pd.__version__}')\n",
    "print(f'numpy version: {np.__version__}')\n",
    "# print(f'matplotlib version: {plt.__version__}')"
   ]
  },
  {
   "cell_type": "code",
   "execution_count": 3,
   "id": "cdb0bcd9",
   "metadata": {},
   "outputs": [
    {
     "data": {
      "text/html": [
       "<div>\n",
       "<style scoped>\n",
       "    .dataframe tbody tr th:only-of-type {\n",
       "        vertical-align: middle;\n",
       "    }\n",
       "\n",
       "    .dataframe tbody tr th {\n",
       "        vertical-align: top;\n",
       "    }\n",
       "\n",
       "    .dataframe thead th {\n",
       "        text-align: right;\n",
       "    }\n",
       "</style>\n",
       "<table border=\"1\" class=\"dataframe\">\n",
       "  <thead>\n",
       "    <tr style=\"text-align: right;\">\n",
       "      <th></th>\n",
       "      <th>mpg</th>\n",
       "      <th>cylinders</th>\n",
       "      <th>displacement</th>\n",
       "      <th>horsepower</th>\n",
       "      <th>weight</th>\n",
       "      <th>acceleration</th>\n",
       "      <th>year</th>\n",
       "      <th>origin</th>\n",
       "      <th>name</th>\n",
       "    </tr>\n",
       "  </thead>\n",
       "  <tbody>\n",
       "    <tr>\n",
       "      <th>213</th>\n",
       "      <td>13.0</td>\n",
       "      <td>8</td>\n",
       "      <td>350.0</td>\n",
       "      <td>145.0</td>\n",
       "      <td>4055</td>\n",
       "      <td>12.0</td>\n",
       "      <td>76</td>\n",
       "      <td>1</td>\n",
       "      <td>chevy c10</td>\n",
       "    </tr>\n",
       "    <tr>\n",
       "      <th>62</th>\n",
       "      <td>13.0</td>\n",
       "      <td>8</td>\n",
       "      <td>350.0</td>\n",
       "      <td>165.0</td>\n",
       "      <td>4274</td>\n",
       "      <td>12.0</td>\n",
       "      <td>72</td>\n",
       "      <td>1</td>\n",
       "      <td>chevrolet impala</td>\n",
       "    </tr>\n",
       "    <tr>\n",
       "      <th>342</th>\n",
       "      <td>30.0</td>\n",
       "      <td>4</td>\n",
       "      <td>135.0</td>\n",
       "      <td>84.0</td>\n",
       "      <td>2385</td>\n",
       "      <td>12.9</td>\n",
       "      <td>81</td>\n",
       "      <td>1</td>\n",
       "      <td>plymouth reliant</td>\n",
       "    </tr>\n",
       "    <tr>\n",
       "      <th>11</th>\n",
       "      <td>14.0</td>\n",
       "      <td>8</td>\n",
       "      <td>340.0</td>\n",
       "      <td>160.0</td>\n",
       "      <td>3609</td>\n",
       "      <td>8.0</td>\n",
       "      <td>70</td>\n",
       "      <td>1</td>\n",
       "      <td>plymouth 'cuda 340</td>\n",
       "    </tr>\n",
       "    <tr>\n",
       "      <th>179</th>\n",
       "      <td>22.0</td>\n",
       "      <td>4</td>\n",
       "      <td>121.0</td>\n",
       "      <td>98.0</td>\n",
       "      <td>2945</td>\n",
       "      <td>14.5</td>\n",
       "      <td>75</td>\n",
       "      <td>2</td>\n",
       "      <td>volvo 244dl</td>\n",
       "    </tr>\n",
       "    <tr>\n",
       "      <th>82</th>\n",
       "      <td>23.0</td>\n",
       "      <td>4</td>\n",
       "      <td>120.0</td>\n",
       "      <td>97.0</td>\n",
       "      <td>2506</td>\n",
       "      <td>14.5</td>\n",
       "      <td>72</td>\n",
       "      <td>3</td>\n",
       "      <td>toyouta corona mark ii (sw)</td>\n",
       "    </tr>\n",
       "    <tr>\n",
       "      <th>279</th>\n",
       "      <td>29.5</td>\n",
       "      <td>4</td>\n",
       "      <td>98.0</td>\n",
       "      <td>68.0</td>\n",
       "      <td>2135</td>\n",
       "      <td>16.6</td>\n",
       "      <td>78</td>\n",
       "      <td>3</td>\n",
       "      <td>honda accord lx</td>\n",
       "    </tr>\n",
       "    <tr>\n",
       "      <th>314</th>\n",
       "      <td>26.4</td>\n",
       "      <td>4</td>\n",
       "      <td>140.0</td>\n",
       "      <td>88.0</td>\n",
       "      <td>2870</td>\n",
       "      <td>18.1</td>\n",
       "      <td>80</td>\n",
       "      <td>1</td>\n",
       "      <td>ford fairmont</td>\n",
       "    </tr>\n",
       "    <tr>\n",
       "      <th>207</th>\n",
       "      <td>20.0</td>\n",
       "      <td>4</td>\n",
       "      <td>130.0</td>\n",
       "      <td>102.0</td>\n",
       "      <td>3150</td>\n",
       "      <td>15.7</td>\n",
       "      <td>76</td>\n",
       "      <td>2</td>\n",
       "      <td>volvo 245</td>\n",
       "    </tr>\n",
       "    <tr>\n",
       "      <th>60</th>\n",
       "      <td>20.0</td>\n",
       "      <td>4</td>\n",
       "      <td>140.0</td>\n",
       "      <td>90.0</td>\n",
       "      <td>2408</td>\n",
       "      <td>19.5</td>\n",
       "      <td>72</td>\n",
       "      <td>1</td>\n",
       "      <td>chevrolet vega</td>\n",
       "    </tr>\n",
       "  </tbody>\n",
       "</table>\n",
       "</div>"
      ],
      "text/plain": [
       "      mpg  cylinders  displacement  horsepower  weight  acceleration  year  \\\n",
       "213  13.0          8         350.0       145.0    4055          12.0    76   \n",
       "62   13.0          8         350.0       165.0    4274          12.0    72   \n",
       "342  30.0          4         135.0        84.0    2385          12.9    81   \n",
       "11   14.0          8         340.0       160.0    3609           8.0    70   \n",
       "179  22.0          4         121.0        98.0    2945          14.5    75   \n",
       "82   23.0          4         120.0        97.0    2506          14.5    72   \n",
       "279  29.5          4          98.0        68.0    2135          16.6    78   \n",
       "314  26.4          4         140.0        88.0    2870          18.1    80   \n",
       "207  20.0          4         130.0       102.0    3150          15.7    76   \n",
       "60   20.0          4         140.0        90.0    2408          19.5    72   \n",
       "\n",
       "     origin                         name  \n",
       "213       1                    chevy c10  \n",
       "62        1             chevrolet impala  \n",
       "342       1             plymouth reliant  \n",
       "11        1           plymouth 'cuda 340  \n",
       "179       2                  volvo 244dl  \n",
       "82        3  toyouta corona mark ii (sw)  \n",
       "279       3              honda accord lx  \n",
       "314       1                ford fairmont  \n",
       "207       2                    volvo 245  \n",
       "60        1               chevrolet vega  "
      ]
     },
     "execution_count": 3,
     "metadata": {},
     "output_type": "execute_result"
    }
   ],
   "source": [
    "url = 'https://github.com/prasertcbs/basic-dataset/raw/master/ISLR/Auto.csv'\n",
    "df=pd.read_csv(url, na_values='?')\n",
    "df.sample(10)"
   ]
  },
  {
   "cell_type": "code",
   "execution_count": 4,
   "id": "9deb0878",
   "metadata": {},
   "outputs": [
    {
     "name": "stdout",
     "output_type": "stream",
     "text": [
      "<class 'pandas.core.frame.DataFrame'>\n",
      "RangeIndex: 397 entries, 0 to 396\n",
      "Data columns (total 9 columns):\n",
      " #   Column        Non-Null Count  Dtype  \n",
      "---  ------        --------------  -----  \n",
      " 0   mpg           397 non-null    float64\n",
      " 1   cylinders     397 non-null    int64  \n",
      " 2   displacement  397 non-null    float64\n",
      " 3   horsepower    392 non-null    float64\n",
      " 4   weight        397 non-null    int64  \n",
      " 5   acceleration  397 non-null    float64\n",
      " 6   year          397 non-null    int64  \n",
      " 7   origin        397 non-null    int64  \n",
      " 8   name          397 non-null    object \n",
      "dtypes: float64(4), int64(4), object(1)\n",
      "memory usage: 28.0+ KB\n"
     ]
    }
   ],
   "source": [
    "df.info()"
   ]
  },
  {
   "cell_type": "code",
   "execution_count": 5,
   "id": "57d92668",
   "metadata": {},
   "outputs": [],
   "source": [
    "df.dropna(inplace=True)"
   ]
  },
  {
   "cell_type": "code",
   "execution_count": 7,
   "id": "d4bcf407",
   "metadata": {},
   "outputs": [
    {
     "data": {
      "text/plain": [
       "<seaborn.axisgrid.PairGrid at 0x1b63b724ee0>"
      ]
     },
     "execution_count": 7,
     "metadata": {},
     "output_type": "execute_result"
    },
    {
     "data": {
      "image/png": "[encoded data removed]",
      "text/plain": [
       "<Figure size 750x750 with 12 Axes>"
      ]
     },
     "metadata": {},
     "output_type": "display_data"
    }
   ],
   "source": [
    "# dataAuto1 = df[['mpg','horsepower','weight']]\n",
    "sns.pairplot(df[['mpg','horsepower','weight']])"
   ]
  },
  {
   "cell_type": "code",
   "execution_count": 9,
   "id": "967e0a54",
   "metadata": {},
   "outputs": [
    {
     "data": {
      "text/html": [
       "<div>\n",
       "<style scoped>\n",
       "    .dataframe tbody tr th:only-of-type {\n",
       "        vertical-align: middle;\n",
       "    }\n",
       "\n",
       "    .dataframe tbody tr th {\n",
       "        vertical-align: top;\n",
       "    }\n",
       "\n",
       "    .dataframe thead th {\n",
       "        text-align: right;\n",
       "    }\n",
       "</style>\n",
       "<table border=\"1\" class=\"dataframe\">\n",
       "  <thead>\n",
       "    <tr style=\"text-align: right;\">\n",
       "      <th></th>\n",
       "      <th>mpg</th>\n",
       "      <th>horsepower</th>\n",
       "      <th>weight</th>\n",
       "    </tr>\n",
       "  </thead>\n",
       "  <tbody>\n",
       "    <tr>\n",
       "      <th>mpg</th>\n",
       "      <td>1.000000</td>\n",
       "      <td>-0.778427</td>\n",
       "      <td>-0.832244</td>\n",
       "    </tr>\n",
       "    <tr>\n",
       "      <th>horsepower</th>\n",
       "      <td>-0.778427</td>\n",
       "      <td>1.000000</td>\n",
       "      <td>0.864538</td>\n",
       "    </tr>\n",
       "    <tr>\n",
       "      <th>weight</th>\n",
       "      <td>-0.832244</td>\n",
       "      <td>0.864538</td>\n",
       "      <td>1.000000</td>\n",
       "    </tr>\n",
       "  </tbody>\n",
       "</table>\n",
       "</div>"
      ],
      "text/plain": [
       "                 mpg  horsepower    weight\n",
       "mpg         1.000000   -0.778427 -0.832244\n",
       "horsepower -0.778427    1.000000  0.864538\n",
       "weight     -0.832244    0.864538  1.000000"
      ]
     },
     "execution_count": 9,
     "metadata": {},
     "output_type": "execute_result"
    }
   ],
   "source": [
    "dataAuto1 = df[['mpg','horsepower','weight']]\n",
    "dataAuto1.corr()"
   ]
  },
  {
   "cell_type": "markdown",
   "id": "3c595f13",
   "metadata": {},
   "source": [
    "# Scikit-Learn"
   ]
  },
  {
   "cell_type": "code",
   "execution_count": 10,
   "id": "2318867c",
   "metadata": {},
   "outputs": [],
   "source": [
    "import sklearn\n",
    "from sklearn.model_selection import train_test_split\n",
    "from sklearn.preprocessing import PolynomialFeatures\n",
    "from sklearn.linear_model import LinearRegression"
   ]
  },
  {
   "cell_type": "code",
   "execution_count": 11,
   "id": "9c30a774",
   "metadata": {},
   "outputs": [],
   "source": [
    "x_col = ['horsepower','weight']\n",
    "y_col = 'mpg'"
   ]
  },
  {
   "cell_type": "code",
   "execution_count": 14,
   "id": "5faf4126",
   "metadata": {},
   "outputs": [],
   "source": [
    "X=df[x_col]\n",
    "y=df[y_col]"
   ]
  },
  {
   "cell_type": "code",
   "execution_count": 15,
   "id": "c54c4a0e",
   "metadata": {},
   "outputs": [],
   "source": [
    "test_size=.3\n",
    "X_train, X_test, y_train, y_test = train_test_split(X, y,\n",
    "                                                   test_size=test_size,\n",
    "                                                   random_state=1)"
   ]
  },
  {
   "cell_type": "markdown",
   "id": "134b72a5",
   "metadata": {},
   "source": [
    "## Linear Regression\n",
    "`multiple regression model`\n",
    "\n",
    "$$\n",
    "y=\\beta_{0}+\\beta_{1}x_{1}+\\beta_{2}x_{2}+\\varepsilon\n",
    "$$"
   ]
  },
  {
   "cell_type": "code",
   "execution_count": 22,
   "id": "7b76fac3",
   "metadata": {},
   "outputs": [
    {
     "name": "stdout",
     "output_type": "stream",
     "text": [
      "LinearRegression() \n",
      "\n",
      "intercept: 44.82247 \n",
      "\n",
      "coef: [-0.04898144 -0.00553451] \n",
      "\n",
      "---R-squared---\n",
      "Train: 0.69324 \n",
      "\n",
      "Test: 0.72925 \n",
      "\n"
     ]
    }
   ],
   "source": [
    "lm = LinearRegression()\n",
    "lm\n",
    "print(lm.fit(X_train,y_train),'\\n')\n",
    "print('intercept:', lm.intercept_.round(5),'\\n')\n",
    "print('coef:', lm.coef_,'\\n')\n",
    "\n",
    "# R-squared\n",
    "print('---R-squared---')\n",
    "print('Train:', lm.score(X_train, y_train).round(5),'\\n')\n",
    "print('Test:', lm.score(X_test,y_test).round(5),'\\n')"
   ]
  },
  {
   "cell_type": "markdown",
   "id": "9652de49",
   "metadata": {},
   "source": [
    "### Polynomial regression\n",
    "`multiple Linear Regression`\n",
    "$$\n",
    "y=\\beta_{0}+\\beta_{1}x_{1}+\\beta_{2}x_{2}+\\varepsilon\n",
    "$$\n",
    "\n",
    "`General polynomial regression model`\n",
    "$$\n",
    "y=\\beta_{0}+\\beta_{1}x^1+\\beta_{2}x^2+\\beta_{3}x^3+...+\\beta_{n}x^n+\\varepsilon\n",
    "$$"
   ]
  },
  {
   "cell_type": "code",
   "execution_count": 44,
   "id": "d7f9aa2d",
   "metadata": {},
   "outputs": [
    {
     "data": {
      "text/html": [
       "<style>#sk-container-id-4 {color: black;background-color: white;}#sk-container-id-4 pre{padding: 0;}#sk-container-id-4 div.sk-toggleable {background-color: white;}#sk-container-id-4 label.sk-toggleable__label {cursor: pointer;display: block;width: 100%;margin-bottom: 0;padding: 0.3em;box-sizing: border-box;text-align: center;}#sk-container-id-4 label.sk-toggleable__label-arrow:before {content: \"▸\";float: left;margin-right: 0.25em;color: #696969;}#sk-container-id-4 label.sk-toggleable__label-arrow:hover:before {color: black;}#sk-container-id-4 div.sk-estimator:hover label.sk-toggleable__label-arrow:before {color: black;}#sk-container-id-4 div.sk-toggleable__content {max-height: 0;max-width: 0;overflow: hidden;text-align: left;background-color: #f0f8ff;}#sk-container-id-4 div.sk-toggleable__content pre {margin: 0.2em;color: black;border-radius: 0.25em;background-color: #f0f8ff;}#sk-container-id-4 input.sk-toggleable__control:checked~div.sk-toggleable__content {max-height: 200px;max-width: 100%;overflow: auto;}#sk-container-id-4 input.sk-toggleable__control:checked~label.sk-toggleable__label-arrow:before {content: \"▾\";}#sk-container-id-4 div.sk-estimator input.sk-toggleable__control:checked~label.sk-toggleable__label {background-color: #d4ebff;}#sk-container-id-4 div.sk-label input.sk-toggleable__control:checked~label.sk-toggleable__label {background-color: #d4ebff;}#sk-container-id-4 input.sk-hidden--visually {border: 0;clip: rect(1px 1px 1px 1px);clip: rect(1px, 1px, 1px, 1px);height: 1px;margin: -1px;overflow: hidden;padding: 0;position: absolute;width: 1px;}#sk-container-id-4 div.sk-estimator {font-family: monospace;background-color: #f0f8ff;border: 1px dotted black;border-radius: 0.25em;box-sizing: border-box;margin-bottom: 0.5em;}#sk-container-id-4 div.sk-estimator:hover {background-color: #d4ebff;}#sk-container-id-4 div.sk-parallel-item::after {content: \"\";width: 100%;border-bottom: 1px solid gray;flex-grow: 1;}#sk-container-id-4 div.sk-label:hover label.sk-toggleable__label {background-color: #d4ebff;}#sk-container-id-4 div.sk-serial::before {content: \"\";position: absolute;border-left: 1px solid gray;box-sizing: border-box;top: 0;bottom: 0;left: 50%;z-index: 0;}#sk-container-id-4 div.sk-serial {display: flex;flex-direction: column;align-items: center;background-color: white;padding-right: 0.2em;padding-left: 0.2em;position: relative;}#sk-container-id-4 div.sk-item {position: relative;z-index: 1;}#sk-container-id-4 div.sk-parallel {display: flex;align-items: stretch;justify-content: center;background-color: white;position: relative;}#sk-container-id-4 div.sk-item::before, #sk-container-id-4 div.sk-parallel-item::before {content: \"\";position: absolute;border-left: 1px solid gray;box-sizing: border-box;top: 0;bottom: 0;left: 50%;z-index: -1;}#sk-container-id-4 div.sk-parallel-item {display: flex;flex-direction: column;z-index: 1;position: relative;background-color: white;}#sk-container-id-4 div.sk-parallel-item:first-child::after {align-self: flex-end;width: 50%;}#sk-container-id-4 div.sk-parallel-item:last-child::after {align-self: flex-start;width: 50%;}#sk-container-id-4 div.sk-parallel-item:only-child::after {width: 0;}#sk-container-id-4 div.sk-dashed-wrapped {border: 1px dashed gray;margin: 0 0.4em 0.5em 0.4em;box-sizing: border-box;padding-bottom: 0.4em;background-color: white;}#sk-container-id-4 div.sk-label label {font-family: monospace;font-weight: bold;display: inline-block;line-height: 1.2em;}#sk-container-id-4 div.sk-label-container {text-align: center;}#sk-container-id-4 div.sk-container {/* jupyter's `normalize.less` sets `[hidden] { display: none; }` but bootstrap.min.css set `[hidden] { display: none !important; }` so we also need the `!important` here to be able to override the default hidden behavior on the sphinx rendered scikit-learn.org. See: https://github.com/scikit-learn/scikit-learn/issues/21755 */display: inline-block !important;position: relative;}#sk-container-id-4 div.sk-text-repr-fallback {display: none;}</style><div id=\"sk-container-id-4\" class=\"sk-top-container\"><div class=\"sk-text-repr-fallback\"><pre>LinearRegression()</pre><b>In a Jupyter environment, please rerun this cell to show the HTML representation or trust the notebook. <br />On GitHub, the HTML representation is unable to render, please try loading this page with nbviewer.org.</b></div><div class=\"sk-container\" hidden><div class=\"sk-item\"><div class=\"sk-estimator sk-toggleable\"><input class=\"sk-toggleable__control sk-hidden--visually\" id=\"sk-estimator-id-4\" type=\"checkbox\" checked><label for=\"sk-estimator-id-4\" class=\"sk-toggleable__label sk-toggleable__label-arrow\">LinearRegression</label><div class=\"sk-toggleable__content\"><pre>LinearRegression()</pre></div></div></div></div></div>"
      ],
      "text/plain": [
       "LinearRegression()"
      ]
     },
     "execution_count": 44,
     "metadata": {},
     "output_type": "execute_result"
    }
   ],
   "source": [
    "poly = PolynomialFeatures(degree=2, include_bias=True)\n",
    "X_train_poly = poly.fit_transform(X_train)\n",
    "X_test_poly = poly.fit_transform(X_test)\n",
    "\n",
    "pm = LinearRegression()\n",
    "pm.fit(X_train_poly, y_train)"
   ]
  },
  {
   "cell_type": "code",
   "execution_count": 45,
   "id": "942b99b6",
   "metadata": {},
   "outputs": [
    {
     "data": {
      "text/plain": [
       "{'degree': 2, 'include_bias': True, 'interaction_only': False, 'order': 'C'}"
      ]
     },
     "execution_count": 45,
     "metadata": {},
     "output_type": "execute_result"
    }
   ],
   "source": [
    "poly.get_params()"
   ]
  },
  {
   "cell_type": "code",
   "execution_count": 46,
   "id": "ecbc41db",
   "metadata": {},
   "outputs": [
    {
     "name": "stdout",
     "output_type": "stream",
     "text": [
      "[[1.0000e+00 8.8000e+01 2.5000e+03 7.7440e+03 2.2000e+05 6.2500e+06]\n",
      " [1.0000e+00 8.2000e+01 2.7200e+03 6.7240e+03 2.2304e+05 7.3984e+06]\n",
      " [1.0000e+00 5.2000e+01 2.1300e+03 2.7040e+03 1.1076e+05 4.5369e+06]] \n",
      "\n",
      "     horsepower  weight\n",
      "335        88.0    2500\n",
      "396        82.0    2720\n",
      "393        52.0    2130\n"
     ]
    }
   ],
   "source": [
    "print(X_train_poly[:3],'\\n')\n",
    "print(X_train[:3])"
   ]
  },
  {
   "cell_type": "code",
   "execution_count": 47,
   "id": "a09f412b",
   "metadata": {},
   "outputs": [
    {
     "name": "stderr",
     "output_type": "stream",
     "text": [
      "C:\\Users\\ASUS\\miniconda3\\envs\\nut3.10\\lib\\site-packages\\sklearn\\utils\\deprecation.py:87: FutureWarning: Function get_feature_names is deprecated; get_feature_names is deprecated in 1.0 and will be removed in 1.2. Please use get_feature_names_out instead.\n",
      "  warnings.warn(msg, category=FutureWarning)\n"
     ]
    },
    {
     "data": {
      "text/plain": [
       "['1', 'x0', 'x1', 'x0^2', 'x0 x1', 'x1^2']"
      ]
     },
     "execution_count": 47,
     "metadata": {},
     "output_type": "execute_result"
    }
   ],
   "source": [
    "poly.get_feature_names()"
   ]
  },
  {
   "cell_type": "code",
   "execution_count": 48,
   "id": "ec555df7",
   "metadata": {},
   "outputs": [
    {
     "name": "stdout",
     "output_type": "stream",
     "text": [
      "intercept: 60.99964 \n",
      "\n",
      "coef: [ 0.00000000e+00 -2.71309036e-01 -8.77290010e-03  2.15169279e-04\n",
      "  4.22566829e-05 -3.58954388e-08] \n",
      "\n",
      ">>>R-squared<<<\n",
      "Train: 0.73446 \n",
      "\n",
      "Test: 0.77346 \n",
      "\n"
     ]
    }
   ],
   "source": [
    "# intercept & coef\n",
    "print('intercept:', pm.intercept_.round(5),'\\n')\n",
    "print('coef:', pm.coef_,'\\n')\n",
    "\n",
    "# R-squared\n",
    "print('>>>R-squared<<<')\n",
    "print('Train:', pm.score(X_train_poly, y_train).round(5),'\\n')\n",
    "print('Test:', pm.score(X_test_poly,y_test).round(5),'\\n')"
   ]
  },
  {
   "cell_type": "code",
   "execution_count": 57,
   "id": "c5a4116f",
   "metadata": {},
   "outputs": [
    {
     "name": "stdout",
     "output_type": "stream",
     "text": [
      "Polynomial predict: 6535191.719813573 \n",
      "\n",
      "Linear predict: [26.20179173 29.13344391 28.14276685] \n",
      "\n"
     ]
    },
    {
     "data": {
      "text/plain": [
       "6535191.719813573"
      ]
     },
     "execution_count": 57,
     "metadata": {},
     "output_type": "execute_result"
    }
   ],
   "source": [
    "print('Polynomial predict:',pm.intercept_ + sum(pm.coef_ + X_test_poly[0]),'\\n')\n",
    "print('Linear predict:', lm.predict(X_test[:3]),'\\n')\n",
    "# pm.intercept_ + sum(pm.coef_ + X_test_poly[0])"
   ]
  },
  {
   "cell_type": "code",
   "execution_count": 52,
   "id": "064aa8fb",
   "metadata": {},
   "outputs": [
    {
     "data": {
      "text/plain": [
       "array([24.76871606, 29.52708203, 28.49498017])"
      ]
     },
     "execution_count": 52,
     "metadata": {},
     "output_type": "execute_result"
    }
   ],
   "source": [
    "pm.predict(X_test_poly[:3])"
   ]
  },
  {
   "cell_type": "code",
   "execution_count": 54,
   "id": "ac9da049",
   "metadata": {},
   "outputs": [
    {
     "name": "stderr",
     "output_type": "stream",
     "text": [
      "C:\\Users\\ASUS\\AppData\\Local\\Temp\\ipykernel_22676\\3135146844.py:1: FutureWarning: The behavior of `series[i:j]` with an integer-dtype index is deprecated. In a future version, this will be treated as *label-based* indexing, consistent with e.g. `series[i]` lookups. To retain the old behavior, use `series.iloc[i:j]`. To get the future behavior, use `series.loc[i:j]`.\n",
      "  y_test[:3]\n"
     ]
    },
    {
     "data": {
      "text/plain": [
       "82     23.0\n",
       "167    29.0\n",
       "356    32.4\n",
       "Name: mpg, dtype: float64"
      ]
     },
     "execution_count": 54,
     "metadata": {},
     "output_type": "execute_result"
    }
   ],
   "source": [
    "y_test[:3]"
   ]
  },
  {
   "cell_type": "markdown",
   "id": "ebb2e352",
   "metadata": {},
   "source": [
    "## pipeline"
   ]
  },
  {
   "cell_type": "code",
   "execution_count": 58,
   "id": "afa27415",
   "metadata": {},
   "outputs": [
    {
     "name": "stdout",
     "output_type": "stream",
     "text": [
      "[Pipeline]  (step 1 of 2) Processing polynomialfeatures, total=   0.0s\n",
      "[Pipeline] .. (step 2 of 2) Processing linearregression, total=   0.0s\n"
     ]
    },
    {
     "data": {
      "text/html": [
       "<style>#sk-container-id-5 {color: black;background-color: white;}#sk-container-id-5 pre{padding: 0;}#sk-container-id-5 div.sk-toggleable {background-color: white;}#sk-container-id-5 label.sk-toggleable__label {cursor: pointer;display: block;width: 100%;margin-bottom: 0;padding: 0.3em;box-sizing: border-box;text-align: center;}#sk-container-id-5 label.sk-toggleable__label-arrow:before {content: \"▸\";float: left;margin-right: 0.25em;color: #696969;}#sk-container-id-5 label.sk-toggleable__label-arrow:hover:before {color: black;}#sk-container-id-5 div.sk-estimator:hover label.sk-toggleable__label-arrow:before {color: black;}#sk-container-id-5 div.sk-toggleable__content {max-height: 0;max-width: 0;overflow: hidden;text-align: left;background-color: #f0f8ff;}#sk-container-id-5 div.sk-toggleable__content pre {margin: 0.2em;color: black;border-radius: 0.25em;background-color: #f0f8ff;}#sk-container-id-5 input.sk-toggleable__control:checked~div.sk-toggleable__content {max-height: 200px;max-width: 100%;overflow: auto;}#sk-container-id-5 input.sk-toggleable__control:checked~label.sk-toggleable__label-arrow:before {content: \"▾\";}#sk-container-id-5 div.sk-estimator input.sk-toggleable__control:checked~label.sk-toggleable__label {background-color: #d4ebff;}#sk-container-id-5 div.sk-label input.sk-toggleable__control:checked~label.sk-toggleable__label {background-color: #d4ebff;}#sk-container-id-5 input.sk-hidden--visually {border: 0;clip: rect(1px 1px 1px 1px);clip: rect(1px, 1px, 1px, 1px);height: 1px;margin: -1px;overflow: hidden;padding: 0;position: absolute;width: 1px;}#sk-container-id-5 div.sk-estimator {font-family: monospace;background-color: #f0f8ff;border: 1px dotted black;border-radius: 0.25em;box-sizing: border-box;margin-bottom: 0.5em;}#sk-container-id-5 div.sk-estimator:hover {background-color: #d4ebff;}#sk-container-id-5 div.sk-parallel-item::after {content: \"\";width: 100%;border-bottom: 1px solid gray;flex-grow: 1;}#sk-container-id-5 div.sk-label:hover label.sk-toggleable__label {background-color: #d4ebff;}#sk-container-id-5 div.sk-serial::before {content: \"\";position: absolute;border-left: 1px solid gray;box-sizing: border-box;top: 0;bottom: 0;left: 50%;z-index: 0;}#sk-container-id-5 div.sk-serial {display: flex;flex-direction: column;align-items: center;background-color: white;padding-right: 0.2em;padding-left: 0.2em;position: relative;}#sk-container-id-5 div.sk-item {position: relative;z-index: 1;}#sk-container-id-5 div.sk-parallel {display: flex;align-items: stretch;justify-content: center;background-color: white;position: relative;}#sk-container-id-5 div.sk-item::before, #sk-container-id-5 div.sk-parallel-item::before {content: \"\";position: absolute;border-left: 1px solid gray;box-sizing: border-box;top: 0;bottom: 0;left: 50%;z-index: -1;}#sk-container-id-5 div.sk-parallel-item {display: flex;flex-direction: column;z-index: 1;position: relative;background-color: white;}#sk-container-id-5 div.sk-parallel-item:first-child::after {align-self: flex-end;width: 50%;}#sk-container-id-5 div.sk-parallel-item:last-child::after {align-self: flex-start;width: 50%;}#sk-container-id-5 div.sk-parallel-item:only-child::after {width: 0;}#sk-container-id-5 div.sk-dashed-wrapped {border: 1px dashed gray;margin: 0 0.4em 0.5em 0.4em;box-sizing: border-box;padding-bottom: 0.4em;background-color: white;}#sk-container-id-5 div.sk-label label {font-family: monospace;font-weight: bold;display: inline-block;line-height: 1.2em;}#sk-container-id-5 div.sk-label-container {text-align: center;}#sk-container-id-5 div.sk-container {/* jupyter's `normalize.less` sets `[hidden] { display: none; }` but bootstrap.min.css set `[hidden] { display: none !important; }` so we also need the `!important` here to be able to override the default hidden behavior on the sphinx rendered scikit-learn.org. See: https://github.com/scikit-learn/scikit-learn/issues/21755 */display: inline-block !important;position: relative;}#sk-container-id-5 div.sk-text-repr-fallback {display: none;}</style><div id=\"sk-container-id-5\" class=\"sk-top-container\"><div class=\"sk-text-repr-fallback\"><pre>Pipeline(steps=[(&#x27;polynomialfeatures&#x27;, PolynomialFeatures()),\n",
       "                (&#x27;linearregression&#x27;, LinearRegression())],\n",
       "         verbose=True)</pre><b>In a Jupyter environment, please rerun this cell to show the HTML representation or trust the notebook. <br />On GitHub, the HTML representation is unable to render, please try loading this page with nbviewer.org.</b></div><div class=\"sk-container\" hidden><div class=\"sk-item sk-dashed-wrapped\"><div class=\"sk-label-container\"><div class=\"sk-label sk-toggleable\"><input class=\"sk-toggleable__control sk-hidden--visually\" id=\"sk-estimator-id-5\" type=\"checkbox\" ><label for=\"sk-estimator-id-5\" class=\"sk-toggleable__label sk-toggleable__label-arrow\">Pipeline</label><div class=\"sk-toggleable__content\"><pre>Pipeline(steps=[(&#x27;polynomialfeatures&#x27;, PolynomialFeatures()),\n",
       "                (&#x27;linearregression&#x27;, LinearRegression())],\n",
       "         verbose=True)</pre></div></div></div><div class=\"sk-serial\"><div class=\"sk-item\"><div class=\"sk-estimator sk-toggleable\"><input class=\"sk-toggleable__control sk-hidden--visually\" id=\"sk-estimator-id-6\" type=\"checkbox\" ><label for=\"sk-estimator-id-6\" class=\"sk-toggleable__label sk-toggleable__label-arrow\">PolynomialFeatures</label><div class=\"sk-toggleable__content\"><pre>PolynomialFeatures()</pre></div></div></div><div class=\"sk-item\"><div class=\"sk-estimator sk-toggleable\"><input class=\"sk-toggleable__control sk-hidden--visually\" id=\"sk-estimator-id-7\" type=\"checkbox\" ><label for=\"sk-estimator-id-7\" class=\"sk-toggleable__label sk-toggleable__label-arrow\">LinearRegression</label><div class=\"sk-toggleable__content\"><pre>LinearRegression()</pre></div></div></div></div></div></div></div>"
      ],
      "text/plain": [
       "Pipeline(steps=[('polynomialfeatures', PolynomialFeatures()),\n",
       "                ('linearregression', LinearRegression())],\n",
       "         verbose=True)"
      ]
     },
     "execution_count": 58,
     "metadata": {},
     "output_type": "execute_result"
    }
   ],
   "source": [
    "from sklearn.pipeline import make_pipeline\n",
    "degree=2\n",
    "pm2=make_pipeline(PolynomialFeatures(degree), LinearRegression(), verbose=True)\n",
    "pm2.fit(X_train, y_train)"
   ]
  },
  {
   "cell_type": "code",
   "execution_count": 59,
   "id": "76be81f6",
   "metadata": {},
   "outputs": [
    {
     "data": {
      "text/plain": [
       "<bound method Pipeline.get_params of Pipeline(steps=[('polynomialfeatures', PolynomialFeatures()),\n",
       "                ('linearregression', LinearRegression())],\n",
       "         verbose=True)>"
      ]
     },
     "execution_count": 59,
     "metadata": {},
     "output_type": "execute_result"
    }
   ],
   "source": [
    "pm2.get_params"
   ]
  },
  {
   "cell_type": "code",
   "execution_count": 63,
   "id": "feb6dbeb",
   "metadata": {},
   "outputs": [
    {
     "name": "stdout",
     "output_type": "stream",
     "text": [
      ">>>R-squared<<<\n",
      "Train: 0.7344640327916465\n",
      "Test: 0.7734567578489351\n"
     ]
    }
   ],
   "source": [
    "# R-squared\n",
    "print('>>>R-squared<<<')\n",
    "print('Train:', pm2.score(X_train,y_train))\n",
    "print('Test:', pm2.score(X_test,y_test))\n"
   ]
  },
  {
   "cell_type": "code",
   "execution_count": 65,
   "id": "3c8de047",
   "metadata": {},
   "outputs": [
    {
     "name": "stderr",
     "output_type": "stream",
     "text": [
      "C:\\Users\\ASUS\\miniconda3\\envs\\nut3.10\\lib\\site-packages\\sklearn\\base.py:450: UserWarning: X does not have valid feature names, but PolynomialFeatures was fitted with feature names\n",
      "  warnings.warn(\n"
     ]
    },
    {
     "data": {
      "text/plain": [
       "array([24.79783823, 26.92895146])"
      ]
     },
     "execution_count": 65,
     "metadata": {},
     "output_type": "execute_result"
    }
   ],
   "source": [
    "pm2.predict([\n",
    "    [97,2500],\n",
    "    [92,2202]\n",
    "])"
   ]
  },
  {
   "cell_type": "code",
   "execution_count": null,
   "id": "c5bd6cba",
   "metadata": {},
   "outputs": [],
   "source": []
  }
 ],
 "metadata": {
  "kernelspec": {
   "display_name": "Python 3 (ipykernel)",
   "language": "python",
   "name": "python3"
  },
  "language_info": {
   "codemirror_mode": {
    "name": "ipython",
    "version": 3
   },
   "file_extension": ".py",
   "mimetype": "text/x-python",
   "name": "python",
   "nbconvert_exporter": "python",
   "pygments_lexer": "ipython3",
   "version": "3.10.8"
  }
 },
 "nbformat": 4,
 "nbformat_minor": 5
}
