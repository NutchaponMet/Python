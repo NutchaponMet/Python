{
 "cells": [
  {
   "cell_type": "markdown",
   "id": "e594be03",
   "metadata": {},
   "source": [
    "# Lambda "
   ]
  },
  {
   "cell_type": "markdown",
   "id": "7e50d5e2",
   "metadata": {},
   "source": [
    "### เปรียบเทียบ function ธรรมดา กับ function ไม่มีชื่อ "
   ]
  },
  {
   "cell_type": "code",
   "execution_count": 14,
   "id": "deaf43cc",
   "metadata": {},
   "outputs": [
    {
     "name": "stdout",
     "output_type": "stream",
     "text": [
      "[320, 384, 640, 256]\n"
     ]
    }
   ],
   "source": [
    "def rectangle(w, h):\n",
    "    return w * h\n",
    "\n",
    "rect = lambda w, h: w * h\n",
    "triangle = lambda w, h: w * h * .5\n",
    "\n",
    "def area(func, w, h):\n",
    "    return func(w,h)\n",
    "\n",
    "def demo1():\n",
    "    usd = [10,12,20,8]\n",
    "    thb = list(map(lambda v: v*32, usd))\n",
    "    print(thb)\n",
    "\n",
    "if __name__ == '__main__':\n",
    "#     print(rectangle(5,10))\n",
    "#     print(rect(5,10))\n",
    "#     print(area(rect, 5,10))\n",
    "#     print(area(triangle, 5, 10))\n",
    "    demo1()"
   ]
  },
  {
   "cell_type": "markdown",
   "id": "377934c6",
   "metadata": {},
   "source": [
    "# Map function "
   ]
  },
  {
   "cell_type": "code",
   "execution_count": 25,
   "id": "10bbc799",
   "metadata": {},
   "outputs": [
    {
     "name": "stdout",
     "output_type": "stream",
     "text": [
      "rai-ngan-sqwah: 4-10-20\n"
     ]
    }
   ],
   "source": [
    "def demo1():\n",
    "    flowers = ['lily','carnation','jasmine','rose','tulip']\n",
    "    flowers2 = list(map(str.capitalize, flowers))\n",
    "    flowers3 = [f.capitalize() for f in flowers]\n",
    "    print(flowers2)\n",
    "    print(flowers3)\n",
    "    \n",
    "def demo2():\n",
    "    price_usd = [10,30,70,100]\n",
    "    price_thb = [n * 33 for n in price_usd] # list comprehension\n",
    "    price_thb2 = list(map(lambda n: n * 33, price_usd))\n",
    "    print(price_thb)\n",
    "    print(price_thb2)\n",
    "\n",
    "# def area():\n",
    "    # 2-7-20\n",
    "#     s = input('rai-ngan-sqwah: ').split('-')\n",
    "#     print(s)\n",
    "    \n",
    "#     lst_n = list(map(int, s))\n",
    "#     print(lst_n)\n",
    "    \n",
    "#     rai, ngan, sqwah = list(map(int,s))\n",
    "#     print(rai, ngan, sqwah)\n",
    "    \n",
    "#     total_sqwah = rai * 400 + ngan + 100 + sqwah\n",
    "#     print(total_sqwah)\n",
    "    \n",
    "# short form\n",
    "def area2(): # ต้องมีคำสั่ง print() ในการรัน function\n",
    "    rai, ngan, sqwah = list(map(int, input('rai-ngan-sqwah: ').split('-')))\n",
    "    return rai * 400 + ngan + 100 + sqwah\n",
    "\n",
    "if __name__ == '__main__':\n",
    "#     demo1()\n",
    "#     demo2()\n",
    "#     area()\n",
    "    print(area2())"
   ]
  },
  {
   "cell_type": "code",
   "execution_count": null,
   "id": "e63fd366",
   "metadata": {},
   "outputs": [],
   "source": []
  }
 ],
 "metadata": {
  "kernelspec": {
   "display_name": "Python 3 (ipykernel)",
   "language": "python",
   "name": "python3"
  },
  "language_info": {
   "codemirror_mode": {
    "name": "ipython",
    "version": 3
   },
   "file_extension": ".py",
   "mimetype": "text/x-python",
   "name": "python",
   "nbconvert_exporter": "python",
   "pygments_lexer": "ipython3",
   "version": "3.10.9"
  }
 },
 "nbformat": 4,
 "nbformat_minor": 5
}
