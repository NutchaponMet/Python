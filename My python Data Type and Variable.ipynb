{
 "cells": [
  {
   "cell_type": "markdown",
   "id": "3898f2d4",
   "metadata": {},
   "source": [
    "วันนี้เรียน ***DATA TYPES***\n",
    "\n",
    "เบื้องต้น\n",
    "*ตัวเลข\n",
    "-int\n",
    "-float\n",
    "-complex\n",
    "\n",
    "*ข้อความ\n",
    "-str\n",
    "\n",
    "*ค่าความจริง\n",
    "-bool\n",
    "\n",
    "27/9/2022"
   ]
  },
  {
   "cell_type": "code",
   "execution_count": 6,
   "id": "b6e797f7",
   "metadata": {},
   "outputs": [
    {
     "name": "stdout",
     "output_type": "stream",
     "text": [
      "<class 'int'>\n",
      "64\n",
      "10000000\n"
     ]
    }
   ],
   "source": [
    "print(type(32))\n",
    "print(64)\n",
    "print(10000000)\n"
   ]
  },
  {
   "cell_type": "code",
   "execution_count": 8,
   "id": "fc042150",
   "metadata": {},
   "outputs": [
    {
     "name": "stdout",
     "output_type": "stream",
     "text": [
      "1.5\n",
      "<class 'float'>\n"
     ]
    }
   ],
   "source": [
    "print(1.5)\n",
    "print(type(2.6))"
   ]
  },
  {
   "cell_type": "code",
   "execution_count": 12,
   "id": "4cbd74c5",
   "metadata": {},
   "outputs": [
    {
     "name": "stdout",
     "output_type": "stream",
     "text": [
      "(2+3j)\n",
      "(1.5-8j)\n",
      "<class 'complex'>\n"
     ]
    }
   ],
   "source": [
    "print(2+3j)\n",
    "print(1.5-8j)\n",
    "print(type(2+3j))"
   ]
  },
  {
   "cell_type": "markdown",
   "id": "22de0bad",
   "metadata": {},
   "source": [
    "## Strings\n",
    "A string object is a sequence of characters. In Python, the data type is `str`.\n",
    "\n",
    "To repesent `str` in the program, *enclose text with quotes*\n",
    "\n",
    "Quotes could be:\n",
    "- Single qoutes\n",
    "- Double quotes\n",
    "- Triple quotes\n",
    "\n"
   ]
  },
  {
   "cell_type": "code",
   "execution_count": 14,
   "id": "1fad5c68",
   "metadata": {},
   "outputs": [
    {
     "name": "stdout",
     "output_type": "stream",
     "text": [
      "Hello World\n",
      "Hello World\n",
      "Hello World\n",
      "<class 'str'>\n",
      "<class 'str'>\n",
      "<class 'str'>\n"
     ]
    }
   ],
   "source": [
    "print('Hello World')\n",
    "print(\"Hello World\")\n",
    "print('''Hello World''')\n",
    "print(type('Hello World'))\n",
    "print(type(\"Hello World\"))\n",
    "print(type('''Hello World'''))\n"
   ]
  },
  {
   "cell_type": "raw",
   "id": "d9457b2d",
   "metadata": {},
   "source": [
    "Sine quotes are used for signaling the starting/ending of a String object, how can we write a sentence like *He said \"Hello!\"* or *It's ok to say *Goodbye*."
   ]
  },
  {
   "cell_type": "code",
   "execution_count": 18,
   "id": "e5fba461",
   "metadata": {},
   "outputs": [
    {
     "name": "stdout",
     "output_type": "stream",
     "text": [
      "He said 'hello!'\n",
      "it's ok to say \"Goodbye\".\n"
     ]
    }
   ],
   "source": [
    "print(\"He said 'hello!'\")\n",
    "print('''it's ok to say \"Goodbye\".''')"
   ]
  },
  {
   "cell_type": "markdown",
   "id": "828f63bc",
   "metadata": {},
   "source": [
    "if switching quotes is NOT a choice, we can *escape* the quotes character with a backslash \\\n"
   ]
  },
  {
   "cell_type": "code",
   "execution_count": 21,
   "id": "a497cf79",
   "metadata": {},
   "outputs": [
    {
     "name": "stdout",
     "output_type": "stream",
     "text": [
      "He said \"Hello!\"\n",
      "It's ok to say \"goodbye\".\n"
     ]
    }
   ],
   "source": [
    "print(\"He said \\\"Hello!\\\"\")\n",
    "print(\"It's ok to say \\\"goodbye\\\".\")"
   ]
  },
  {
   "cell_type": "markdown",
   "id": "4ff5fe5f",
   "metadata": {},
   "source": [
    "What about when we need a *backslash* inside a String?\n",
    "\n",
    "We can also *escape* backslashes."
   ]
  },
  {
   "cell_type": "code",
   "execution_count": 23,
   "id": "b3c17ba5",
   "metadata": {},
   "outputs": [
    {
     "name": "stdout",
     "output_type": "stream",
     "text": [
      "Escape character start with \\\n"
     ]
    }
   ],
   "source": [
    "print(\"Escape character start with \\\\\")"
   ]
  },
  {
   "cell_type": "markdown",
   "id": "9b171a5e",
   "metadata": {},
   "source": [
    "Escape character (\\\", \\', \\\\) is **counted as 1 character** even though we typed two characters"
   ]
  },
  {
   "cell_type": "markdown",
   "id": "23e6ff92",
   "metadata": {},
   "source": [
    "There are more *escape character* than that we have mentioned. Another escape character you should be familiar with is *the newline character* (\\n) "
   ]
  },
  {
   "cell_type": "code",
   "execution_count": 25,
   "id": "59f5cb65",
   "metadata": {},
   "outputs": [
    {
     "name": "stdout",
     "output_type": "stream",
     "text": [
      "สวัสดีครับ\n",
      "คุณชื่ออะไรครับ\n",
      "ยินดีที่ได้รู้จักครับ\n"
     ]
    }
   ],
   "source": [
    "print(\"สวัสดีครับ\\nคุณชื่ออะไรครับ\\nยินดีที่ได้รู้จักครับ\")"
   ]
  },
  {
   "cell_type": "markdown",
   "id": "52b92e48",
   "metadata": {},
   "source": [
    "When multiple String odjects are typed in a sequence, Python *concatenate* them automatically. "
   ]
  },
  {
   "cell_type": "markdown",
   "id": "8e9cd4ee",
   "metadata": {},
   "source": [
    "## Boolean\n",
    "\n",
    "We type keywords True and False to represent the (truth) value *true* and *false*, respectively"
   ]
  },
  {
   "cell_type": "code",
   "execution_count": 27,
   "id": "077a4721",
   "metadata": {},
   "outputs": [
    {
     "name": "stdout",
     "output_type": "stream",
     "text": [
      "True\n",
      "False\n",
      "<class 'bool'>\n",
      "<class 'bool'>\n"
     ]
    }
   ],
   "source": [
    "print(True)\n",
    "print(False)\n",
    "print(type(True))\n",
    "print(type(False))"
   ]
  },
  {
   "cell_type": "markdown",
   "id": "833149fb",
   "metadata": {},
   "source": [
    "## Variables\n",
    "\n",
    "We **assign** value to variables and, later on, **refer** to the variable names to use the values.\n",
    "\n",
    "the syntex used is:\n",
    "\n",
    "        variable_name = value"
   ]
  },
  {
   "cell_type": "code",
   "execution_count": 29,
   "id": "59369665",
   "metadata": {},
   "outputs": [
    {
     "name": "stdout",
     "output_type": "stream",
     "text": [
      "3\n",
      "5.5\n"
     ]
    }
   ],
   "source": [
    "a = 3 # Assign the value 3 to the variable named a\n",
    "b = 5.5 # Assign the value 5.5 to the variable named b\n",
    "print(a)\n",
    "print(b)"
   ]
  },
  {
   "cell_type": "code",
   "execution_count": 31,
   "id": "cd572085",
   "metadata": {},
   "outputs": [
    {
     "name": "stdout",
     "output_type": "stream",
     "text": [
      "Nutchapon\n",
      "Metmaolee\n"
     ]
    }
   ],
   "source": [
    "firstname=\"Nutchapon\"\n",
    "lastname=\"Metmaolee\"\n",
    "print(firstname)\n",
    "print(lastname)"
   ]
  },
  {
   "cell_type": "code",
   "execution_count": 32,
   "id": "128d0b68",
   "metadata": {},
   "outputs": [
    {
     "name": "stdout",
     "output_type": "stream",
     "text": [
      "True\n",
      "False\n"
     ]
    }
   ],
   "source": [
    "p = True\n",
    "q = False\n",
    "print(p)\n",
    "print(q)"
   ]
  },
  {
   "cell_type": "markdown",
   "id": "48db1381",
   "metadata": {},
   "source": [
    "Multiple variables can be assigned with a *similar* value in a single *line*"
   ]
  },
  {
   "cell_type": "code",
   "execution_count": 34,
   "id": "1d02abb0",
   "metadata": {},
   "outputs": [
    {
     "name": "stdout",
     "output_type": "stream",
     "text": [
      "hello\n",
      "hello\n"
     ]
    }
   ],
   "source": [
    "a=b=\"hello\"\n",
    "print(a)\n",
    "print(b)"
   ]
  },
  {
   "cell_type": "markdown",
   "id": "1928cffd",
   "metadata": {},
   "source": [
    "Many values can also be assigned to multiple variables in a single line."
   ]
  },
  {
   "cell_type": "code",
   "execution_count": 39,
   "id": "92eba3e4",
   "metadata": {},
   "outputs": [
    {
     "name": "stdout",
     "output_type": "stream",
     "text": [
      "Hello\n",
      "45\n",
      "True\n"
     ]
    }
   ],
   "source": [
    "a, b, c = \"Hello\", 45 , True\n",
    "print(a)\n",
    "print(b)\n",
    "    print(c)"
   ]
  },
  {
   "cell_type": "markdown",
   "id": "e568ce5b",
   "metadata": {},
   "source": [
    "A variable can be *re-assigned* with a new value."
   ]
  },
  {
   "cell_type": "code",
   "execution_count": 41,
   "id": "e572c3e4",
   "metadata": {},
   "outputs": [
    {
     "name": "stdout",
     "output_type": "stream",
     "text": [
      "25\n",
      "30\n",
      "Hello\n"
     ]
    }
   ],
   "source": [
    "a=25\n",
    "print(a)\n",
    "a=30\n",
    "print(a)\n",
    "a=\"Hello\"\n",
    "print(a)"
   ]
  },
  {
   "cell_type": "markdown",
   "id": "52bc8f68",
   "metadata": {},
   "source": []
  },
  {
   "cell_type": "markdown",
   "id": "d924af3c",
   "metadata": {},
   "source": [
    "We can assign the *value in a variable* to *another variable*. "
   ]
  },
  {
   "cell_type": "code",
   "execution_count": 42,
   "id": "1c17a339",
   "metadata": {},
   "outputs": [
    {
     "name": "stdout",
     "output_type": "stream",
     "text": [
      "50\n",
      "100\n"
     ]
    }
   ],
   "source": [
    "a = 50 \n",
    "print(a)\n",
    "b=100\n",
    "a=b\n",
    "print(a)"
   ]
  },
  {
   "cell_type": "markdown",
   "id": "985ca4e0",
   "metadata": {},
   "source": [
    "The *data type of a variable* is the *data type of the (latest) value* assigned to that vatiable."
   ]
  },
  {
   "cell_type": "markdown",
   "id": "439c1ebb",
   "metadata": {},
   "source": [
    "## กฎการตั้งชื่อตัวแปรใน Python\n",
    "### อักขระที่ใช้ในชื่อตัวแปรได้\n",
    "- **ต้องเป็นตัวอักษร** (เช่น A-Z, อักษรภาษาไทย)\n",
    "- **ตัวเลข** (0-9)\n",
    "- เครื่องหมาย**ขีดล่าง** (_)\n",
    "\n",
    "**ห้ามใช้สัญลักษณ์ต่าง ๆ รวมถึง เว้นวรรค (ยกเว้นแค่ขีดล่าง)\n",
    "\n",
    "### ห้ามขึ้นต้นชื่อตัวแปรด้วยตัวเลข\n",
    "### ชื่อตัวแปรต้องไม่เป็น คำสงวน **Reserved word**\n",
    "*Reserved word* = คำเฉพาะต่าง ๆ ที่มีหน้าที่/บทบาทพิเศษในภาษา Python\n",
    "เช่น if, for, while"
   ]
  },
  {
   "cell_type": "markdown",
   "id": "256aa951",
   "metadata": {},
   "source": [
    "Here are examples of *valid variable names*."
   ]
  },
  {
   "cell_type": "code",
   "execution_count": 46,
   "id": "814ca027",
   "metadata": {},
   "outputs": [],
   "source": [
    "average = 20.0\n",
    "p5 = 50\n",
    "this_is_ok = \"ok\"\n",
    "ThisIsOk = \"yesh\"\n",
    "_height = 80\n",
    "ความสูง = 80"
   ]
  },
  {
   "cell_type": "markdown",
   "id": "a6292113",
   "metadata": {},
   "source": [
    "However, there are *NOT valid*."
   ]
  },
  {
   "cell_type": "code",
   "execution_count": 1,
   "id": "95c096e3",
   "metadata": {},
   "outputs": [
    {
     "ename": "SyntaxError",
     "evalue": "invalid decimal literal (1877084195.py, line 2)",
     "output_type": "error",
     "traceback": [
      "\u001b[1;36m  Cell \u001b[1;32mIn [1], line 2\u001b[1;36m\u001b[0m\n\u001b[1;33m    5p = 50\u001b[0m\n\u001b[1;37m    ^\u001b[0m\n\u001b[1;31mSyntaxError\u001b[0m\u001b[1;31m:\u001b[0m invalid decimal literal\n"
     ]
    }
   ],
   "source": [
    "average* = 20.0 # CANNOT contain symbol\n",
    "5p = 50\n",
    "_this_is_ok = \"ok\""
   ]
  },
  {
   "cell_type": "code",
   "execution_count": 9,
   "id": "ec556b05",
   "metadata": {},
   "outputs": [],
   "source": [
    "_This_is_ok =\"ok\"\n"
   ]
  },
  {
   "cell_type": "code",
   "execution_count": 11,
   "id": "f4c41377",
   "metadata": {},
   "outputs": [
    {
     "name": "stdout",
     "output_type": "stream",
     "text": [
      "ok\n"
     ]
    }
   ],
   "source": [
    "print(_This_is_ok)"
   ]
  },
  {
   "cell_type": "code",
   "execution_count": null,
   "id": "2f55f14c",
   "metadata": {},
   "outputs": [],
   "source": []
  }
 ],
 "metadata": {
  "kernelspec": {
   "display_name": "Python 3.10.6 ('nut3.10')",
   "language": "python",
   "name": "python3"
  },
  "language_info": {
   "codemirror_mode": {
    "name": "ipython",
    "version": 3
   },
   "file_extension": ".py",
   "mimetype": "text/x-python",
   "name": "python",
   "nbconvert_exporter": "python",
   "pygments_lexer": "ipython3",
   "version": "3.10.6"
  },
  "vscode": {
   "interpreter": {
    "hash": "685e03021fbac60f1cd5975c90c79fd02b78ea99482fd35fde8fd9b6aa423317"
   }
  }
 },
 "nbformat": 4,
 "nbformat_minor": 5
}
