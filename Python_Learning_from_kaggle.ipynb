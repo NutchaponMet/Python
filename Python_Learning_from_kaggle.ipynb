{
 "cells": [
  {
   "cell_type": "markdown",
   "id": "e7742fb5",
   "metadata": {},
   "source": [
    "# Function"
   ]
  },
  {
   "cell_type": "code",
   "execution_count": 2,
   "id": "2428d556",
   "metadata": {},
   "outputs": [
    {
     "data": {
      "text/plain": [
       "528.0"
      ]
     },
     "execution_count": 2,
     "metadata": {},
     "output_type": "execute_result"
    }
   ],
   "source": [
    "def get_pay(num_hours):\n",
    "    pay_pretax = num_hours * 15\n",
    "    pay_aftertax = pay_pretax * (1 - .12)\n",
    "    return pay_aftertax\n",
    "\n",
    "get_pay(40)"
   ]
  },
  {
   "cell_type": "code",
   "execution_count": null,
   "id": "b63d8c9d",
   "metadata": {},
   "outputs": [],
   "source": []
  }
 ],
 "metadata": {
  "kernelspec": {
   "display_name": "Python 3 (ipykernel)",
   "language": "python",
   "name": "python3"
  },
  "language_info": {
   "codemirror_mode": {
    "name": "ipython",
    "version": 3
   },
   "file_extension": ".py",
   "mimetype": "text/x-python",
   "name": "python",
   "nbconvert_exporter": "python",
   "pygments_lexer": "ipython3",
   "version": "3.10.10"
  }
 },
 "nbformat": 4,
 "nbformat_minor": 5
}
