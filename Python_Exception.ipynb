{
 "cells": [
  {
   "cell_type": "markdown",
   "id": "0956223e",
   "metadata": {},
   "source": [
    "# Python Exception\n",
    "## การจัดการกับข้อผิดพลาดใน  python"
   ]
  },
  {
   "cell_type": "markdown",
   "id": "5c854d71",
   "metadata": {},
   "source": [
    "### Exception\n",
    "\n",
    "เป็นการเหตุการที่โปรแกรมเกิดข้อผิดพลาดโดยที่เราไม่ตั้งใจว่าจะเกิดขึ้น"
   ]
  },
  {
   "cell_type": "code",
   "execution_count": 3,
   "id": "0058b8a1",
   "metadata": {},
   "outputs": [
    {
     "name": "stdout",
     "output_type": "stream",
     "text": [
      "Enter your first number:14\n",
      "Enter your secound number:123\n",
      "resualt =  137\n"
     ]
    }
   ],
   "source": [
    "# Exception การจัดการกับข้อผิดพลาด\n",
    "\n",
    "number1 = int(input('Enter your first number:'))\n",
    "number2 = int(input('Enter your secound number:'))\n",
    "\n",
    "sum = number1+number2\n",
    "print('resualt = ',sum)\n"
   ]
  },
  {
   "cell_type": "code",
   "execution_count": 4,
   "id": "dc4c8e17",
   "metadata": {},
   "outputs": [
    {
     "name": "stdout",
     "output_type": "stream",
     "text": [
      "Enter your first number:10\n",
      "Enter your secound number:d\n"
     ]
    },
    {
     "ename": "ValueError",
     "evalue": "invalid literal for int() with base 10: 'd'",
     "output_type": "error",
     "traceback": [
      "\u001b[1;31m---------------------------------------------------------------------------\u001b[0m",
      "\u001b[1;31mValueError\u001b[0m                                Traceback (most recent call last)",
      "Cell \u001b[1;32mIn[4], line 2\u001b[0m\n\u001b[0;32m      1\u001b[0m number1 \u001b[38;5;241m=\u001b[39m \u001b[38;5;28mint\u001b[39m(\u001b[38;5;28minput\u001b[39m(\u001b[38;5;124m'\u001b[39m\u001b[38;5;124mEnter your first number:\u001b[39m\u001b[38;5;124m'\u001b[39m))\n\u001b[1;32m----> 2\u001b[0m number2 \u001b[38;5;241m=\u001b[39m \u001b[38;5;28;43mint\u001b[39;49m\u001b[43m(\u001b[49m\u001b[38;5;28;43minput\u001b[39;49m\u001b[43m(\u001b[49m\u001b[38;5;124;43m'\u001b[39;49m\u001b[38;5;124;43mEnter your secound number:\u001b[39;49m\u001b[38;5;124;43m'\u001b[39;49m\u001b[43m)\u001b[49m\u001b[43m)\u001b[49m\n\u001b[0;32m      4\u001b[0m \u001b[38;5;28msum\u001b[39m \u001b[38;5;241m=\u001b[39m number1\u001b[38;5;241m+\u001b[39mnumber2\n\u001b[0;32m      5\u001b[0m \u001b[38;5;28mprint\u001b[39m(\u001b[38;5;124m'\u001b[39m\u001b[38;5;124mresualt = \u001b[39m\u001b[38;5;124m'\u001b[39m,\u001b[38;5;28msum\u001b[39m)\n",
      "\u001b[1;31mValueError\u001b[0m: invalid literal for int() with base 10: 'd'"
     ]
    }
   ],
   "source": [
    "number1 = int(input('Enter your first number:'))\n",
    "number2 = int(input('Enter your secound number:'))\n",
    "\n",
    "sum = number1 + number2\n",
    "print('resualt = ',sum)"
   ]
  },
  {
   "cell_type": "markdown",
   "id": "2c15cc30",
   "metadata": {},
   "source": [
    "การนำ\n",
    "            \n",
    "            try:\n",
    "            \n",
    "            \n",
    "            except:\n",
    "\n",
    "เข้ามาช่วยจัดการกับความผิดพลาด"
   ]
  },
  {
   "cell_type": "code",
   "execution_count": 8,
   "id": "a527479a",
   "metadata": {},
   "outputs": [
    {
     "name": "stdout",
     "output_type": "stream",
     "text": [
      "Enter your numbers: 12312\n",
      "Enter your numbers: 12\n",
      "Enter your numbers: 4124\n",
      "Enter your numbers: 134124\n",
      "Enter your numbers: 123213\n",
      "Enter your numbers: 12312\n",
      "Enter your numbers: 441\n",
      "Enter your numbers: 3124\n",
      "Enter your numbers: \n",
      "Max_Number = 134124\n",
      "Min_Number = 12\n"
     ]
    }
   ],
   "source": [
    "## ตัวอย่างโปรแกรมหาเลข มากสุด/น้อยสุด\n",
    "\n",
    "MaxNumber = 0\n",
    "MinNumber = 999999\n",
    "\n",
    "try:\n",
    "    while True:\n",
    "        number = int(input('Enter your numbers: '))\n",
    "        if number > MaxNumber:\n",
    "            MaxNumber = number\n",
    "        if number < MinNumber:\n",
    "            MinNumber = number\n",
    "except ValueError:\n",
    "    pass\n",
    "except TypeError:\n",
    "    print(\"ผลลัพธ์ คิอ:\")\n",
    "finally:\n",
    "    print('Max_Number =',MaxNumber)\n",
    "    print('Min_Number =',MinNumber)"
   ]
  },
  {
   "cell_type": "markdown",
   "id": "f0432776",
   "metadata": {},
   "source": [
    "กรณีไม่ทราบข้อผิดพลาดก็จะเป็นการใช้ Exception แทน"
   ]
  },
  {
   "cell_type": "code",
   "execution_count": 9,
   "id": "977bed9c",
   "metadata": {},
   "outputs": [
    {
     "name": "stdout",
     "output_type": "stream",
     "text": [
      "Enter your numbers: 12412\n",
      "Enter your numbers: 1231\n",
      "Enter your numbers: 2141241\n",
      "Enter your numbers: 312312\n",
      "Enter your numbers: 123124\n",
      "Enter your numbers: 12312412\n",
      "Enter your numbers: 12312124\n",
      "Enter your numbers: 31231234\n",
      "Enter your numbers: 123124\n",
      "Enter your numbers: \n",
      "invalid literal for int() with base 10: ''\n"
     ]
    }
   ],
   "source": [
    "try:\n",
    "    while True:\n",
    "        number = int(input('Enter your numbers: '))\n",
    "        if number > MaxNumber:\n",
    "            MaxNumber = number\n",
    "        if number < MinNumber:\n",
    "            MinNumber = number\n",
    "except Exception as e:\n",
    "    print(e)\n"
   ]
  },
  {
   "cell_type": "code",
   "execution_count": 1,
   "id": "492f358e",
   "metadata": {},
   "outputs": [
    {
     "name": "stdout",
     "output_type": "stream",
     "text": [
      "Enter your numbers: 123\n",
      "Enter your numbers: 1241245\n",
      "Enter your numbers: 123123\n",
      "Enter your numbers: 123123\n",
      "Enter your numbers: 1231\n",
      "Enter your numbers: 1231\n",
      "Enter your numbers: 41231\n",
      "Enter your numbers: 12412\n",
      "Enter your numbers: -10\n"
     ]
    }
   ],
   "source": [
    "\n",
    "MaxNumber = 0\n",
    "MinNumber = 999999\n",
    "\n",
    "while True:\n",
    "    try:\n",
    "        number = int(input('Enter your numbers: '))\n",
    "        if number > MaxNumber:\n",
    "            MaxNumber = number\n",
    "        if number < MinNumber:\n",
    "            MinNumber = number\n",
    "        if number < 0:\n",
    "            break\n",
    "    except Exception as e:\n",
    "        print(e)"
   ]
  }
 ],
 "metadata": {
  "kernelspec": {
   "display_name": "Python 3 (ipykernel)",
   "language": "python",
   "name": "python3"
  },
  "language_info": {
   "codemirror_mode": {
    "name": "ipython",
    "version": 3
   },
   "file_extension": ".py",
   "mimetype": "text/x-python",
   "name": "python",
   "nbconvert_exporter": "python",
   "pygments_lexer": "ipython3",
   "version": "3.10.11"
  }
 },
 "nbformat": 4,
 "nbformat_minor": 5
}
