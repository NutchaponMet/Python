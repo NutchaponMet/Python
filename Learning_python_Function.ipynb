{
 "cells": [
  {
   "cell_type": "markdown",
   "id": "edd62c46",
   "metadata": {},
   "source": [
    "# Function\n",
    "สาเหตุที่เราจะต้องใช้ `Function` เพื่อช่วยลดขั้นตอนในการทำงานและเขียนโค้ดให้ไม่ซ้ำซ้อน และช่วยให้การจัดการโค้ดได้ง่ายมากขึ้น\n",
    "โค้ดอ่านง่าย"
   ]
  },
  {
   "cell_type": "code",
   "execution_count": 5,
   "id": "1cb436bb",
   "metadata": {},
   "outputs": [
    {
     "name": "stdout",
     "output_type": "stream",
     "text": [
      "odd number\n",
      "even number\n",
      "odd number\n"
     ]
    }
   ],
   "source": [
    "a,b,c = 1,2,3\n",
    "\n",
    "def mod(n):\n",
    "    if n%2 == 0:\n",
    "        return \"even number\"\n",
    "    else:\n",
    "        return \"odd number\"\n",
    "\n",
    "def factorial():\n",
    "    if \n",
    "if __name__==\"__main__\":\n",
    "    list_var = [a,b,c]\n",
    "    for i in list_var:\n",
    "        print(mod(i))"
   ]
  },
  {
   "cell_type": "markdown",
   "id": "3dfda9fd",
   "metadata": {},
   "source": [
    "### Global & variable & Local variable\n",
    "\n",
    "global variable หมายถึง ทำงานทั้งโปรแกรม\n",
    "\n",
    "local variable หมายถึง ทำงานเฉพาะส่วน"
   ]
  },
  {
   "cell_type": "code",
   "execution_count": 11,
   "id": "9d64a9e6",
   "metadata": {},
   "outputs": [
    {
     "name": "stdout",
     "output_type": "stream",
     "text": [
      "Global variable = 1000\n",
      "Local variable = 500\n"
     ]
    }
   ],
   "source": [
    "# Global Variable เป็นตัวแปรที่สามารถเรียกใช้ได้ทั้งโปรแกรม\n",
    "# Local Variable เป็นตัวแปรที่สามารถเรียกใช้ได้จากเฉพาะส่วนของโปรแกรม เช่น จากภายใน 'function'\n",
    "\n",
    "# Example\n",
    "\n",
    "def add():\n",
    "    a = 500\n",
    "    print('Local variable =',a)\n",
    "\n",
    "a = 1000\n",
    "print('Global variable =',a)\n",
    "add()\n",
    "\n"
   ]
  },
  {
   "cell_type": "markdown",
   "id": "35c76a47",
   "metadata": {},
   "source": [
    "### การส่งค่าเข้าไปใน `Function` "
   ]
  },
  {
   "cell_type": "code",
   "execution_count": 12,
   "id": "63f04523",
   "metadata": {},
   "outputs": [
    {
     "name": "stdout",
     "output_type": "stream",
     "text": [
      "Hello Nutchapon\n"
     ]
    }
   ],
   "source": [
    "# สร้าง function\n",
    "\n",
    "def myData():\n",
    "    print('Hello','Nutchapon')\n",
    "\n",
    "myData()"
   ]
  },
  {
   "cell_type": "code",
   "execution_count": 13,
   "id": "f2b491de",
   "metadata": {},
   "outputs": [
    {
     "name": "stdout",
     "output_type": "stream",
     "text": [
      "Hello Yosita\n"
     ]
    }
   ],
   "source": [
    "# การรับค่าเข้ามาทำงานภายใน function\n",
    "\n",
    "def myData(name):\n",
    "    print('Hello',name)\n",
    "    \n",
    "myData('Yosita')"
   ]
  },
  {
   "cell_type": "code",
   "execution_count": 15,
   "id": "073db25c",
   "metadata": {},
   "outputs": [
    {
     "name": "stdout",
     "output_type": "stream",
     "text": [
      "Hello Yosita Chaiyasat\n",
      "How are you Yosita\n",
      "Have you plan in weeked Yosita\n"
     ]
    }
   ],
   "source": [
    "# การส่งค่าเข้าไปทำงานได้มากกว่า 1 ค่า\n",
    "\n",
    "def myData(fname, lname):\n",
    "    print('Hello',fname,lname)\n",
    "    print('How are you',fname)\n",
    "    print('Have you plan in weeked',fname)\n",
    "    \n",
    "myData('Yosita','Chaiyasat')"
   ]
  },
  {
   "cell_type": "markdown",
   "id": "99efc0cc",
   "metadata": {},
   "source": [
    "### Arguments\n",
    "หมายถึง ค่าที่ถูกส่งเข้าไปใน function --> fname, lname, age\n",
    "### Parameter\n",
    "หมายถึง ค่าตัวแปรที่รับข้อมูลที่ส่งมาทำงาน (Arguments) --> a, b, c\n",
    "\n",
    "        def humanid(a,b,c):\n",
    "                    ^ ^ ^\n",
    "                 (Parameter)\n",
    "            print('Hello',a<Parameter>)\n",
    "            \n",
    "        fname = 'nutchapon' <Arguments>\n",
    "        lname = 'Parker' <Arguments>"
   ]
  },
  {
   "cell_type": "code",
   "execution_count": 20,
   "id": "67b725ff",
   "metadata": {},
   "outputs": [
    {
     "name": "stdout",
     "output_type": "stream",
     "text": [
      "firstname: nutchapon \n",
      "lastname: parker \n",
      "age: 32\n"
     ]
    }
   ],
   "source": [
    "def id_man(a,b,c):\n",
    "    print('firstname:',a,'\\nlastname:',b,'\\nage:',c)\n",
    "\n",
    "fname = 'nutchapon'\n",
    "lname = 'parker'\n",
    "age = 32\n",
    "\n",
    "id_man(fname,lname,age)"
   ]
  },
  {
   "cell_type": "markdown",
   "id": "558b9876",
   "metadata": {},
   "source": [
    "### Arbitrary Arguments `*args`\n",
    "\n",
    "เป็น argument ทื่ไม่ได้มีการนิยามที่ชัดเจน"
   ]
  },
  {
   "cell_type": "code",
   "execution_count": 11,
   "id": "5797f5d5",
   "metadata": {},
   "outputs": [],
   "source": [
    "# This is example arbitrary arguments\n",
    "\n",
    "def sum_number(*number):\n",
    "    sum = 0\n",
    "    if len(number) > 1:\n",
    "        for i in range(len(number)):\n",
    "            sum += number[i]\n",
    "        print(sum)\n",
    "    else:\n",
    "        print(number[0])"
   ]
  },
  {
   "cell_type": "code",
   "execution_count": 12,
   "id": "85bb3d4e",
   "metadata": {},
   "outputs": [
    {
     "name": "stdout",
     "output_type": "stream",
     "text": [
      "10\n",
      "64\n",
      "1\n"
     ]
    }
   ],
   "source": [
    "sum_number(1,2,3,4)\n",
    "sum_number(20,1,10,4,6,8,2,5,7,1)\n",
    "sum_number(1)"
   ]
  },
  {
   "cell_type": "markdown",
   "id": "e5cfbb42",
   "metadata": {},
   "source": [
    "### Keyword argument\n",
    "\n",
    "เป็นการระบุ parameter ใน function `kwargs`"
   ]
  },
  {
   "cell_type": "code",
   "execution_count": 14,
   "id": "50c11020",
   "metadata": {},
   "outputs": [
    {
     "name": "stdout",
     "output_type": "stream",
     "text": [
      "first_name: peter \n",
      "last_name: paeker \n",
      "age: 32\n",
      "first_name: 32 \n",
      "last_name: parker \n",
      "age: peter\n"
     ]
    }
   ],
   "source": [
    "# Example keyword argument\n",
    "\n",
    "def display_info(fname,lname,age):\n",
    "    print('first_name:',fname,'\\nlast_name:',lname,'\\nage:',age)\n",
    "    \n",
    "display_info('peter','paeker',32)\n",
    "display_info(32,'parker','peter')"
   ]
  },
  {
   "cell_type": "code",
   "execution_count": 15,
   "id": "e4edb4a2",
   "metadata": {},
   "outputs": [
    {
     "name": "stdout",
     "output_type": "stream",
     "text": [
      "first_name: peter \n",
      "last_name: parker \n",
      "age: 32\n"
     ]
    }
   ],
   "source": [
    "display_info(fname='peter',lname='parker',age=32)"
   ]
  },
  {
   "cell_type": "code",
   "execution_count": 16,
   "id": "26f3a215",
   "metadata": {},
   "outputs": [
    {
     "name": "stdout",
     "output_type": "stream",
     "text": [
      "first_name: marryjane \n",
      "last_name: watson \n",
      "age: 42\n"
     ]
    }
   ],
   "source": [
    "display_info(age=42,lname='watson',fname='marryjane')"
   ]
  },
  {
   "cell_type": "markdown",
   "id": "88d4e844",
   "metadata": {},
   "source": [
    "#### Keyargument come to help determine parameter correctly"
   ]
  },
  {
   "cell_type": "markdown",
   "id": "dac9c2fa",
   "metadata": {},
   "source": [
    "### Default Parameter\n",
    "\n",
    "การกำหนดค่าเริ่มต้นให้กับ Function"
   ]
  },
  {
   "cell_type": "code",
   "execution_count": 17,
   "id": "fab4a85b",
   "metadata": {},
   "outputs": [],
   "source": [
    "def info_config(fname,lname,province='bangkok'):\n",
    "    print('first_name:', fname)\n",
    "    print('last_name:', lname)\n",
    "    print('province_name:', province)\n",
    "    "
   ]
  },
  {
   "cell_type": "code",
   "execution_count": 18,
   "id": "f66d8027",
   "metadata": {},
   "outputs": [
    {
     "name": "stdout",
     "output_type": "stream",
     "text": [
      "first_name: nutchapon\n",
      "last_name: metmaolee\n",
      "province_name: udonthani\n"
     ]
    }
   ],
   "source": [
    "info_config('nutchapon','metmaolee','udonthani')"
   ]
  },
  {
   "cell_type": "code",
   "execution_count": 19,
   "id": "d008ffc8",
   "metadata": {},
   "outputs": [
    {
     "name": "stdout",
     "output_type": "stream",
     "text": [
      "first_name: yosita\n",
      "last_name: chaiyasat\n",
      "province_name: bangkok\n"
     ]
    }
   ],
   "source": [
    "info_config('yosita','chaiyasat')"
   ]
  },
  {
   "cell_type": "markdown",
   "id": "2feae39f",
   "metadata": {},
   "source": [
    "### การนำ `list` มาใช้กับ parameter"
   ]
  },
  {
   "cell_type": "code",
   "execution_count": 20,
   "id": "4e181285",
   "metadata": {},
   "outputs": [
    {
     "name": "stdout",
     "output_type": "stream",
     "text": [
      "['melon', 'lemon', 'banana', 'mango']\n"
     ]
    }
   ],
   "source": [
    "# python can input list into function\n",
    "\n",
    "def a_func(item):\n",
    "    print(item)\n",
    "    \n",
    "fruit = ['melon','lemon','banana','mango']\n",
    "a_func(fruit)"
   ]
  },
  {
   "cell_type": "code",
   "execution_count": 48,
   "id": "094d1297",
   "metadata": {},
   "outputs": [
    {
     "name": "stdout",
     "output_type": "stream",
     "text": [
      "['dog', 'cat', 'bat']\n",
      "['bear', 'tiger', 'lion']\n"
     ]
    }
   ],
   "source": [
    "# How to applies if function list loop\n",
    "\n",
    "# create list\n",
    "x = ['dog','cat','bear','bat','tiger','lion']\n",
    "y = []\n",
    "z = []\n",
    "\n",
    "# create function\n",
    "def z_func(item):\n",
    "    for i in item:\n",
    "        if len(i) == 3:\n",
    "            y.append(i)\n",
    "        else:\n",
    "            z.append(i)\n",
    "\n",
    "z_func(x)\n",
    "print(y)\n",
    "print(z)\n",
    "            \n",
    "# if len(x) > 1:\n",
    "#     z_func(x)\n",
    "# else:\n",
    "#     print('Error')"
   ]
  },
  {
   "cell_type": "code",
   "execution_count": 3,
   "id": "c6e1247a",
   "metadata": {},
   "outputs": [
    {
     "name": "stdout",
     "output_type": "stream",
     "text": [
      "dice: 1 from: A go to: B\n",
      "dice: 2 from: A go to: C\n",
      "dice: 1 from: B go to: C\n",
      "dice: 3 from: A go to: B\n",
      "dice: 1 from: C go to: A\n",
      "dice: 2 from: C go to: B\n",
      "dice: 1 from: A go to: B\n",
      "dice: 4 from: A go to: C\n",
      "dice: 1 from: B go to: C\n",
      "dice: 2 from: B go to: A\n",
      "dice: 1 from: C go to: A\n",
      "dice: 3 from: B go to: C\n",
      "dice: 1 from: A go to: B\n",
      "dice: 2 from: A go to: C\n",
      "dice: 1 from: B go to: C\n"
     ]
    }
   ],
   "source": [
    "# tower of hanoi\n",
    "\n",
    "def tower_hanoi(n,a,b,c):\n",
    "    if n == 0:\n",
    "        return\n",
    "    tower_hanoi(n-1,a,c,b)\n",
    "    print('dice:',n,'from:',a,'go to:',c)\n",
    "    tower_hanoi(n-1,b,a,c)\n",
    "\n",
    "tower_hanoi(4,'A','B','C')"
   ]
  },
  {
   "cell_type": "code",
   "execution_count": null,
   "id": "0e46e38b",
   "metadata": {},
   "outputs": [],
   "source": []
  }
 ],
 "metadata": {
  "kernelspec": {
   "display_name": "Python 3 (ipykernel)",
   "language": "python",
   "name": "python3"
  },
  "language_info": {
   "codemirror_mode": {
    "name": "ipython",
    "version": 3
   },
   "file_extension": ".py",
   "mimetype": "text/x-python",
   "name": "python",
   "nbconvert_exporter": "python",
   "pygments_lexer": "ipython3",
   "version": "3.10.11"
  }
 },
 "nbformat": 4,
 "nbformat_minor": 5
}
