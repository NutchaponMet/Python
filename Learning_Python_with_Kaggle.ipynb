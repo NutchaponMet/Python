{
 "cells": [
  {
   "cell_type": "markdown",
   "id": "9ad9ccec",
   "metadata": {},
   "source": [
    "# Python for Data Science With Kaggle\n",
    "\n",
    "## Lesson 1: Hello, Python\n",
    "A quick introduction to Python syntax, variable assignment,and numbers"
   ]
  },
  {
   "cell_type": "markdown",
   "id": "42a6d9ce",
   "metadata": {},
   "source": [
    "Example Code"
   ]
  },
  {
   "cell_type": "code",
   "execution_count": 2,
   "id": "317cd7e0",
   "metadata": {},
   "outputs": [
    {
     "name": "stdout",
     "output_type": "stream",
     "text": [
      "0\n",
      "4\n",
      "But I don't want ANY spam!\n",
      "Spam Spam Spam Spam \n"
     ]
    }
   ],
   "source": [
    "spam_amount = 0\n",
    "print(spam_amount)\n",
    "\n",
    "# Ordering Spam, egg, Spam, Spam, bacon, and Spam (4 more serings of Spam)\n",
    "\n",
    "spam_amount = spam_amount + 4\n",
    "print(spam_amount)\n",
    "\n",
    "\n",
    "if spam_amount > 0:\n",
    "    print(\"But I don't want ANY spam!\")\n",
    "    \n",
    "\n",
    "viking_song = \"Spam \" * spam_amount\n",
    "print(viking_song)"
   ]
  },
  {
   "cell_type": "code",
   "execution_count": 6,
   "id": "8e49add5",
   "metadata": {},
   "outputs": [
    {
     "data": {
      "text/plain": [
       "51"
      ]
     },
     "execution_count": 6,
     "metadata": {},
     "output_type": "execute_result"
    }
   ],
   "source": [
    "a = 155\n",
    "b = 3\n",
    "a // b"
   ]
  },
  {
   "cell_type": "code",
   "execution_count": 7,
   "id": "00e426f3",
   "metadata": {},
   "outputs": [
    {
     "data": {
      "text/plain": [
       "1"
      ]
     },
     "execution_count": 7,
     "metadata": {},
     "output_type": "execute_result"
    }
   ],
   "source": [
    "alice_candies = 121\n",
    "bob_candies = 77\n",
    "carol_candies = 109\n",
    "(alice_candies + bob_candies + carol_candies) % 3"
   ]
  }
 ],
 "metadata": {
  "kernelspec": {
   "display_name": "Python 3 (ipykernel)",
   "language": "python",
   "name": "python3"
  },
  "language_info": {
   "codemirror_mode": {
    "name": "ipython",
    "version": 3
   },
   "file_extension": ".py",
   "mimetype": "text/x-python",
   "name": "python",
   "nbconvert_exporter": "python",
   "pygments_lexer": "ipython3",
   "version": "3.10.9"
  }
 },
 "nbformat": 4,
 "nbformat_minor": 5
}
