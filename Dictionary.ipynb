{
 "cells": [
  {
   "cell_type": "markdown",
   "id": "994dc5e1",
   "metadata": {},
   "source": [
    "# เรื่อง Dictionary หรือ Data Collection Mapping Type"
   ]
  },
  {
   "cell_type": "markdown",
   "id": "b6263871",
   "metadata": {},
   "source": [
    "- Dictionaries are **mapping** data type in Python, storing data in a collection of **key-value** pairs.\n",
    "- หรือให้นึกถึง Dictionary ในชีวิตประจำวัน\n",
    "- หลักการใช้งาน Dictionary จะเป็นการช่วยอำนวยความสะดวกในการค้นหาข้อมูลที่อยู่ภายใน Dictionary ผ่าน **key-value** หรือ คำค้น\n",
    "----------------------"
   ]
  },
  {
   "cell_type": "markdown",
   "id": "796d28ef",
   "metadata": {},
   "source": [
    "### Creating Dictionary\n",
    "- Dictionary can be craeted using curly brackets(braces) `{ }`.\n",
    "- Each item is separated by `,`:\n",
    "- An item has a **key** and a correponding **value** (key:value pair).\n",
    "            d = { <key>: <value>,\n",
    "                  <key>: <value>,\n",
    "                   .\n",
    "                   .\n",
    "                  <key>: <value>,\n",
    "                }"
   ]
  },
  {
   "cell_type": "code",
   "execution_count": 2,
   "id": "22dad068",
   "metadata": {},
   "outputs": [],
   "source": [
    "# Create a dictionary using curly brackets.\n",
    "\n",
    "dbook_info = {'title':'Python Basics',\n",
    "             'price': 39.99,\n",
    "             'year':2021,\n",
    "             'authors':('D.Amos','D.Bader','J.Jabloski','F.Heisler')}"
   ]
  },
  {
   "attachments": {
    "%E0%B8%AA%E0%B8%81%E0%B8%A3%E0%B8%B5%E0%B8%99%E0%B8%8A%E0%B9%87%E0%B8%AD%E0%B8%95%202022-10-17%20101035.png": {
     "image/png": "[encoded data removed]"
    }
   },
   "cell_type": "markdown",
   "id": "d69dd99e",
   "metadata": {},
   "source": [
    "![%E0%B8%AA%E0%B8%81%E0%B8%A3%E0%B8%B5%E0%B8%99%E0%B8%8A%E0%B9%87%E0%B8%AD%E0%B8%95%202022-10-17%20101035.png](attachment:%E0%B8%AA%E0%B8%81%E0%B8%A3%E0%B8%B5%E0%B8%99%E0%B8%8A%E0%B9%87%E0%B8%AD%E0%B8%95%202022-10-17%20101035.png)\n",
    "\n",
    "Ref: https://pythontutor.com/render.html#mode=display"
   ]
  },
  {
   "cell_type": "markdown",
   "id": "822b295a",
   "metadata": {},
   "source": [
    "- Dictionary can be created using `dict()` function.\n",
    "                d = dict([ (<key>,<value>,\n",
    "                            <key>,<value>,\n",
    "                                .\n",
    "                                .\n",
    "                            <key>,<value>,\n",
    "                        ])       \n",
    "                                "
   ]
  },
  {
   "cell_type": "code",
   "execution_count": 3,
   "id": "ae348388",
   "metadata": {},
   "outputs": [],
   "source": [
    "c = [('name','Somsri Jaidee'),('tel','02-222-1222')]"
   ]
  },
  {
   "cell_type": "code",
   "execution_count": 4,
   "id": "66fb015d",
   "metadata": {},
   "outputs": [
    {
     "name": "stdout",
     "output_type": "stream",
     "text": [
      "{'name': 'Somsri Jaidee', 'tel': '02-222-1222'}\n",
      "<class 'dict'>\n"
     ]
    }
   ],
   "source": [
    "customer = dict(c)\n",
    "print(customer)\n",
    "print(type(customer))"
   ]
  },
  {
   "cell_type": "code",
   "execution_count": 5,
   "id": "2d8ecc71",
   "metadata": {},
   "outputs": [
    {
     "name": "stdout",
     "output_type": "stream",
     "text": [
      "<class 'dict'>\n",
      "{'name': 'Somsri Jaidee', 'tel': '02-222-1222'}\n"
     ]
    }
   ],
   "source": [
    "customer = dict(name = 'Somsri Jaidee', tel = '02-222-1222')\n",
    "print(type(customer))\n",
    "print(customer)"
   ]
  },
  {
   "cell_type": "markdown",
   "id": "fc869794",
   "metadata": {},
   "source": [
    "### สามารภสร้าง Empty Dict ได้ "
   ]
  },
  {
   "cell_type": "code",
   "execution_count": 6,
   "id": "b1c03378",
   "metadata": {},
   "outputs": [
    {
     "name": "stdout",
     "output_type": "stream",
     "text": [
      "{}\n",
      "<class 'dict'>\n"
     ]
    }
   ],
   "source": [
    "# Creating an empty Dict\n",
    "\n",
    "d = {}\n",
    "print(d)\n",
    "print(type(d))"
   ]
  },
  {
   "cell_type": "markdown",
   "id": "2195b99d",
   "metadata": {},
   "source": [
    "- *Key* must be **immutable** type, e.g., int, float, string, tuple, and **unique**.\n",
    "- *Value* can be any data type (**Heteogeous**) and allowed to be **duplicated**."
   ]
  },
  {
   "cell_type": "code",
   "execution_count": 7,
   "id": "8c203b3e",
   "metadata": {},
   "outputs": [
    {
     "name": "stdout",
     "output_type": "stream",
     "text": [
      "{1: 'a', 2: 'b'}\n"
     ]
    }
   ],
   "source": [
    "# key can be 'int'\n",
    "\n",
    "d = {1:'a',2:'b'}\n",
    "print(d)"
   ]
  },
  {
   "cell_type": "code",
   "execution_count": 9,
   "id": "ecdcf7bd",
   "metadata": {},
   "outputs": [],
   "source": [
    "# key can be 'float'\n",
    "\n",
    "d = {1.0:'a',2.0:'b'}"
   ]
  },
  {
   "cell_type": "code",
   "execution_count": 10,
   "id": "9ce35be4",
   "metadata": {},
   "outputs": [],
   "source": [
    "# key can be 'tuple'\n",
    "\n",
    "d = {(1,1):10,(1,2):20}"
   ]
  },
  {
   "cell_type": "code",
   "execution_count": 11,
   "id": "877c70e5",
   "metadata": {},
   "outputs": [],
   "source": [
    "# key can be mixed\n",
    "\n",
    "d = {1:[1,2,3],\n",
    "    'name':'Sara'}"
   ]
  },
  {
   "cell_type": "code",
   "execution_count": 12,
   "id": "f0c486a1",
   "metadata": {},
   "outputs": [
    {
     "ename": "TypeError",
     "evalue": "unhashable type: 'list'",
     "output_type": "error",
     "traceback": [
      "\u001b[1;31m---------------------------------------------------------------------------\u001b[0m",
      "\u001b[1;31mTypeError\u001b[0m                                 Traceback (most recent call last)",
      "Input \u001b[1;32mIn [12]\u001b[0m, in \u001b[0;36m<cell line: 4>\u001b[1;34m()\u001b[0m\n\u001b[0;32m      1\u001b[0m \u001b[38;5;66;03m# but key cannot be  list because mutable object can not be 'key' in dictionary\u001b[39;00m\n\u001b[0;32m      2\u001b[0m \u001b[38;5;66;03m# Ex\u001b[39;00m\n\u001b[1;32m----> 4\u001b[0m d \u001b[38;5;241m=\u001b[39m {[\u001b[38;5;241m1\u001b[39m,\u001b[38;5;241m1\u001b[39m]:\u001b[38;5;241m10\u001b[39m,[\u001b[38;5;241m1\u001b[39m,\u001b[38;5;241m2\u001b[39m]:\u001b[38;5;241m20\u001b[39m}\n",
      "\u001b[1;31mTypeError\u001b[0m: unhashable type: 'list'"
     ]
    }
   ],
   "source": [
    "# but key cannot be  list because mutable object can not be 'key' in dictionary\n",
    "# Ex\n",
    "\n",
    "d = {[1,1]:10,[1,2]:20}"
   ]
  },
  {
   "cell_type": "markdown",
   "id": "e9dce5b8",
   "metadata": {},
   "source": [
    "### Accessing Dictionary\n",
    "1. An item's value in Dictionary can be referred to using the **key** name in a square bracket `[ ]`.\n",
    "2. Using `get()` method."
   ]
  },
  {
   "cell_type": "code",
   "execution_count": 13,
   "id": "31ea0ae7",
   "metadata": {},
   "outputs": [
    {
     "name": "stdout",
     "output_type": "stream",
     "text": [
      "{'title': 'Python Basics', 'price': 39.99, 'year': 2021, 'authors': ('D.Amos', 'D.Bader', 'J.Jabloski', 'F.Heisler')}\n"
     ]
    }
   ],
   "source": [
    "print(dbook_info)"
   ]
  },
  {
   "cell_type": "code",
   "execution_count": 14,
   "id": "5f37ca84",
   "metadata": {},
   "outputs": [
    {
     "name": "stdout",
     "output_type": "stream",
     "text": [
      "Python Basics\n"
     ]
    }
   ],
   "source": [
    "print(dbook_info['title'])"
   ]
  },
  {
   "cell_type": "code",
   "execution_count": 17,
   "id": "2a1f2dcd",
   "metadata": {},
   "outputs": [
    {
     "name": "stdout",
     "output_type": "stream",
     "text": [
      "('D.Amos', 'D.Bader', 'J.Jabloski', 'F.Heisler')\n"
     ]
    }
   ],
   "source": [
    "print(dbook_info['authors'])"
   ]
  },
  {
   "cell_type": "code",
   "execution_count": 18,
   "id": "1e0136d8",
   "metadata": {},
   "outputs": [
    {
     "data": {
      "text/plain": [
       "'Python Basics'"
      ]
     },
     "execution_count": 18,
     "metadata": {},
     "output_type": "execute_result"
    }
   ],
   "source": [
    "# using get() method\n",
    "\n",
    "dbook_info.get('title')"
   ]
  },
  {
   "cell_type": "markdown",
   "id": "ac32f23a",
   "metadata": {},
   "source": [
    "- In case of `[ ]`, `KeyError` is raised if the key is not found in the dictionary; meanwhile, the `get()` method will return `None`.\n",
    "\n",
    "ถ้าใช้เครื่องหมาย `[ ]` แต่ Key นั้นไม่มีอยู่จะแสดงผลเป็นค่า error แต่ถ้าใช้ `get()` จะให้ผลเป็น `None`"
   ]
  },
  {
   "cell_type": "code",
   "execution_count": 20,
   "id": "b760c113",
   "metadata": {},
   "outputs": [
    {
     "ename": "KeyError",
     "evalue": "'name'",
     "output_type": "error",
     "traceback": [
      "\u001b[1;31m---------------------------------------------------------------------------\u001b[0m",
      "\u001b[1;31mKeyError\u001b[0m                                  Traceback (most recent call last)",
      "Input \u001b[1;32mIn [20]\u001b[0m, in \u001b[0;36m<cell line: 1>\u001b[1;34m()\u001b[0m\n\u001b[1;32m----> 1\u001b[0m \u001b[43mdbook_info\u001b[49m\u001b[43m[\u001b[49m\u001b[38;5;124;43m'\u001b[39;49m\u001b[38;5;124;43mname\u001b[39;49m\u001b[38;5;124;43m'\u001b[39;49m\u001b[43m]\u001b[49m\n",
      "\u001b[1;31mKeyError\u001b[0m: 'name'"
     ]
    }
   ],
   "source": [
    "dbook_info['name']"
   ]
  },
  {
   "cell_type": "code",
   "execution_count": 21,
   "id": "418ddb5d",
   "metadata": {},
   "outputs": [
    {
     "name": "stdout",
     "output_type": "stream",
     "text": [
      "None\n"
     ]
    }
   ],
   "source": [
    "print(dbook_info.get('name'))"
   ]
  },
  {
   "cell_type": "markdown",
   "id": "1e442ea0",
   "metadata": {},
   "source": [
    "### ดังนั้นควรใช้ `get()` ดีกว่า"
   ]
  },
  {
   "cell_type": "markdown",
   "id": "4a2234b2",
   "metadata": {},
   "source": [
    "### Adding & Updating Dictonary\n",
    "1. Adding one value at a time: `Dict[<Key>] = <Value>`\n",
    "2. Updating can be done using the built-in `update()` method.\n",
    "\n",
    "Note that if the key value already exists, the value gets **updated**; otherwise, a new `<Key>` with the `<value>` is **added** to the Dictionary. "
   ]
  },
  {
   "cell_type": "code",
   "execution_count": 22,
   "id": "baa7a662",
   "metadata": {},
   "outputs": [],
   "source": [
    "customer = dict(name = 'Somsri Jaidee', tel = '02-222-1222')"
   ]
  },
  {
   "cell_type": "code",
   "execution_count": 24,
   "id": "e6506f3e",
   "metadata": {},
   "outputs": [],
   "source": [
    "customer['tel'] = '02-218-9999'"
   ]
  },
  {
   "cell_type": "code",
   "execution_count": 26,
   "id": "93a59f79",
   "metadata": {},
   "outputs": [
    {
     "name": "stdout",
     "output_type": "stream",
     "text": [
      "{'name': 'Somsri Jaidee', 'tel': '02-218-9999'}\n"
     ]
    }
   ],
   "source": [
    "print(customer)"
   ]
  },
  {
   "cell_type": "code",
   "execution_count": 28,
   "id": "16406b87",
   "metadata": {},
   "outputs": [],
   "source": [
    "customer['DOB'] = '01-07-1990'"
   ]
  },
  {
   "cell_type": "code",
   "execution_count": 30,
   "id": "55dcee5c",
   "metadata": {},
   "outputs": [
    {
     "name": "stdout",
     "output_type": "stream",
     "text": [
      "{'name': 'Somsri Jaidee', 'tel': '02-218-9999', 'DOB': '01-07-1990'}\n"
     ]
    }
   ],
   "source": [
    "print(customer)"
   ]
  },
  {
   "cell_type": "code",
   "execution_count": 32,
   "id": "6788ed9f",
   "metadata": {},
   "outputs": [
    {
     "name": "stdout",
     "output_type": "stream",
     "text": [
      "{'name': 'Somsri Jaidee', 'tel': '02-218-9999', 'DOB': '01-07-1990', 'address': 'Bangkok'}\n"
     ]
    }
   ],
   "source": [
    "# update() method\n",
    "# Parameter: a dictionary, or an iterable object with key:value pairs.\n",
    "\n",
    "customer.update({'address':'Bangkok'})\n",
    "print(customer)"
   ]
  },
  {
   "cell_type": "code",
   "execution_count": 34,
   "id": "615472a1",
   "metadata": {},
   "outputs": [
    {
     "name": "stdout",
     "output_type": "stream",
     "text": [
      "{'name': 'Somsri Jaidee', 'tel': '02-218-9999', 'DOB': '01-07-1990', 'address': 'Udonthani'}\n"
     ]
    }
   ],
   "source": [
    "customer.update({'address':'Udonthani'})\n",
    "print(customer)"
   ]
  },
  {
   "cell_type": "markdown",
   "id": "37046230",
   "metadata": {},
   "source": [
    "### Deleting Dictionary\n",
    "1. `del` keyword deletes the **item** with the specified **key** name, and `del Dict` will delete the entire dictionary;\n",
    "2. `pop()` method deletes the **item** with the specified **key** name, and return the **value**.\n",
    "3. `popitem()` method deletes the **last_item** (key,value) pair from the dictionary.\n",
    "4. `clear()` method deletes all the items from the dictionary."
   ]
  },
  {
   "cell_type": "code",
   "execution_count": 35,
   "id": "8165456b",
   "metadata": {},
   "outputs": [
    {
     "name": "stdout",
     "output_type": "stream",
     "text": [
      "{'name': 'Somsri Jaidee', 'tel': '02-218-9999', 'DOB': '01-07-1990', 'address': 'Udonthani'}\n",
      "{'name': 'Somsri Jaidee', 'tel': '02-218-9999', 'DOB': '01-07-1990'}\n"
     ]
    }
   ],
   "source": [
    "# Using del keyword to delete the item with the specified key name.\n",
    "\n",
    "print(customer)\n",
    "del customer['address']\n",
    "print(customer)"
   ]
  },
  {
   "cell_type": "code",
   "execution_count": 36,
   "id": "47d0d2a8",
   "metadata": {},
   "outputs": [
    {
     "ename": "NameError",
     "evalue": "name 'customer' is not defined",
     "output_type": "error",
     "traceback": [
      "\u001b[1;31m---------------------------------------------------------------------------\u001b[0m",
      "\u001b[1;31mNameError\u001b[0m                                 Traceback (most recent call last)",
      "Input \u001b[1;32mIn [36]\u001b[0m, in \u001b[0;36m<cell line: 4>\u001b[1;34m()\u001b[0m\n\u001b[0;32m      1\u001b[0m \u001b[38;5;66;03m# Using del to delete the whole Dict\u001b[39;00m\n\u001b[0;32m      3\u001b[0m \u001b[38;5;28;01mdel\u001b[39;00m customer\n\u001b[1;32m----> 4\u001b[0m \u001b[38;5;28mprint\u001b[39m(\u001b[43mcustomer\u001b[49m)\n",
      "\u001b[1;31mNameError\u001b[0m: name 'customer' is not defined"
     ]
    }
   ],
   "source": [
    "# Using del to delete the whole Dict\n",
    "\n",
    "del customer\n",
    "print(customer)"
   ]
  },
  {
   "cell_type": "markdown",
   "id": "0d3fc4d5",
   "metadata": {},
   "source": [
    "- `pop()` method deletes the **item** with the specified **key** name, and return the **value**."
   ]
  },
  {
   "cell_type": "code",
   "execution_count": 38,
   "id": "2235a1a5",
   "metadata": {},
   "outputs": [
    {
     "name": "stdout",
     "output_type": "stream",
     "text": [
      "{'title': 'Python Basics', 'price': 39.99, 'year': 2021, 'authors': ('D.Amos', 'D.Bader', 'J.Jabloski', 'F.Heisler')}\n"
     ]
    }
   ],
   "source": [
    "print(dbook_info)"
   ]
  },
  {
   "cell_type": "code",
   "execution_count": 42,
   "id": "9cfd3a6f",
   "metadata": {},
   "outputs": [
    {
     "name": "stdout",
     "output_type": "stream",
     "text": [
      "39.99\n"
     ]
    }
   ],
   "source": [
    "p = dbook_info.pop('price')\n",
    "print(p)"
   ]
  },
  {
   "cell_type": "code",
   "execution_count": 44,
   "id": "79370da5",
   "metadata": {},
   "outputs": [
    {
     "name": "stdout",
     "output_type": "stream",
     "text": [
      "{'title': 'Python Basics', 'year': 2021, 'authors': ('D.Amos', 'D.Bader', 'J.Jabloski', 'F.Heisler')}\n"
     ]
    }
   ],
   "source": [
    "print(dbook_info)"
   ]
  },
  {
   "cell_type": "markdown",
   "id": "8922b2a8",
   "metadata": {},
   "source": [
    "- `popitem()` method deletes the **last item** (key,value) pair from the dictionary. **Last in first out (LIFO)**"
   ]
  },
  {
   "cell_type": "code",
   "execution_count": 45,
   "id": "ed29b3e0",
   "metadata": {},
   "outputs": [
    {
     "name": "stdout",
     "output_type": "stream",
     "text": [
      "('authors', ('D.Amos', 'D.Bader', 'J.Jabloski', 'F.Heisler'))\n"
     ]
    }
   ],
   "source": [
    "i =dbook_info.popitem()\n",
    "print(i)"
   ]
  },
  {
   "cell_type": "markdown",
   "id": "e56e613d",
   "metadata": {},
   "source": [
    "- `clear()` method deletes **all items** from the dictionary."
   ]
  },
  {
   "cell_type": "code",
   "execution_count": 46,
   "id": "28524b1a",
   "metadata": {},
   "outputs": [
    {
     "name": "stdout",
     "output_type": "stream",
     "text": [
      "{}\n"
     ]
    }
   ],
   "source": [
    "dbook_info.clear()\n",
    "print(dbook_info)"
   ]
  },
  {
   "cell_type": "markdown",
   "id": "26fd50f9",
   "metadata": {},
   "source": [
    "### Iterating through Dictionary\n",
    "- We can use `for` loop to iterate through dictionaries."
   ]
  },
  {
   "cell_type": "code",
   "execution_count": 47,
   "id": "330548ac",
   "metadata": {},
   "outputs": [],
   "source": [
    "sport = dict(soccer=11, rugby=15, volleyball=6, basketball=5, polo=4, softball=9)"
   ]
  },
  {
   "cell_type": "code",
   "execution_count": 48,
   "id": "c40afcfd",
   "metadata": {},
   "outputs": [
    {
     "name": "stdout",
     "output_type": "stream",
     "text": [
      "{'soccer': 11, 'rugby': 15, 'volleyball': 6, 'basketball': 5, 'polo': 4, 'softball': 9}\n"
     ]
    }
   ],
   "source": [
    "print(sport)"
   ]
  },
  {
   "cell_type": "code",
   "execution_count": 50,
   "id": "c60181b1",
   "metadata": {},
   "outputs": [
    {
     "name": "stdout",
     "output_type": "stream",
     "text": [
      "soccer\n",
      "rugby\n",
      "volleyball\n",
      "basketball\n",
      "polo\n",
      "softball\n"
     ]
    }
   ],
   "source": [
    "# loop by keys\n",
    "\n",
    "for i in sport.keys():\n",
    "    print(i)"
   ]
  },
  {
   "cell_type": "code",
   "execution_count": 51,
   "id": "ad64bb97",
   "metadata": {},
   "outputs": [
    {
     "name": "stdout",
     "output_type": "stream",
     "text": [
      "soccer\n",
      "rugby\n",
      "volleyball\n",
      "basketball\n",
      "polo\n",
      "softball\n"
     ]
    }
   ],
   "source": [
    "for i in sport:\n",
    "    print(i)"
   ]
  },
  {
   "cell_type": "code",
   "execution_count": 52,
   "id": "8ac0718a",
   "metadata": {},
   "outputs": [
    {
     "name": "stdout",
     "output_type": "stream",
     "text": [
      "11\n",
      "15\n",
      "6\n",
      "5\n",
      "4\n",
      "9\n"
     ]
    }
   ],
   "source": [
    "# loop by values\n",
    "\n",
    "for i in sport.values():\n",
    "    print(i)"
   ]
  },
  {
   "cell_type": "code",
   "execution_count": 53,
   "id": "2224af31",
   "metadata": {},
   "outputs": [
    {
     "name": "stdout",
     "output_type": "stream",
     "text": [
      "11\n",
      "15\n",
      "6\n",
      "5\n",
      "4\n",
      "9\n"
     ]
    }
   ],
   "source": [
    "for i in sport:\n",
    "    print(sport[i])"
   ]
  },
  {
   "cell_type": "code",
   "execution_count": 57,
   "id": "06f42834",
   "metadata": {},
   "outputs": [
    {
     "name": "stdout",
     "output_type": "stream",
     "text": [
      "('soccer', 11)\n",
      "('rugby', 15)\n",
      "('volleyball', 6)\n",
      "('basketball', 5)\n",
      "('polo', 4)\n",
      "('softball', 9)\n"
     ]
    }
   ],
   "source": [
    "# loop by item (key-value)\n",
    "for i in sport.items():\n",
    "    print(i)\n",
    "# การทำเช่นนี้จะ return ค่าออกมาเป็น tuple"
   ]
  },
  {
   "cell_type": "code",
   "execution_count": 58,
   "id": "cbf8adb7",
   "metadata": {},
   "outputs": [
    {
     "name": "stdout",
     "output_type": "stream",
     "text": [
      "soccer 11\n",
      "rugby 15\n",
      "volleyball 6\n",
      "basketball 5\n",
      "polo 4\n",
      "softball 9\n"
     ]
    }
   ],
   "source": [
    "for s, p in sport.items():\n",
    "    print(s,p)\n",
    "    \n",
    "# ส่วนนี้ก็จะเป็นการเอาตัวแปรมารับค่าที่ออกมาจาก Dictionary"
   ]
  },
  {
   "cell_type": "markdown",
   "id": "32194818",
   "metadata": {},
   "source": [
    "### Cloning or copying Dictionary\n",
    "1. `copy()` method copies a dictionary\n",
    "2. `dict()` function can be used t o copying a distionary."
   ]
  },
  {
   "cell_type": "code",
   "execution_count": 60,
   "id": "8b2c790f",
   "metadata": {},
   "outputs": [
    {
     "name": "stdout",
     "output_type": "stream",
     "text": [
      "{'soccer': 11, 'rugby': 15, 'volleyball': 6, 'basketball': 5, 'polo': 4, 'softball': 9}\n"
     ]
    }
   ],
   "source": [
    "a = sport.copy()\n",
    "print(a)"
   ]
  },
  {
   "cell_type": "code",
   "execution_count": 64,
   "id": "8d2caa30",
   "metadata": {},
   "outputs": [
    {
     "data": {
      "text/plain": [
       "('softball', 9)"
      ]
     },
     "execution_count": 64,
     "metadata": {},
     "output_type": "execute_result"
    }
   ],
   "source": [
    "a.popitem()"
   ]
  },
  {
   "cell_type": "code",
   "execution_count": 65,
   "id": "18aa0e43",
   "metadata": {},
   "outputs": [
    {
     "name": "stdout",
     "output_type": "stream",
     "text": [
      "{'soccer': 11, 'rugby': 15, 'volleyball': 6, 'basketball': 5, 'polo': 4}\n"
     ]
    }
   ],
   "source": [
    "print(a)"
   ]
  },
  {
   "cell_type": "code",
   "execution_count": 66,
   "id": "71914bac",
   "metadata": {},
   "outputs": [
    {
     "name": "stdout",
     "output_type": "stream",
     "text": [
      "{'soccer': 11, 'rugby': 15, 'volleyball': 6, 'basketball': 5, 'polo': 4, 'softball': 9}\n"
     ]
    }
   ],
   "source": [
    "print(sport)"
   ]
  },
  {
   "cell_type": "code",
   "execution_count": 67,
   "id": "6d776db8",
   "metadata": {},
   "outputs": [],
   "source": [
    "b = dict(sport)"
   ]
  },
  {
   "cell_type": "code",
   "execution_count": 68,
   "id": "e30757c3",
   "metadata": {},
   "outputs": [
    {
     "name": "stdout",
     "output_type": "stream",
     "text": [
      "{'soccer': 11, 'rugby': 15, 'volleyball': 6, 'basketball': 5, 'polo': 4, 'softball': 9}\n"
     ]
    }
   ],
   "source": [
    "print(b)"
   ]
  },
  {
   "cell_type": "code",
   "execution_count": 69,
   "id": "c276d2de",
   "metadata": {},
   "outputs": [],
   "source": [
    "del b['soccer']"
   ]
  },
  {
   "cell_type": "code",
   "execution_count": 70,
   "id": "273a63ab",
   "metadata": {},
   "outputs": [
    {
     "name": "stdout",
     "output_type": "stream",
     "text": [
      "{'rugby': 15, 'volleyball': 6, 'basketball': 5, 'polo': 4, 'softball': 9}\n"
     ]
    }
   ],
   "source": [
    "print(b)"
   ]
  },
  {
   "cell_type": "code",
   "execution_count": 71,
   "id": "4988affa",
   "metadata": {},
   "outputs": [
    {
     "name": "stdout",
     "output_type": "stream",
     "text": [
      "{'soccer': 11, 'rugby': 15, 'volleyball': 6, 'basketball': 5, 'polo': 4, 'softball': 9}\n"
     ]
    }
   ],
   "source": [
    "print(sport)"
   ]
  },
  {
   "attachments": {
    "%E0%B8%AA%E0%B8%81%E0%B8%A3%E0%B8%B5%E0%B8%99%E0%B8%8A%E0%B9%87%E0%B8%AD%E0%B8%95%202022-10-17%20114158.png": {
     "image/png": "[encoded data removed]"
    }
   },
   "cell_type": "markdown",
   "id": "bdef7261",
   "metadata": {},
   "source": [
    "![%E0%B8%AA%E0%B8%81%E0%B8%A3%E0%B8%B5%E0%B8%99%E0%B8%8A%E0%B9%87%E0%B8%AD%E0%B8%95%202022-10-17%20114158.png](attachment:%E0%B8%AA%E0%B8%81%E0%B8%A3%E0%B8%B5%E0%B8%99%E0%B8%8A%E0%B9%87%E0%B8%AD%E0%B8%95%202022-10-17%20114158.png)"
   ]
  },
  {
   "cell_type": "markdown",
   "id": "5ddc3cc4",
   "metadata": {},
   "source": [
    "### Dictionary เวลา Clone หรือ Copy จะสร้างพื้นที่ในหน่วยความจำขึ้นมาใหม่ "
   ]
  },
  {
   "cell_type": "markdown",
   "id": "48836490",
   "metadata": {},
   "source": [
    "## Nested Dictionary\n",
    "\n",
    "การเขียน Dictionary ซ้อน Dictionary"
   ]
  },
  {
   "cell_type": "code",
   "execution_count": 73,
   "id": "cd4b2d14",
   "metadata": {},
   "outputs": [],
   "source": [
    "kids = {1:{'name':'Poom','age':10},\n",
    "       2: {'name':'Pao','age':9},\n",
    "       3: {'name':'Put','age':7}\n",
    "       }"
   ]
  }
 ],
 "metadata": {
  "kernelspec": {
   "display_name": "Python 3 (ipykernel)",
   "language": "python",
   "name": "python3"
  },
  "language_info": {
   "codemirror_mode": {
    "name": "ipython",
    "version": 3
   },
   "file_extension": ".py",
   "mimetype": "text/x-python",
   "name": "python",
   "nbconvert_exporter": "python",
   "pygments_lexer": "ipython3",
   "version": "3.10.8"
  },
  "vscode": {
   "interpreter": {
    "hash": "685e03021fbac60f1cd5975c90c79fd02b78ea99482fd35fde8fd9b6aa423317"
   }
  }
 },
 "nbformat": 4,
 "nbformat_minor": 5
}
